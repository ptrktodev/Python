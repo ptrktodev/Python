{
 "cells": [
  {
   "cell_type": "code",
   "execution_count": null,
   "metadata": {},
   "outputs": [],
   "source": []
  },
  {
   "cell_type": "code",
   "execution_count": 20,
   "metadata": {},
   "outputs": [
    {
     "data": {
      "text/plain": [
       "Numero da Venda             1\n",
       "Data da Venda      01/01/2017\n",
       "ID Produto                981\n",
       "Name: 0, dtype: object"
      ]
     },
     "execution_count": 20,
     "metadata": {},
     "output_type": "execute_result"
    }
   ],
   "source": [
    "import pandas as pd\n",
    "# print(pd.__version__)\n",
    "vendas_dataFrames = pd.read_csv('Contoso_Vendas _2017.csv', sep = ';') # Lê o arquivo CSV com o delimitador \";\"\n",
    "analise_produto = vendas_dataFrames[['Numero da Venda', 'Data da Venda', 'ID Produto']] # Seleciona as colunas desejadas\n",
    "analise_produto.iloc[0] # Aces+sa a primeira linha do DataFrame utilizando o método .iloc"
   ]
  }
 ],
 "metadata": {
  "kernelspec": {
   "display_name": "Python 3",
   "language": "python",
   "name": "python3"
  },
  "language_info": {
   "codemirror_mode": {
    "name": "ipython",
    "version": 3
   },
   "file_extension": ".py",
   "mimetype": "text/x-python",
   "name": "python",
   "nbconvert_exporter": "python",
   "pygments_lexer": "ipython3",
   "version": "3.10.12"
  },
  "orig_nbformat": 4
 },
 "nbformat": 4,
 "nbformat_minor": 2
}
