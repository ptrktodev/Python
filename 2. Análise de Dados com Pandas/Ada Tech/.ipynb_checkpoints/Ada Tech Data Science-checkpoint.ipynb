{
 "cells": [
  {
   "cell_type": "markdown",
   "id": "e2fe51e1",
   "metadata": {},
   "source": [
    "# 🧶 Intensivo Curso Ada Tech: Data Science."
   ]
  },
  {
   "cell_type": "markdown",
   "id": "d0f38caf",
   "metadata": {},
   "source": [
    "<img src=\"ada.svg\" width=\"200rem\">"
   ]
  },
  {
   "cell_type": "markdown",
   "id": "8cb3c429",
   "metadata": {},
   "source": [
    "**Bibliotecas Utilizadas:**\n",
    "> 🐼 pandas para manipulação e análise de dados tabulares. Doc: https://bit.ly/46BOzo6\n",
    "\n",
    "> 0️⃣ numpy para funções e operações matemáticas de alto desempenho. Doc: https://bit.ly/3PJGRRK\n",
    "\n",
    "> 🤖 scikit-learn para aprendizado de máquina e que fornece ferramentas para treinar modelos.\n",
    "\n",
    "> 📊 matplotlib para criação de gráficos e visualização de dados."
   ]
  },
  {
   "cell_type": "code",
   "execution_count": 42,
   "id": "4a481abd",
   "metadata": {},
   "outputs": [],
   "source": [
    "import pandas as pd\n",
    "import numpy as np\n",
    "import sklearn as sk\n",
    "import matplotlib as plt"
   ]
  },
  {
   "cell_type": "markdown",
   "id": "9da27865",
   "metadata": {},
   "source": [
    "## Introdução ao Numpy:"
   ]
  },
  {
   "cell_type": "code",
   "execution_count": 2,
   "id": "8888d1e2",
   "metadata": {},
   "outputs": [],
   "source": [
    "# Arrays: Estrutura de dados.\n",
    "\n",
    "listanumerica = [1, 2, 3, 4, 5]\n",
    "listaArrayNumpy = np.array(listanumerica) # A lista torna-se um Array do numpy"
   ]
  },
  {
   "cell_type": "code",
   "execution_count": 3,
   "id": "6ed0511f",
   "metadata": {},
   "outputs": [
    {
     "name": "stdout",
     "output_type": "stream",
     "text": [
      "[1, 2, 3, 4, 5]\n",
      "[1 2 3 4 5]\n"
     ]
    }
   ],
   "source": [
    "print(listanumerica)\n",
    "print(listaArrayNumpy)"
   ]
  },
  {
   "cell_type": "code",
   "execution_count": 4,
   "id": "46a52fc5",
   "metadata": {},
   "outputs": [
    {
     "name": "stdout",
     "output_type": "stream",
     "text": [
      "[[0. 0. 0. 0. 0.]\n",
      " [0. 0. 0. 0. 0.]\n",
      " [0. 0. 0. 0. 0.]\n",
      " [0. 0. 0. 0. 0.]]\n"
     ]
    }
   ],
   "source": [
    "# Matrizes: Grade de valores.\n",
    "\n",
    "matrizes_np = np.zeros((4, 5)) \n",
    "print(matrizes_np)"
   ]
  },
  {
   "cell_type": "code",
   "execution_count": 20,
   "id": "c6a74723",
   "metadata": {},
   "outputs": [
    {
     "name": "stdout",
     "output_type": "stream",
     "text": [
      "Nota máxima: 8.2\n",
      "Nota mínimo: 3.4\n",
      "Nota média: 6.02\n",
      "Posição da menor nota na Array: 4\n",
      "Desvio padrão: 1.5574337867145427\n"
     ]
    }
   ],
   "source": [
    "# Cálculo de estatísticas das notas (Max, Min e Média)\n",
    "\n",
    "lista_notas1 = [6.7, 5.8, 8.2, 6.0, 3.4]\n",
    "notas1 = np.array(lista_notas1)\n",
    "\n",
    "print(f\"Nota máxima: {notas1.max()}\") \n",
    "print(f\"Nota mínimo: {notas1.min()}\")\n",
    "print(f\"Nota média: {notas1.mean()}\")\n",
    "\n",
    "print(f\"Posição da menor nota na Array: {notas1.argmin()}\")\n",
    "print(f\"Desvio padrão: {notas1.std()}\")"
   ]
  },
  {
   "cell_type": "markdown",
   "id": "576de6c4",
   "metadata": {},
   "source": [
    "###  • Máscara Booleana:\n",
    "> ❓ Usada para filtrar ou selecionar elementos em um conjunto de dados. Aplicar condições lógicas, como \"verdadeiro\" ou \"falso\", em elementos individuais de um conjunto, permitindo que você escolha quais elementos deseja incluir ou excluir com base nessas condições."
   ]
  },
  {
   "cell_type": "code",
   "execution_count": 49,
   "id": "de85b50c",
   "metadata": {},
   "outputs": [
    {
     "name": "stdout",
     "output_type": "stream",
     "text": [
      "['C19' 'No' 'C19' 'No' 'C19' 'No']\n"
     ]
    }
   ],
   "source": [
    "covid = np.array(['Yes', 'No', 'Yes', 'No', 'Yes', 'No'])\n",
    "\n",
    "maskcovid_yes = covid == 'Yes'\n",
    "\n",
    "covid[maskcovid_yes] = 'C19'\n",
    "\n",
    "print(covid)"
   ]
  },
  {
   "cell_type": "code",
   "execution_count": 47,
   "id": "55992a1a",
   "metadata": {},
   "outputs": [
    {
     "name": "stdout",
     "output_type": "stream",
     "text": [
      "['C19' 'Not' 'C19' 'Not' 'C19' 'Not']\n"
     ]
    }
   ],
   "source": [
    "Cov19 = np.array(['Yes', 'No', 'Yes', 'No', 'Yes', 'No'])\n",
    "\n",
    "Cov19[Cov19 == 'Yes'] = 'C19'\n",
    "Cov19[Cov19 == 'No'] = 'Not'\n",
    "\n",
    "print(Cov19)"
   ]
  },
  {
   "cell_type": "code",
   "execution_count": 48,
   "id": "8e32d375",
   "metadata": {},
   "outputs": [
    {
     "name": "stdout",
     "output_type": "stream",
     "text": [
      "[False False False False  True False False]\n",
      "[9.1]\n"
     ]
    }
   ],
   "source": [
    "notas = np.array([6.8, 4.8, 7.8 , 5.7, 9.1, 5.6, 3.2])\n",
    "mask_notas = notas > 8\n",
    "\n",
    "print(mask_notas) # Dados Booleanos conforme cada item da Array\n",
    "print(notas[mask_notas]) # Resulta em somente aos itens que correspondem aos critérios"
   ]
  },
  {
   "cell_type": "code",
   "execution_count": 57,
   "id": "6d79cf0b",
   "metadata": {},
   "outputs": [
    {
     "name": "stdout",
     "output_type": "stream",
     "text": [
      "Notas aprovadas: [9.1 8.3]\n",
      "Notas reprovadas: [6.8 4.8 7.8 5.7 5.6 3.2 6.5 7.3]\n"
     ]
    }
   ],
   "source": [
    "# Exercicio:\n",
    "\n",
    "notas_School = np.array([6.8, 4.8, 7.8 , 5.7, 9.1, 5.6, 3.2, 6.5, 8.3, 7.3])\n",
    "\n",
    "mask_pos = notas_School >= 8 # Abordagem 1 (mesma finalidade)\n",
    "mask_neg = [notas < 8 for notas in notas_School] # Abordagem 2 (mesma finalidade)\n",
    "\n",
    "print(f\"Notas aprovadas: {notas_School[mask_pos]}\")\n",
    "print(f\"Notas reprovadas: {notas_School[mask_neg]}\")"
   ]
  },
  {
   "cell_type": "code",
   "execution_count": null,
   "id": "2303c7d7",
   "metadata": {},
   "outputs": [],
   "source": []
  }
 ],
 "metadata": {
  "kernelspec": {
   "display_name": "Python 3 (ipykernel)",
   "language": "python",
   "name": "python3"
  },
  "language_info": {
   "codemirror_mode": {
    "name": "ipython",
    "version": 3
   },
   "file_extension": ".py",
   "mimetype": "text/x-python",
   "name": "python",
   "nbconvert_exporter": "python",
   "pygments_lexer": "ipython3",
   "version": "3.11.4"
  }
 },
 "nbformat": 4,
 "nbformat_minor": 5
}
