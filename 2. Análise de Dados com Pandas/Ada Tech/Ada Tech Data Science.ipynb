{
 "cells": [
  {
   "cell_type": "markdown",
   "id": "e2fe51e1",
   "metadata": {},
   "source": [
    "# 🧶 Intensivo Curso Ada Tech: Data Science."
   ]
  },
  {
   "cell_type": "markdown",
   "id": "d0f38caf",
   "metadata": {},
   "source": [
    "<img src=\"ada.svg\" width=\"200rem\">"
   ]
  },
  {
   "cell_type": "markdown",
   "id": "8cb3c429",
   "metadata": {},
   "source": [
    "**Bibliotecas Utilizadas:**\n",
    "> 🐼 pandas para manipulação e análise de dados tabulares. Doc: https://bit.ly/46BOzo6\n",
    "\n",
    "> 0️⃣ numpy para funções e operações matemáticas de alto desempenho. Doc: https://bit.ly/3PJGRRK\n",
    "\n",
    "> 🤖 scikit-learn para aprendizado de máquina e que fornece ferramentas para treinar modelos.\n",
    "\n",
    "> 📊 matplotlib para criação de gráficos e visualização de dados."
   ]
  },
  {
   "cell_type": "code",
   "execution_count": 30,
   "id": "4a481abd",
   "metadata": {},
   "outputs": [],
   "source": [
    "import pandas as pd\n",
    "import numpy as np\n",
    "import sklearn as sk\n",
    "import matplotlib as plt"
   ]
  },
  {
   "cell_type": "markdown",
   "id": "9da27865",
   "metadata": {},
   "source": [
    "## Introdução ao Numpy:"
   ]
  },
  {
   "cell_type": "code",
   "execution_count": 31,
   "id": "8888d1e2",
   "metadata": {},
   "outputs": [],
   "source": [
    "# Arrays: Estrutura de dados.\n",
    "\n",
    "listanumerica = [1, 2, 3, 4, 5]\n",
    "listaArrayNumpy = np.array(listanumerica) # A lista torna-se um Array do numpy"
   ]
  },
  {
   "cell_type": "code",
   "execution_count": 32,
   "id": "6ed0511f",
   "metadata": {},
   "outputs": [
    {
     "name": "stdout",
     "output_type": "stream",
     "text": [
      "[1, 2, 3, 4, 5]\n",
      "[1 2 3 4 5]\n"
     ]
    }
   ],
   "source": [
    "print(listanumerica)\n",
    "print(listaArrayNumpy)"
   ]
  },
  {
   "cell_type": "code",
   "execution_count": 33,
   "id": "46a52fc5",
   "metadata": {},
   "outputs": [
    {
     "name": "stdout",
     "output_type": "stream",
     "text": [
      "[[0. 0. 0. 0. 0.]\n",
      " [0. 0. 0. 0. 0.]\n",
      " [0. 0. 0. 0. 0.]\n",
      " [0. 0. 0. 0. 0.]]\n"
     ]
    }
   ],
   "source": [
    "# Matrizes: Grade de valores.\n",
    "\n",
    "matrizes_np = np.zeros((4, 5)) \n",
    "print(matrizes_np)"
   ]
  },
  {
   "cell_type": "code",
   "execution_count": 34,
   "id": "c6a74723",
   "metadata": {},
   "outputs": [
    {
     "name": "stdout",
     "output_type": "stream",
     "text": [
      "Nota máxima: 8.2\n",
      "Nota mínimo: 3.4\n",
      "Nota média: 6.02\n",
      "Posição da menor nota na Array: 4\n",
      "Desvio padrão: 1.5574337867145427\n"
     ]
    }
   ],
   "source": [
    "# Cálculo de estatísticas das notas (Max, Min e Média)\n",
    "\n",
    "lista_notas1 = [6.7, 5.8, 8.2, 6.0, 3.4]\n",
    "notas1 = np.array(lista_notas1)\n",
    "\n",
    "print(f\"Nota máxima: {notas1.max()}\") \n",
    "print(f\"Nota mínimo: {notas1.min()}\")\n",
    "print(f\"Nota média: {notas1.mean()}\")\n",
    "\n",
    "print(f\"Posição da menor nota na Array: {notas1.argmin()}\")\n",
    "print(f\"Desvio padrão: {notas1.std()}\")"
   ]
  },
  {
   "cell_type": "code",
   "execution_count": null,
   "id": "de85b50c",
   "metadata": {},
   "outputs": [],
   "source": []
  }
 ],
 "metadata": {
  "kernelspec": {
   "display_name": "Python 3 (ipykernel)",
   "language": "python",
   "name": "python3"
  },
  "language_info": {
   "codemirror_mode": {
    "name": "ipython",
    "version": 3
   },
   "file_extension": ".py",
   "mimetype": "text/x-python",
   "name": "python",
   "nbconvert_exporter": "python",
   "pygments_lexer": "ipython3",
   "version": "3.11.4"
  }
 },
 "nbformat": 4,
 "nbformat_minor": 5
}
