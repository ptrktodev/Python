{
 "cells": [
  {
   "cell_type": "markdown",
   "id": "e2fe51e1",
   "metadata": {},
   "source": [
    "# 🧶 Intensivo Curso Ada Tech: Data Science."
   ]
  },
  {
   "cell_type": "markdown",
   "id": "d0f38caf",
   "metadata": {},
   "source": [
    "<img src=\"ada.svg\" width=\"200rem\">"
   ]
  },
  {
   "cell_type": "markdown",
   "id": "8cb3c429",
   "metadata": {},
   "source": [
    "**Bibliotecas Utilizadas:**\n",
    "> 🐼 pandas para manipulação e análise de dados tabulares. Doc: https://bit.ly/46BOzo6\n",
    "\n",
    "> 0️⃣ numpy para funções e operações matemáticas de alto desempenho. Doc: https://bit.ly/3PJGRRK\n",
    "\n",
    "> 🤖 scikit-learn para aprendizado de máquina e que fornece ferramentas para treinar modelos.\n",
    "\n",
    "> 📊 matplotlib para criação de gráficos e visualização de dados."
   ]
  },
  {
   "cell_type": "code",
   "execution_count": 1,
   "id": "4a481abd",
   "metadata": {},
   "outputs": [],
   "source": [
    "import pandas as pd\n",
    "import numpy as np\n",
    "import sklearn as sk\n",
    "import matplotlib as plt"
   ]
  },
  {
   "cell_type": "markdown",
   "id": "9da27865",
   "metadata": {},
   "source": [
    "## Introdução ao Numpy:"
   ]
  },
  {
   "cell_type": "code",
   "execution_count": 2,
   "id": "8888d1e2",
   "metadata": {},
   "outputs": [],
   "source": [
    "# Arrays: Estrutura de dados.\n",
    "\n",
    "listanumerica = [1, 2, 3, 4, 5]\n",
    "listaArrayNumpy = np.array(listanumerica) # A lista torna-se um Array do numpy"
   ]
  },
  {
   "cell_type": "code",
   "execution_count": 3,
   "id": "6ed0511f",
   "metadata": {},
   "outputs": [
    {
     "name": "stdout",
     "output_type": "stream",
     "text": [
      "[1, 2, 3, 4, 5]\n",
      "[1 2 3 4 5]\n"
     ]
    }
   ],
   "source": [
    "print(listanumerica)\n",
    "print(listaArrayNumpy)"
   ]
  },
  {
   "cell_type": "code",
   "execution_count": 4,
   "id": "46a52fc5",
   "metadata": {},
   "outputs": [
    {
     "name": "stdout",
     "output_type": "stream",
     "text": [
      "[[0. 0. 0. 0. 0.]\n",
      " [0. 0. 0. 0. 0.]\n",
      " [0. 0. 0. 0. 0.]\n",
      " [0. 0. 0. 0. 0.]]\n"
     ]
    }
   ],
   "source": [
    "# Matrizes: Grade de valores.\n",
    "\n",
    "matrizes_np = np.zeros((4, 5)) \n",
    "print(matrizes_np)"
   ]
  },
  {
   "cell_type": "code",
   "execution_count": 5,
   "id": "c6a74723",
   "metadata": {},
   "outputs": [
    {
     "name": "stdout",
     "output_type": "stream",
     "text": [
      "Nota máxima: 8.2\n",
      "Nota mínimo: 3.4\n",
      "Nota média: 6.02\n",
      "Posição da menor nota na Array: 4\n",
      "Desvio padrão: 1.5574337867145427\n"
     ]
    }
   ],
   "source": [
    "# Cálculo de estatísticas das notas (Max, Min e Média)\n",
    "\n",
    "lista_notas1 = [6.7, 5.8, 8.2, 6.0, 3.4]\n",
    "notas1 = np.array(lista_notas1)\n",
    "\n",
    "print(f\"Nota máxima: {notas1.max()}\") \n",
    "print(f\"Nota mínimo: {notas1.min()}\")\n",
    "print(f\"Nota média: {notas1.mean()}\")\n",
    "\n",
    "print(f\"Posição da menor nota na Array: {notas1.argmin()}\")\n",
    "print(f\"Desvio padrão: {notas1.std()}\")"
   ]
  },
  {
   "cell_type": "markdown",
   "id": "576de6c4",
   "metadata": {},
   "source": [
    "###  • Máscara Booleana:\n",
    "> ❓ Usada para filtrar ou selecionar elementos em um conjunto de dados. Aplicar condições lógicas, como \"verdadeiro\" ou \"falso\", em elementos individuais de um conjunto, permitindo que você escolha quais elementos deseja incluir ou excluir com base nessas condições."
   ]
  },
  {
   "cell_type": "code",
   "execution_count": 6,
   "id": "de85b50c",
   "metadata": {},
   "outputs": [
    {
     "name": "stdout",
     "output_type": "stream",
     "text": [
      "['C19' 'No' 'C19' 'No' 'C19' 'No']\n"
     ]
    }
   ],
   "source": [
    "covid = np.array(['Yes', 'No', 'Yes', 'No', 'Yes', 'No'])\n",
    "\n",
    "maskcovid_yes = covid == 'Yes'\n",
    "\n",
    "covid[maskcovid_yes] = 'C19'\n",
    "\n",
    "print(covid)"
   ]
  },
  {
   "cell_type": "code",
   "execution_count": 7,
   "id": "55992a1a",
   "metadata": {},
   "outputs": [
    {
     "name": "stdout",
     "output_type": "stream",
     "text": [
      "['C19' 'Not' 'C19' 'Not' 'C19' 'Not']\n"
     ]
    }
   ],
   "source": [
    "Cov19 = np.array(['Yes', 'No', 'Yes', 'No', 'Yes', 'No'])\n",
    "\n",
    "Cov19[Cov19 == 'Yes'] = 'C19'\n",
    "Cov19[Cov19 == 'No'] = 'Not'\n",
    "\n",
    "print(Cov19)"
   ]
  },
  {
   "cell_type": "code",
   "execution_count": 8,
   "id": "8e32d375",
   "metadata": {},
   "outputs": [
    {
     "name": "stdout",
     "output_type": "stream",
     "text": [
      "[False False False False  True False False]\n",
      "[9.1]\n"
     ]
    }
   ],
   "source": [
    "notas = np.array([6.8, 4.8, 7.8 , 5.7, 9.1, 5.6, 3.2])\n",
    "mask_notas = notas > 8\n",
    "\n",
    "print(mask_notas) # Dados Booleanos conforme cada item da Array\n",
    "print(notas[mask_notas]) # Resulta em somente aos itens que correspondem aos critérios"
   ]
  },
  {
   "cell_type": "code",
   "execution_count": 9,
   "id": "6d79cf0b",
   "metadata": {},
   "outputs": [
    {
     "name": "stdout",
     "output_type": "stream",
     "text": [
      "Notas aprovadas: [9.1 8.3]\n",
      "Notas reprovadas: [6.8 4.8 7.8 5.7 5.6 3.2 6.5 7.3]\n"
     ]
    }
   ],
   "source": [
    "# Exercicio:\n",
    "\n",
    "notas_School = np.array([6.8, 4.8, 7.8 , 5.7, 9.1, 5.6, 3.2, 6.5, 8.3, 7.3])\n",
    "\n",
    "mask_pos = notas_School >= 8 # Abordagem 1 (mesma finalidade)\n",
    "mask_neg = [notas < 8 for notas in notas_School] # Abordagem 2 (mesma finalidade)\n",
    "\n",
    "print(f\"Notas aprovadas: {notas_School[mask_pos]}\")\n",
    "print(f\"Notas reprovadas: {notas_School[mask_neg]}\")"
   ]
  },
  {
   "cell_type": "markdown",
   "id": "fc4a62d6",
   "metadata": {},
   "source": [
    "## Introdução ao Pandas:"
   ]
  },
  {
   "cell_type": "code",
   "execution_count": 10,
   "id": "772e97fc",
   "metadata": {},
   "outputs": [
    {
     "data": {
      "text/plain": [
       "'Internacional'"
      ]
     },
     "execution_count": 10,
     "metadata": {},
     "output_type": "execute_result"
    }
   ],
   "source": [
    "# Series\n",
    "\n",
    "times = ['Internacional', 'Grêmio', 'Palmeiras', 'Bahia']\n",
    "series_times = pd.Series(times)\n",
    "series_times[0]"
   ]
  },
  {
   "cell_type": "code",
   "execution_count": 11,
   "id": "226bb2b7",
   "metadata": {},
   "outputs": [
    {
     "data": {
      "text/plain": [
       "48"
      ]
     },
     "execution_count": 11,
     "metadata": {},
     "output_type": "execute_result"
    }
   ],
   "source": [
    "# Dataframes\n",
    "\n",
    "data = {'Nomes': ['Patrick', 'Rafaela'], 'Idade': [20, 28], 'Cidade': ['Poa', 'Poa']}\n",
    "df = pd.DataFrame(data)\n",
    "df['Idade'].sum()"
   ]
  },
  {
   "cell_type": "code",
   "execution_count": 12,
   "id": "ee85ce3e",
   "metadata": {},
   "outputs": [
    {
     "data": {
      "text/html": [
       "<div>\n",
       "<style scoped>\n",
       "    .dataframe tbody tr th:only-of-type {\n",
       "        vertical-align: middle;\n",
       "    }\n",
       "\n",
       "    .dataframe tbody tr th {\n",
       "        vertical-align: top;\n",
       "    }\n",
       "\n",
       "    .dataframe thead th {\n",
       "        text-align: right;\n",
       "    }\n",
       "</style>\n",
       "<table border=\"1\" class=\"dataframe\">\n",
       "  <thead>\n",
       "    <tr style=\"text-align: right;\">\n",
       "      <th></th>\n",
       "      <th>Autores</th>\n",
       "      <th>Livros</th>\n",
       "      <th>Preços</th>\n",
       "    </tr>\n",
       "    <tr>\n",
       "      <th>Index</th>\n",
       "      <th></th>\n",
       "      <th></th>\n",
       "      <th></th>\n",
       "    </tr>\n",
       "  </thead>\n",
       "  <tbody>\n",
       "    <tr>\n",
       "      <th>0</th>\n",
       "      <td>João Silva</td>\n",
       "      <td>Aventuras na Floresta</td>\n",
       "      <td>29.99</td>\n",
       "    </tr>\n",
       "    <tr>\n",
       "      <th>1</th>\n",
       "      <td>Maria Santos</td>\n",
       "      <td>Viagem pelo Espaço</td>\n",
       "      <td>24.99</td>\n",
       "    </tr>\n",
       "    <tr>\n",
       "      <th>2</th>\n",
       "      <td>Pedro Almeida</td>\n",
       "      <td>O Mistério da Pirâmide</td>\n",
       "      <td>23.99</td>\n",
       "    </tr>\n",
       "  </tbody>\n",
       "</table>\n",
       "</div>"
      ],
      "text/plain": [
       "             Autores                  Livros  Preços\n",
       "Index                                               \n",
       "0         João Silva   Aventuras na Floresta   29.99\n",
       "1       Maria Santos      Viagem pelo Espaço   24.99\n",
       "2      Pedro Almeida  O Mistério da Pirâmide   23.99"
      ]
     },
     "execution_count": 12,
     "metadata": {},
     "output_type": "execute_result"
    }
   ],
   "source": [
    "livros = {\n",
    "    'Autores': ['João Silva', 'Maria Santos', 'Pedro Almeida'],\n",
    "    'Livros': [\n",
    "        'Aventuras na Floresta',\n",
    "        'Viagem pelo Espaço',\n",
    "        'O Mistério da Pirâmide'\n",
    "    ],\n",
    "    'Preços': [\n",
    "        29.99,\n",
    "        24.99,\n",
    "        23.99\n",
    "    ]\n",
    "}\n",
    "\n",
    "df_book = pd.DataFrame(livros)\n",
    "df_book.index.name = 'Index'\n",
    "\n",
    "df_book"
   ]
  },
  {
   "cell_type": "code",
   "execution_count": 13,
   "id": "00614775",
   "metadata": {},
   "outputs": [
    {
     "data": {
      "text/plain": [
       "(26.323333333333334, 78.97, 23.99, 29.99)"
      ]
     },
     "execution_count": 13,
     "metadata": {},
     "output_type": "execute_result"
    }
   ],
   "source": [
    "#Estatisticas\n",
    "\n",
    "media = df_book['Preços'].mean()\n",
    "soma = df_book['Preços'].sum()\n",
    "minima = df_book['Preços'].min()\n",
    "maximo = df_book['Preços'].max()\n",
    "\n",
    "media, soma, minima, maximo"
   ]
  },
  {
   "cell_type": "code",
   "execution_count": 14,
   "id": "edb2242b",
   "metadata": {},
   "outputs": [
    {
     "data": {
      "text/html": [
       "<div>\n",
       "<style scoped>\n",
       "    .dataframe tbody tr th:only-of-type {\n",
       "        vertical-align: middle;\n",
       "    }\n",
       "\n",
       "    .dataframe tbody tr th {\n",
       "        vertical-align: top;\n",
       "    }\n",
       "\n",
       "    .dataframe thead th {\n",
       "        text-align: right;\n",
       "    }\n",
       "</style>\n",
       "<table border=\"1\" class=\"dataframe\">\n",
       "  <thead>\n",
       "    <tr style=\"text-align: right;\">\n",
       "      <th></th>\n",
       "      <th>Livros</th>\n",
       "      <th>Preços</th>\n",
       "    </tr>\n",
       "    <tr>\n",
       "      <th>Autores</th>\n",
       "      <th></th>\n",
       "      <th></th>\n",
       "    </tr>\n",
       "  </thead>\n",
       "  <tbody>\n",
       "    <tr>\n",
       "      <th>João Silva</th>\n",
       "      <td>Aventuras na Floresta</td>\n",
       "      <td>29.99</td>\n",
       "    </tr>\n",
       "    <tr>\n",
       "      <th>Maria Santos</th>\n",
       "      <td>Viagem pelo Espaço</td>\n",
       "      <td>24.99</td>\n",
       "    </tr>\n",
       "    <tr>\n",
       "      <th>Pedro Almeida</th>\n",
       "      <td>O Mistério da Pirâmide</td>\n",
       "      <td>23.99</td>\n",
       "    </tr>\n",
       "  </tbody>\n",
       "</table>\n",
       "</div>"
      ],
      "text/plain": [
       "                               Livros  Preços\n",
       "Autores                                      \n",
       "João Silva      Aventuras na Floresta   29.99\n",
       "Maria Santos       Viagem pelo Espaço   24.99\n",
       "Pedro Almeida  O Mistério da Pirâmide   23.99"
      ]
     },
     "execution_count": 14,
     "metadata": {},
     "output_type": "execute_result"
    }
   ],
   "source": [
    "# Coluna como index\n",
    "\n",
    "df_book.set_index('Autores', inplace=True)\n",
    "df_book"
   ]
  },
  {
   "cell_type": "code",
   "execution_count": 15,
   "id": "e6d1dc66",
   "metadata": {},
   "outputs": [
    {
     "data": {
      "text/html": [
       "<div>\n",
       "<style scoped>\n",
       "    .dataframe tbody tr th:only-of-type {\n",
       "        vertical-align: middle;\n",
       "    }\n",
       "\n",
       "    .dataframe tbody tr th {\n",
       "        vertical-align: top;\n",
       "    }\n",
       "\n",
       "    .dataframe thead th {\n",
       "        text-align: right;\n",
       "    }\n",
       "</style>\n",
       "<table border=\"1\" class=\"dataframe\">\n",
       "  <thead>\n",
       "    <tr style=\"text-align: right;\">\n",
       "      <th></th>\n",
       "      <th>Livros</th>\n",
       "      <th>Preços</th>\n",
       "    </tr>\n",
       "    <tr>\n",
       "      <th>Autores</th>\n",
       "      <th></th>\n",
       "      <th></th>\n",
       "    </tr>\n",
       "  </thead>\n",
       "  <tbody>\n",
       "    <tr>\n",
       "      <th>João Silva</th>\n",
       "      <td>Aventuras na Floresta</td>\n",
       "      <td>29.99</td>\n",
       "    </tr>\n",
       "  </tbody>\n",
       "</table>\n",
       "</div>"
      ],
      "text/plain": [
       "                           Livros  Preços\n",
       "Autores                                  \n",
       "João Silva  Aventuras na Floresta   29.99"
      ]
     },
     "execution_count": 15,
     "metadata": {},
     "output_type": "execute_result"
    }
   ],
   "source": [
    "# Consulta por index\n",
    "\n",
    "df1 = df_book.loc[['João Silva']]\n",
    "df1"
   ]
  },
  {
   "cell_type": "code",
   "execution_count": 16,
   "id": "45f40f2b",
   "metadata": {},
   "outputs": [
    {
     "data": {
      "text/html": [
       "<div>\n",
       "<style scoped>\n",
       "    .dataframe tbody tr th:only-of-type {\n",
       "        vertical-align: middle;\n",
       "    }\n",
       "\n",
       "    .dataframe tbody tr th {\n",
       "        vertical-align: top;\n",
       "    }\n",
       "\n",
       "    .dataframe thead th {\n",
       "        text-align: right;\n",
       "    }\n",
       "</style>\n",
       "<table border=\"1\" class=\"dataframe\">\n",
       "  <thead>\n",
       "    <tr style=\"text-align: right;\">\n",
       "      <th></th>\n",
       "      <th>Livros</th>\n",
       "      <th>Preços</th>\n",
       "    </tr>\n",
       "    <tr>\n",
       "      <th>Autores</th>\n",
       "      <th></th>\n",
       "      <th></th>\n",
       "    </tr>\n",
       "  </thead>\n",
       "  <tbody>\n",
       "    <tr>\n",
       "      <th>Maria Santos</th>\n",
       "      <td>Viagem pelo Espaço</td>\n",
       "      <td>24.99</td>\n",
       "    </tr>\n",
       "  </tbody>\n",
       "</table>\n",
       "</div>"
      ],
      "text/plain": [
       "                          Livros  Preços\n",
       "Autores                                 \n",
       "Maria Santos  Viagem pelo Espaço   24.99"
      ]
     },
     "execution_count": 16,
     "metadata": {},
     "output_type": "execute_result"
    }
   ],
   "source": [
    "# Consulta onde coluna seja igual a... \n",
    "\n",
    "df2 = df_book.query(\"`Livros` == 'Viagem pelo Espaço'\")\n",
    "df2"
   ]
  },
  {
   "cell_type": "markdown",
   "id": "9cc01a06",
   "metadata": {},
   "source": [
    "###  • Analisando Dados:\n",
    "> Dados obtidos em: https://bit.ly/46AcZy6"
   ]
  },
  {
   "cell_type": "code",
   "execution_count": 17,
   "id": "06a58d64",
   "metadata": {},
   "outputs": [],
   "source": [
    "df_taxis = pd.read_csv('taxis.csv')"
   ]
  },
  {
   "cell_type": "code",
   "execution_count": 18,
   "id": "eb1c2baf",
   "metadata": {},
   "outputs": [
    {
     "data": {
      "text/plain": [
       "Manhattan    5268\n",
       "Queens        657\n",
       "Brooklyn      383\n",
       "Bronx          99\n",
       "Name: pickup_borough, dtype: int64"
      ]
     },
     "execution_count": 18,
     "metadata": {},
     "output_type": "execute_result"
    }
   ],
   "source": [
    "df_taxis['pickup_borough'].value_counts()"
   ]
  },
  {
   "cell_type": "markdown",
   "id": "bcc4c30f",
   "metadata": {},
   "source": [
    "## Exercicio: \n",
    "#### Vizinhanças em que as casas costumam ser mais caras oferecem maiores e melhores gorjetas? "
   ]
  },
  {
   "cell_type": "code",
   "execution_count": 19,
   "id": "0b502dda",
   "metadata": {},
   "outputs": [],
   "source": [
    "df_taxis1 = df_taxis.set_index('pickup_borough')"
   ]
  },
  {
   "cell_type": "code",
   "execution_count": 20,
   "id": "e590b534",
   "metadata": {},
   "outputs": [
    {
     "data": {
      "text/plain": [
       "nan"
      ]
     },
     "execution_count": 20,
     "metadata": {},
     "output_type": "execute_result"
    }
   ],
   "source": [
    "listsCity = []\n",
    "for c in df_taxis['pickup_borough']:\n",
    "    if c in listsCity:\n",
    "        pass\n",
    "    else: \n",
    "        listsCity.append(c)\n",
    " \n",
    "listsCity.pop(2)"
   ]
  },
  {
   "cell_type": "code",
   "execution_count": 21,
   "id": "309ca73a",
   "metadata": {},
   "outputs": [],
   "source": [
    "sumCitys = []\n",
    "for city in listsCity:\n",
    "    sumValue = df_taxis1['tip'].loc[city].sum()\n",
    "    sumCitys.append(sumValue)"
   ]
  },
  {
   "cell_type": "code",
   "execution_count": 22,
   "id": "9268a454",
   "metadata": {},
   "outputs": [],
   "source": [
    "dictCitysValues = dict(zip(listsCity, sumCitys))"
   ]
  },
  {
   "cell_type": "code",
   "execution_count": 23,
   "id": "ce613271",
   "metadata": {},
   "outputs": [
    {
     "name": "stdout",
     "output_type": "stream",
     "text": [
      "A Vizinhança que paga as maiores gorjetas é Manhattan com um total de 10217.55 dólares.\n"
     ]
    }
   ],
   "source": [
    "allValues = []\n",
    "for key, value in dictCitysValues.items():\n",
    "    allValues.append(value)\n",
    "    if max(allValues) == value:\n",
    "        print(f\"A Vizinhança que paga as maiores gorjetas é {key} com um total de {value:.2f} dólares.\") "
   ]
  },
  {
   "cell_type": "markdown",
   "id": "614c5d7b",
   "metadata": {},
   "source": [
    "## Exercicio: \n",
    "#### Quanto mais passageriro maior é a gorjeta? "
   ]
  },
  {
   "cell_type": "code",
   "execution_count": 82,
   "id": "6786a660",
   "metadata": {},
   "outputs": [],
   "source": [
    "df = df_taxis[['passengers', 'tip', 'dropoff_borough']]"
   ]
  },
  {
   "cell_type": "code",
   "execution_count": 83,
   "id": "dc7a6f65",
   "metadata": {},
   "outputs": [
    {
     "name": "stdout",
     "output_type": "stream",
     "text": [
      "[1, 3, 6, 5, 2, 4]\n"
     ]
    }
   ],
   "source": [
    "listNumberspass = [] # Lista que vai conter o numero de passageiros (Somente uma ocorrência)\n",
    "for x in df['passengers']:\n",
    "    if x in listNumberspass:\n",
    "        pass\n",
    "    else:\n",
    "        listNumberspass.append(x)\n",
    "\n",
    "        \n",
    "listNumberspass.pop(2)        \n",
    "print(listNumberspass)"
   ]
  },
  {
   "cell_type": "code",
   "execution_count": 84,
   "id": "b56f39e0",
   "metadata": {},
   "outputs": [],
   "source": [
    "df.set_index('passengers', inplace=True) # Steando a coluan 'passengers' para fazer as pesquisas via index"
   ]
  },
  {
   "cell_type": "code",
   "execution_count": 85,
   "id": "500badd6",
   "metadata": {},
   "outputs": [],
   "source": [
    "sumValuespssgs = [] # Lista que vai conter a soma das gorjetas por cada item da lista de 'listNumberspass'\n",
    "for numberItem in listNumberspass:\n",
    "    sumValuesTip = df.loc[numberItem]['tip'].sum()\n",
    "    sumValuespssgs.append(sumValuesTip)"
   ]
  },
  {
   "cell_type": "code",
   "execution_count": 86,
   "id": "d962e1c9",
   "metadata": {},
   "outputs": [],
   "source": [
    "# Zipando em Dict o numero de passageiros com os totais de gorjetas, lado a lado:\n",
    "dictpassgAndValues = dict(zip(listNumberspass, sumValuespssgs)) "
   ]
  },
  {
   "cell_type": "code",
   "execution_count": 91,
   "id": "798a4f7d",
   "metadata": {},
   "outputs": [
    {
     "name": "stdout",
     "output_type": "stream",
     "text": [
      "Viajens com 1 passageiro(s), a gorjeta foi ao todo 8992.47 dólares.\n",
      "Viajens com 3 passageiro(s), a gorjeta foi ao todo 538.30 dólares.\n",
      "Viajens com 6 passageiro(s), a gorjeta foi ao todo 313.99 dólares.\n",
      "Viajens com 5 passageiro(s), a gorjeta foi ao todo 563.37 dólares.\n",
      "Viajens com 2 passageiro(s), a gorjeta foi ao todo 1843.40 dólares.\n",
      "Viajens com 4 passageiro(s), a gorjeta foi ao todo 250.82 dólares.\n"
     ]
    }
   ],
   "source": [
    "# resultado\n",
    "for chave, value in dictpassgAndValues.items():\n",
    "    print(f\"Viajens com {chave} passageiro(s), a gorjeta foi ao todo {value:.2f} dólares.\")"
   ]
  },
  {
   "cell_type": "code",
   "execution_count": null,
   "id": "cfd393c3",
   "metadata": {},
   "outputs": [],
   "source": []
  }
 ],
 "metadata": {
  "kernelspec": {
   "display_name": "Python 3 (ipykernel)",
   "language": "python",
   "name": "python3"
  },
  "language_info": {
   "codemirror_mode": {
    "name": "ipython",
    "version": 3
   },
   "file_extension": ".py",
   "mimetype": "text/x-python",
   "name": "python",
   "nbconvert_exporter": "python",
   "pygments_lexer": "ipython3",
   "version": "3.11.4"
  }
 },
 "nbformat": 4,
 "nbformat_minor": 5
}
