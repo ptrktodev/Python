{
 "cells": [
  {
   "cell_type": "code",
   "execution_count": 1,
   "id": "aabb4ce4-6049-4e7b-a987-91783bd9d95a",
   "metadata": {},
   "outputs": [],
   "source": [
    "import pandas as pd "
   ]
  },
  {
   "cell_type": "markdown",
   "id": "5d489033-3f6a-47ce-8dea-c8834a9739f3",
   "metadata": {},
   "source": [
    "⚡ **SERIES:** \\\n",
    "Imagine que você tem uma lista de números, por exemplo: [10, 20, 30, 40, 50]. Uma lista comum em Python não possui rótulos, é apenas uma sequência de valores. Agora, se você quiser associar um rótulo a cada valor, como \"A\", \"B\", \"C\", \"D\" e \"E\", para que cada número tenha um nome, você poderia usar uma Series\n",
    "> serie = pd.Series(dados, index)"
   ]
  },
  {
   "cell_type": "code",
   "execution_count": 2,
   "id": "f9dd8779-78ad-4b97-a146-399314f77a0c",
   "metadata": {},
   "outputs": [
    {
     "data": {
      "text/plain": [
       "A       Beto\n",
       "B    Patrick\n",
       "C      Julio\n",
       "dtype: object"
      ]
     },
     "metadata": {},
     "output_type": "display_data"
    }
   ],
   "source": [
    "serieCreate = pd.Series(['Beto', 'Patrick', 'Julio'], ['A', 'B', 'C'])\n",
    "\n",
    "display(serieCreate)\n",
    "\n",
    "labelA = serieCreate['A'] # Obter dado através do Indice(rotulo)\n",
    "labelAB = serieCreate[['A', 'B']] # Obter dados através do Indice(rotulo)"
   ]
  },
  {
   "cell_type": "markdown",
   "id": "e0fb91fe-2d96-446d-8dba-293b7bac1a50",
   "metadata": {},
   "source": [
    "🔀 **DE SERIES PARA DATAFRAME:**\n",
    "> 🔹 serieCreate[['A', 'B']] -> utilizando [['xxxyyy']]\n",
    "> \n",
    "> 🔹 display(coluna_A.to_frame()) -> utilizando o metodo to_frame()"
   ]
  },
  {
   "cell_type": "markdown",
   "id": "959d1143-4140-4485-a73b-8422544532a1",
   "metadata": {},
   "source": [
    "❄️ **CRIANDO DATAFRAME:**"
   ]
  },
  {
   "cell_type": "code",
   "execution_count": 3,
   "id": "d4f23774-e961-4ab6-9a1f-52927f12e443",
   "metadata": {},
   "outputs": [
    {
     "data": {
      "text/html": [
       "<div>\n",
       "<style scoped>\n",
       "    .dataframe tbody tr th:only-of-type {\n",
       "        vertical-align: middle;\n",
       "    }\n",
       "\n",
       "    .dataframe tbody tr th {\n",
       "        vertical-align: top;\n",
       "    }\n",
       "\n",
       "    .dataframe thead th {\n",
       "        text-align: right;\n",
       "    }\n",
       "</style>\n",
       "<table border=\"1\" class=\"dataframe\">\n",
       "  <thead>\n",
       "    <tr style=\"text-align: right;\">\n",
       "      <th></th>\n",
       "      <th>Y</th>\n",
       "      <th>Z</th>\n",
       "      <th>W</th>\n",
       "      <th>X</th>\n",
       "      <th>Q</th>\n",
       "    </tr>\n",
       "  </thead>\n",
       "  <tbody>\n",
       "    <tr>\n",
       "      <th>A</th>\n",
       "      <td>-0.807562</td>\n",
       "      <td>1.048870</td>\n",
       "      <td>-0.070832</td>\n",
       "      <td>-0.201138</td>\n",
       "      <td>0.892871</td>\n",
       "    </tr>\n",
       "    <tr>\n",
       "      <th>B</th>\n",
       "      <td>-0.762434</td>\n",
       "      <td>-1.330139</td>\n",
       "      <td>-0.151765</td>\n",
       "      <td>-0.229694</td>\n",
       "      <td>-0.764902</td>\n",
       "    </tr>\n",
       "    <tr>\n",
       "      <th>C</th>\n",
       "      <td>-0.297130</td>\n",
       "      <td>-0.437388</td>\n",
       "      <td>0.903902</td>\n",
       "      <td>0.566592</td>\n",
       "      <td>-0.424399</td>\n",
       "    </tr>\n",
       "    <tr>\n",
       "      <th>D</th>\n",
       "      <td>0.875576</td>\n",
       "      <td>0.182787</td>\n",
       "      <td>-0.119280</td>\n",
       "      <td>1.145204</td>\n",
       "      <td>0.713865</td>\n",
       "    </tr>\n",
       "    <tr>\n",
       "      <th>E</th>\n",
       "      <td>1.423925</td>\n",
       "      <td>-0.140154</td>\n",
       "      <td>-0.341077</td>\n",
       "      <td>-1.271933</td>\n",
       "      <td>-0.186565</td>\n",
       "    </tr>\n",
       "  </tbody>\n",
       "</table>\n",
       "</div>"
      ],
      "text/plain": [
       "          Y         Z         W         X         Q\n",
       "A -0.807562  1.048870 -0.070832 -0.201138  0.892871\n",
       "B -0.762434 -1.330139 -0.151765 -0.229694 -0.764902\n",
       "C -0.297130 -0.437388  0.903902  0.566592 -0.424399\n",
       "D  0.875576  0.182787 -0.119280  1.145204  0.713865\n",
       "E  1.423925 -0.140154 -0.341077 -1.271933 -0.186565"
      ]
     },
     "metadata": {},
     "output_type": "display_data"
    }
   ],
   "source": [
    "from numpy.random import randn\n",
    "\n",
    "# randn(linhas, columns) -> gerar numeros \n",
    "\n",
    "df = pd.DataFrame(randn(5, 5), index=['A', 'B' , 'C', 'D', 'E'], columns=[\"Y\", 'Z', 'W','X', 'Q'])\n",
    "\n",
    "display(df)"
   ]
  },
  {
   "cell_type": "code",
   "execution_count": 4,
   "id": "84a79c38-ffb8-45f6-af65-c36f921bc2d3",
   "metadata": {},
   "outputs": [
    {
     "data": {
      "text/plain": [
       "A   -0.807562\n",
       "B   -0.762434\n",
       "C   -0.297130\n",
       "D    0.875576\n",
       "E    1.423925\n",
       "Name: Y, dtype: float64"
      ]
     },
     "metadata": {},
     "output_type": "display_data"
    },
    {
     "data": {
      "text/html": [
       "<div>\n",
       "<style scoped>\n",
       "    .dataframe tbody tr th:only-of-type {\n",
       "        vertical-align: middle;\n",
       "    }\n",
       "\n",
       "    .dataframe tbody tr th {\n",
       "        vertical-align: top;\n",
       "    }\n",
       "\n",
       "    .dataframe thead th {\n",
       "        text-align: right;\n",
       "    }\n",
       "</style>\n",
       "<table border=\"1\" class=\"dataframe\">\n",
       "  <thead>\n",
       "    <tr style=\"text-align: right;\">\n",
       "      <th></th>\n",
       "      <th>Y</th>\n",
       "    </tr>\n",
       "  </thead>\n",
       "  <tbody>\n",
       "    <tr>\n",
       "      <th>A</th>\n",
       "      <td>-0.807562</td>\n",
       "    </tr>\n",
       "    <tr>\n",
       "      <th>B</th>\n",
       "      <td>-0.762434</td>\n",
       "    </tr>\n",
       "    <tr>\n",
       "      <th>C</th>\n",
       "      <td>-0.297130</td>\n",
       "    </tr>\n",
       "    <tr>\n",
       "      <th>D</th>\n",
       "      <td>0.875576</td>\n",
       "    </tr>\n",
       "    <tr>\n",
       "      <th>E</th>\n",
       "      <td>1.423925</td>\n",
       "    </tr>\n",
       "  </tbody>\n",
       "</table>\n",
       "</div>"
      ],
      "text/plain": [
       "          Y\n",
       "A -0.807562\n",
       "B -0.762434\n",
       "C -0.297130\n",
       "D  0.875576\n",
       "E  1.423925"
      ]
     },
     "metadata": {},
     "output_type": "display_data"
    }
   ],
   "source": [
    "display(df['Y']) # Obter dados atraves da Coluna. DType:return series\n",
    "display(df[['Y']]) # Obter dados atraves da Coluna. DType:return DataFrame"
   ]
  },
  {
   "cell_type": "markdown",
   "id": "321e718c-ba0d-462a-95ea-d9685624a6df",
   "metadata": {},
   "source": [
    "☄️ **Criando uma nova coluna e preenchendo com dados existentes da coluna Y:**"
   ]
  },
  {
   "cell_type": "code",
   "execution_count": 5,
   "id": "ca83e3b5-888a-4a63-9b2b-d041c3e3e456",
   "metadata": {},
   "outputs": [
    {
     "data": {
      "text/html": [
       "<div>\n",
       "<style scoped>\n",
       "    .dataframe tbody tr th:only-of-type {\n",
       "        vertical-align: middle;\n",
       "    }\n",
       "\n",
       "    .dataframe tbody tr th {\n",
       "        vertical-align: top;\n",
       "    }\n",
       "\n",
       "    .dataframe thead th {\n",
       "        text-align: right;\n",
       "    }\n",
       "</style>\n",
       "<table border=\"1\" class=\"dataframe\">\n",
       "  <thead>\n",
       "    <tr style=\"text-align: right;\">\n",
       "      <th></th>\n",
       "      <th>Y</th>\n",
       "      <th>Z</th>\n",
       "      <th>W</th>\n",
       "      <th>X</th>\n",
       "      <th>Q</th>\n",
       "      <th>new</th>\n",
       "    </tr>\n",
       "  </thead>\n",
       "  <tbody>\n",
       "    <tr>\n",
       "      <th>A</th>\n",
       "      <td>-0.807562</td>\n",
       "      <td>1.048870</td>\n",
       "      <td>-0.070832</td>\n",
       "      <td>-0.201138</td>\n",
       "      <td>0.892871</td>\n",
       "      <td>-0.807562</td>\n",
       "    </tr>\n",
       "    <tr>\n",
       "      <th>B</th>\n",
       "      <td>-0.762434</td>\n",
       "      <td>-1.330139</td>\n",
       "      <td>-0.151765</td>\n",
       "      <td>-0.229694</td>\n",
       "      <td>-0.764902</td>\n",
       "      <td>-0.762434</td>\n",
       "    </tr>\n",
       "    <tr>\n",
       "      <th>C</th>\n",
       "      <td>-0.297130</td>\n",
       "      <td>-0.437388</td>\n",
       "      <td>0.903902</td>\n",
       "      <td>0.566592</td>\n",
       "      <td>-0.424399</td>\n",
       "      <td>-0.297130</td>\n",
       "    </tr>\n",
       "    <tr>\n",
       "      <th>D</th>\n",
       "      <td>0.875576</td>\n",
       "      <td>0.182787</td>\n",
       "      <td>-0.119280</td>\n",
       "      <td>1.145204</td>\n",
       "      <td>0.713865</td>\n",
       "      <td>0.875576</td>\n",
       "    </tr>\n",
       "    <tr>\n",
       "      <th>E</th>\n",
       "      <td>1.423925</td>\n",
       "      <td>-0.140154</td>\n",
       "      <td>-0.341077</td>\n",
       "      <td>-1.271933</td>\n",
       "      <td>-0.186565</td>\n",
       "      <td>1.423925</td>\n",
       "    </tr>\n",
       "  </tbody>\n",
       "</table>\n",
       "</div>"
      ],
      "text/plain": [
       "          Y         Z         W         X         Q       new\n",
       "A -0.807562  1.048870 -0.070832 -0.201138  0.892871 -0.807562\n",
       "B -0.762434 -1.330139 -0.151765 -0.229694 -0.764902 -0.762434\n",
       "C -0.297130 -0.437388  0.903902  0.566592 -0.424399 -0.297130\n",
       "D  0.875576  0.182787 -0.119280  1.145204  0.713865  0.875576\n",
       "E  1.423925 -0.140154 -0.341077 -1.271933 -0.186565  1.423925"
      ]
     },
     "metadata": {},
     "output_type": "display_data"
    }
   ],
   "source": [
    "df['new'] = df['Y']\n",
    "display(df)"
   ]
  },
  {
   "cell_type": "markdown",
   "id": "22494ddf-a84d-45f2-a84a-994b4fd11c39",
   "metadata": {},
   "source": [
    "🌟  **Criando uma nova coluna e preenchendo com a SOMA dos dados de colunas existentes:**"
   ]
  },
  {
   "cell_type": "code",
   "execution_count": 6,
   "id": "436520fa-d31d-4163-bfe0-68ce2d4972c0",
   "metadata": {},
   "outputs": [
    {
     "data": {
      "text/html": [
       "<div>\n",
       "<style scoped>\n",
       "    .dataframe tbody tr th:only-of-type {\n",
       "        vertical-align: middle;\n",
       "    }\n",
       "\n",
       "    .dataframe tbody tr th {\n",
       "        vertical-align: top;\n",
       "    }\n",
       "\n",
       "    .dataframe thead th {\n",
       "        text-align: right;\n",
       "    }\n",
       "</style>\n",
       "<table border=\"1\" class=\"dataframe\">\n",
       "  <thead>\n",
       "    <tr style=\"text-align: right;\">\n",
       "      <th></th>\n",
       "      <th>Y</th>\n",
       "      <th>Z</th>\n",
       "      <th>W</th>\n",
       "      <th>X</th>\n",
       "      <th>Q</th>\n",
       "      <th>new</th>\n",
       "      <th>sum</th>\n",
       "    </tr>\n",
       "  </thead>\n",
       "  <tbody>\n",
       "    <tr>\n",
       "      <th>A</th>\n",
       "      <td>-0.807562</td>\n",
       "      <td>1.048870</td>\n",
       "      <td>-0.070832</td>\n",
       "      <td>-0.201138</td>\n",
       "      <td>0.892871</td>\n",
       "      <td>-0.807562</td>\n",
       "      <td>-0.271970</td>\n",
       "    </tr>\n",
       "    <tr>\n",
       "      <th>B</th>\n",
       "      <td>-0.762434</td>\n",
       "      <td>-1.330139</td>\n",
       "      <td>-0.151765</td>\n",
       "      <td>-0.229694</td>\n",
       "      <td>-0.764902</td>\n",
       "      <td>-0.762434</td>\n",
       "      <td>-0.381459</td>\n",
       "    </tr>\n",
       "    <tr>\n",
       "      <th>C</th>\n",
       "      <td>-0.297130</td>\n",
       "      <td>-0.437388</td>\n",
       "      <td>0.903902</td>\n",
       "      <td>0.566592</td>\n",
       "      <td>-0.424399</td>\n",
       "      <td>-0.297130</td>\n",
       "      <td>1.470493</td>\n",
       "    </tr>\n",
       "    <tr>\n",
       "      <th>D</th>\n",
       "      <td>0.875576</td>\n",
       "      <td>0.182787</td>\n",
       "      <td>-0.119280</td>\n",
       "      <td>1.145204</td>\n",
       "      <td>0.713865</td>\n",
       "      <td>0.875576</td>\n",
       "      <td>1.025924</td>\n",
       "    </tr>\n",
       "    <tr>\n",
       "      <th>E</th>\n",
       "      <td>1.423925</td>\n",
       "      <td>-0.140154</td>\n",
       "      <td>-0.341077</td>\n",
       "      <td>-1.271933</td>\n",
       "      <td>-0.186565</td>\n",
       "      <td>1.423925</td>\n",
       "      <td>-1.613010</td>\n",
       "    </tr>\n",
       "  </tbody>\n",
       "</table>\n",
       "</div>"
      ],
      "text/plain": [
       "          Y         Z         W         X         Q       new       sum\n",
       "A -0.807562  1.048870 -0.070832 -0.201138  0.892871 -0.807562 -0.271970\n",
       "B -0.762434 -1.330139 -0.151765 -0.229694 -0.764902 -0.762434 -0.381459\n",
       "C -0.297130 -0.437388  0.903902  0.566592 -0.424399 -0.297130  1.470493\n",
       "D  0.875576  0.182787 -0.119280  1.145204  0.713865  0.875576  1.025924\n",
       "E  1.423925 -0.140154 -0.341077 -1.271933 -0.186565  1.423925 -1.613010"
      ]
     },
     "execution_count": 6,
     "metadata": {},
     "output_type": "execute_result"
    }
   ],
   "source": [
    "df['sum'] = df['W'] + df['X']\n",
    "df"
   ]
  },
  {
   "cell_type": "markdown",
   "id": "630e6b02-484e-47d8-9482-850cc411f363",
   "metadata": {},
   "source": [
    "❌ **DELETANDO UMA DETERMINADA COLUNA**\n",
    "> O método df.drop() não altera o DataFrame df original. Ele retorna uma nova cópia do DataFrame sem a coluna 'Y'. Quando utilizá-lo, insira para um novo DataFrame.\n",
    "> \n",
    "> Para alterar o DataFrame Original, utilize o parâmetro: df.drop(inplace=True)"
   ]
  },
  {
   "cell_type": "code",
   "execution_count": 7,
   "id": "5a25fa38-a645-4cda-94b3-a010b3c0a67c",
   "metadata": {},
   "outputs": [
    {
     "data": {
      "text/html": [
       "<div>\n",
       "<style scoped>\n",
       "    .dataframe tbody tr th:only-of-type {\n",
       "        vertical-align: middle;\n",
       "    }\n",
       "\n",
       "    .dataframe tbody tr th {\n",
       "        vertical-align: top;\n",
       "    }\n",
       "\n",
       "    .dataframe thead th {\n",
       "        text-align: right;\n",
       "    }\n",
       "</style>\n",
       "<table border=\"1\" class=\"dataframe\">\n",
       "  <thead>\n",
       "    <tr style=\"text-align: right;\">\n",
       "      <th></th>\n",
       "      <th>Z</th>\n",
       "      <th>W</th>\n",
       "      <th>X</th>\n",
       "      <th>Q</th>\n",
       "      <th>new</th>\n",
       "      <th>sum</th>\n",
       "    </tr>\n",
       "  </thead>\n",
       "  <tbody>\n",
       "    <tr>\n",
       "      <th>B</th>\n",
       "      <td>-1.330139</td>\n",
       "      <td>-0.151765</td>\n",
       "      <td>-0.229694</td>\n",
       "      <td>-0.764902</td>\n",
       "      <td>-0.762434</td>\n",
       "      <td>-0.381459</td>\n",
       "    </tr>\n",
       "    <tr>\n",
       "      <th>C</th>\n",
       "      <td>-0.437388</td>\n",
       "      <td>0.903902</td>\n",
       "      <td>0.566592</td>\n",
       "      <td>-0.424399</td>\n",
       "      <td>-0.297130</td>\n",
       "      <td>1.470493</td>\n",
       "    </tr>\n",
       "    <tr>\n",
       "      <th>D</th>\n",
       "      <td>0.182787</td>\n",
       "      <td>-0.119280</td>\n",
       "      <td>1.145204</td>\n",
       "      <td>0.713865</td>\n",
       "      <td>0.875576</td>\n",
       "      <td>1.025924</td>\n",
       "    </tr>\n",
       "    <tr>\n",
       "      <th>E</th>\n",
       "      <td>-0.140154</td>\n",
       "      <td>-0.341077</td>\n",
       "      <td>-1.271933</td>\n",
       "      <td>-0.186565</td>\n",
       "      <td>1.423925</td>\n",
       "      <td>-1.613010</td>\n",
       "    </tr>\n",
       "  </tbody>\n",
       "</table>\n",
       "</div>"
      ],
      "text/plain": [
       "          Z         W         X         Q       new       sum\n",
       "B -1.330139 -0.151765 -0.229694 -0.764902 -0.762434 -0.381459\n",
       "C -0.437388  0.903902  0.566592 -0.424399 -0.297130  1.470493\n",
       "D  0.182787 -0.119280  1.145204  0.713865  0.875576  1.025924\n",
       "E -0.140154 -0.341077 -1.271933 -0.186565  1.423925 -1.613010"
      ]
     },
     "execution_count": 7,
     "metadata": {},
     "output_type": "execute_result"
    }
   ],
   "source": [
    "df_Modified = df.drop('Y', axis=1).drop('A', axis=0) # eixo 1 = Colunas -- eixo 0 = Linhas\n",
    "df_Modified"
   ]
  },
  {
   "cell_type": "markdown",
   "id": "c4a376e3-dcf4-4a9a-8be1-36c4e56be034",
   "metadata": {},
   "source": [
    "🔱 **Acessar linhas e células com o Método loc[] --baseado-- em etiquetas:**\n",
    "> 🔹 usado para seleção baseada em etiquetas. Isso significa que você especifica as linhas e colunas que deseja acessar usando rótulos de índice, em vez de números inteiros de posição."
   ]
  },
  {
   "cell_type": "code",
   "execution_count": 8,
   "id": "b3cab14a-a3ea-451d-91a7-00430db94970",
   "metadata": {},
   "outputs": [
    {
     "data": {
      "text/html": [
       "<div>\n",
       "<style scoped>\n",
       "    .dataframe tbody tr th:only-of-type {\n",
       "        vertical-align: middle;\n",
       "    }\n",
       "\n",
       "    .dataframe tbody tr th {\n",
       "        vertical-align: top;\n",
       "    }\n",
       "\n",
       "    .dataframe thead th {\n",
       "        text-align: right;\n",
       "    }\n",
       "</style>\n",
       "<table border=\"1\" class=\"dataframe\">\n",
       "  <thead>\n",
       "    <tr style=\"text-align: right;\">\n",
       "      <th></th>\n",
       "      <th>W</th>\n",
       "      <th>X</th>\n",
       "      <th>Q</th>\n",
       "    </tr>\n",
       "  </thead>\n",
       "  <tbody>\n",
       "    <tr>\n",
       "      <th>C</th>\n",
       "      <td>0.903902</td>\n",
       "      <td>0.566592</td>\n",
       "      <td>-0.424399</td>\n",
       "    </tr>\n",
       "    <tr>\n",
       "      <th>D</th>\n",
       "      <td>-0.119280</td>\n",
       "      <td>1.145204</td>\n",
       "      <td>0.713865</td>\n",
       "    </tr>\n",
       "  </tbody>\n",
       "</table>\n",
       "</div>"
      ],
      "text/plain": [
       "          W         X         Q\n",
       "C  0.903902  0.566592 -0.424399\n",
       "D -0.119280  1.145204  0.713865"
      ]
     },
     "execution_count": 8,
     "metadata": {},
     "output_type": "execute_result"
    }
   ],
   "source": [
    "df.loc[['D']] # Visualizando dados DA LINHA 'D' em DataFrame\n",
    "df.loc[['D', 'C']] # DataFrame da Linha 'D' e 'C'\n",
    "df.loc['D', 'sum'] # Selecionando uma célula especifica\n",
    "df.loc[:, 'Q'] # Selecionar uma coluna por rótulo -> IGUAL A: df[['Q']]\n",
    "df.loc[['D', 'C'], ['new']] # linhas D e C na coluna new -> return celulas em DF\n",
    "df.loc['C':'D','W':'Q']"
   ]
  },
  {
   "cell_type": "markdown",
   "id": "83c5a10a-62d7-4aa9-a32c-ab302f2a9bab",
   "metadata": {},
   "source": [
    "🔱 **Acessar linhas e células com o Método iloc[] --baseado-- em posição:**\n",
    "> 🔹 usado para seleção baseada em posição. Isso significa que você especifica as linhas e colunas que deseja acessar usando índices inteiros."
   ]
  },
  {
   "cell_type": "code",
   "execution_count": 9,
   "id": "f4bb5c41-a904-4d49-89ed-8f4e9b953788",
   "metadata": {},
   "outputs": [
    {
     "data": {
      "text/html": [
       "<div>\n",
       "<style scoped>\n",
       "    .dataframe tbody tr th:only-of-type {\n",
       "        vertical-align: middle;\n",
       "    }\n",
       "\n",
       "    .dataframe tbody tr th {\n",
       "        vertical-align: top;\n",
       "    }\n",
       "\n",
       "    .dataframe thead th {\n",
       "        text-align: right;\n",
       "    }\n",
       "</style>\n",
       "<table border=\"1\" class=\"dataframe\">\n",
       "  <thead>\n",
       "    <tr style=\"text-align: right;\">\n",
       "      <th></th>\n",
       "      <th>W</th>\n",
       "      <th>X</th>\n",
       "      <th>Q</th>\n",
       "      <th>new</th>\n",
       "    </tr>\n",
       "  </thead>\n",
       "  <tbody>\n",
       "    <tr>\n",
       "      <th>A</th>\n",
       "      <td>-0.070832</td>\n",
       "      <td>-0.201138</td>\n",
       "      <td>0.892871</td>\n",
       "      <td>-0.807562</td>\n",
       "    </tr>\n",
       "    <tr>\n",
       "      <th>B</th>\n",
       "      <td>-0.151765</td>\n",
       "      <td>-0.229694</td>\n",
       "      <td>-0.764902</td>\n",
       "      <td>-0.762434</td>\n",
       "    </tr>\n",
       "    <tr>\n",
       "      <th>C</th>\n",
       "      <td>0.903902</td>\n",
       "      <td>0.566592</td>\n",
       "      <td>-0.424399</td>\n",
       "      <td>-0.297130</td>\n",
       "    </tr>\n",
       "  </tbody>\n",
       "</table>\n",
       "</div>"
      ],
      "text/plain": [
       "          W         X         Q       new\n",
       "A -0.070832 -0.201138  0.892871 -0.807562\n",
       "B -0.151765 -0.229694 -0.764902 -0.762434\n",
       "C  0.903902  0.566592 -0.424399 -0.297130"
      ]
     },
     "execution_count": 9,
     "metadata": {},
     "output_type": "execute_result"
    }
   ],
   "source": [
    "df.iloc[:3, 2:-1]"
   ]
  },
  {
   "cell_type": "markdown",
   "id": "83dc1597-bf73-492e-958d-519bc89f1332",
   "metadata": {},
   "source": [
    "🔰 **FILTROS: SELEÇÃO CONDICIONAL**"
   ]
  },
  {
   "cell_type": "code",
   "execution_count": 10,
   "id": "22531946-7249-41ca-b1a9-d897f5f94d77",
   "metadata": {},
   "outputs": [
    {
     "data": {
      "text/html": [
       "<div>\n",
       "<style scoped>\n",
       "    .dataframe tbody tr th:only-of-type {\n",
       "        vertical-align: middle;\n",
       "    }\n",
       "\n",
       "    .dataframe tbody tr th {\n",
       "        vertical-align: top;\n",
       "    }\n",
       "\n",
       "    .dataframe thead th {\n",
       "        text-align: right;\n",
       "    }\n",
       "</style>\n",
       "<table border=\"1\" class=\"dataframe\">\n",
       "  <thead>\n",
       "    <tr style=\"text-align: right;\">\n",
       "      <th></th>\n",
       "      <th>Y</th>\n",
       "      <th>Z</th>\n",
       "      <th>W</th>\n",
       "      <th>X</th>\n",
       "      <th>Q</th>\n",
       "      <th>new</th>\n",
       "      <th>sum</th>\n",
       "    </tr>\n",
       "  </thead>\n",
       "  <tbody>\n",
       "    <tr>\n",
       "      <th>C</th>\n",
       "      <td>-0.29713</td>\n",
       "      <td>-0.437388</td>\n",
       "      <td>0.903902</td>\n",
       "      <td>0.566592</td>\n",
       "      <td>-0.424399</td>\n",
       "      <td>-0.29713</td>\n",
       "      <td>1.470493</td>\n",
       "    </tr>\n",
       "  </tbody>\n",
       "</table>\n",
       "</div>"
      ],
      "text/plain": [
       "         Y         Z         W         X         Q      new       sum\n",
       "C -0.29713 -0.437388  0.903902  0.566592 -0.424399 -0.29713  1.470493"
      ]
     },
     "execution_count": 10,
     "metadata": {},
     "output_type": "execute_result"
    }
   ],
   "source": [
    "df[df['W'] > 0]  # retorna um novo DataFrame contendo apenas as linhas onde o valor na coluna \"W\" é maior que zero."
   ]
  },
  {
   "cell_type": "code",
   "execution_count": 11,
   "id": "977fd8db-5114-4bfd-a99f-227f0079af9f",
   "metadata": {},
   "outputs": [
    {
     "data": {
      "text/html": [
       "<div>\n",
       "<style scoped>\n",
       "    .dataframe tbody tr th:only-of-type {\n",
       "        vertical-align: middle;\n",
       "    }\n",
       "\n",
       "    .dataframe tbody tr th {\n",
       "        vertical-align: top;\n",
       "    }\n",
       "\n",
       "    .dataframe thead th {\n",
       "        text-align: right;\n",
       "    }\n",
       "</style>\n",
       "<table border=\"1\" class=\"dataframe\">\n",
       "  <thead>\n",
       "    <tr style=\"text-align: right;\">\n",
       "      <th></th>\n",
       "      <th>Y</th>\n",
       "      <th>Z</th>\n",
       "      <th>W</th>\n",
       "      <th>X</th>\n",
       "      <th>Q</th>\n",
       "      <th>new</th>\n",
       "      <th>sum</th>\n",
       "    </tr>\n",
       "  </thead>\n",
       "  <tbody>\n",
       "  </tbody>\n",
       "</table>\n",
       "</div>"
      ],
      "text/plain": [
       "Empty DataFrame\n",
       "Columns: [Y, Z, W, X, Q, new, sum]\n",
       "Index: []"
      ]
     },
     "execution_count": 11,
     "metadata": {},
     "output_type": "execute_result"
    }
   ],
   "source": [
    "df[(df['W'] > 0) & (df['Q'] > 1)]"
   ]
  },
  {
   "cell_type": "markdown",
   "id": "ca617659-b08c-4374-9360-ac37f16f39d2",
   "metadata": {},
   "source": [
    "〽️ **MANIPULAR INDICES:**"
   ]
  },
  {
   "cell_type": "code",
   "execution_count": 12,
   "id": "7aeb9b59-0036-408a-b2f2-b917e22b352a",
   "metadata": {},
   "outputs": [
    {
     "data": {
      "text/html": [
       "<div>\n",
       "<style scoped>\n",
       "    .dataframe tbody tr th:only-of-type {\n",
       "        vertical-align: middle;\n",
       "    }\n",
       "\n",
       "    .dataframe tbody tr th {\n",
       "        vertical-align: top;\n",
       "    }\n",
       "\n",
       "    .dataframe thead th {\n",
       "        text-align: right;\n",
       "    }\n",
       "</style>\n",
       "<table border=\"1\" class=\"dataframe\">\n",
       "  <thead>\n",
       "    <tr style=\"text-align: right;\">\n",
       "      <th></th>\n",
       "      <th>index</th>\n",
       "      <th>Y</th>\n",
       "      <th>Z</th>\n",
       "      <th>W</th>\n",
       "      <th>X</th>\n",
       "      <th>Q</th>\n",
       "      <th>new</th>\n",
       "      <th>sum</th>\n",
       "    </tr>\n",
       "  </thead>\n",
       "  <tbody>\n",
       "    <tr>\n",
       "      <th>0</th>\n",
       "      <td>A</td>\n",
       "      <td>-0.807562</td>\n",
       "      <td>1.048870</td>\n",
       "      <td>-0.070832</td>\n",
       "      <td>-0.201138</td>\n",
       "      <td>0.892871</td>\n",
       "      <td>-0.807562</td>\n",
       "      <td>-0.271970</td>\n",
       "    </tr>\n",
       "    <tr>\n",
       "      <th>1</th>\n",
       "      <td>B</td>\n",
       "      <td>-0.762434</td>\n",
       "      <td>-1.330139</td>\n",
       "      <td>-0.151765</td>\n",
       "      <td>-0.229694</td>\n",
       "      <td>-0.764902</td>\n",
       "      <td>-0.762434</td>\n",
       "      <td>-0.381459</td>\n",
       "    </tr>\n",
       "    <tr>\n",
       "      <th>2</th>\n",
       "      <td>C</td>\n",
       "      <td>-0.297130</td>\n",
       "      <td>-0.437388</td>\n",
       "      <td>0.903902</td>\n",
       "      <td>0.566592</td>\n",
       "      <td>-0.424399</td>\n",
       "      <td>-0.297130</td>\n",
       "      <td>1.470493</td>\n",
       "    </tr>\n",
       "    <tr>\n",
       "      <th>3</th>\n",
       "      <td>D</td>\n",
       "      <td>0.875576</td>\n",
       "      <td>0.182787</td>\n",
       "      <td>-0.119280</td>\n",
       "      <td>1.145204</td>\n",
       "      <td>0.713865</td>\n",
       "      <td>0.875576</td>\n",
       "      <td>1.025924</td>\n",
       "    </tr>\n",
       "    <tr>\n",
       "      <th>4</th>\n",
       "      <td>E</td>\n",
       "      <td>1.423925</td>\n",
       "      <td>-0.140154</td>\n",
       "      <td>-0.341077</td>\n",
       "      <td>-1.271933</td>\n",
       "      <td>-0.186565</td>\n",
       "      <td>1.423925</td>\n",
       "      <td>-1.613010</td>\n",
       "    </tr>\n",
       "  </tbody>\n",
       "</table>\n",
       "</div>"
      ],
      "text/plain": [
       "  index         Y         Z         W         X         Q       new       sum\n",
       "0     A -0.807562  1.048870 -0.070832 -0.201138  0.892871 -0.807562 -0.271970\n",
       "1     B -0.762434 -1.330139 -0.151765 -0.229694 -0.764902 -0.762434 -0.381459\n",
       "2     C -0.297130 -0.437388  0.903902  0.566592 -0.424399 -0.297130  1.470493\n",
       "3     D  0.875576  0.182787 -0.119280  1.145204  0.713865  0.875576  1.025924\n",
       "4     E  1.423925 -0.140154 -0.341077 -1.271933 -0.186565  1.423925 -1.613010"
      ]
     },
     "execution_count": 12,
     "metadata": {},
     "output_type": "execute_result"
    }
   ],
   "source": [
    "df.reset_index(inplace=True) # redefine o indice para um novo indice numérico e move o anterior como coluna.\n",
    "df"
   ]
  },
  {
   "cell_type": "code",
   "execution_count": 13,
   "id": "67f83ada-e1d8-491a-aedd-0c9497db4a01",
   "metadata": {},
   "outputs": [
    {
     "data": {
      "text/html": [
       "<div>\n",
       "<style scoped>\n",
       "    .dataframe tbody tr th:only-of-type {\n",
       "        vertical-align: middle;\n",
       "    }\n",
       "\n",
       "    .dataframe tbody tr th {\n",
       "        vertical-align: top;\n",
       "    }\n",
       "\n",
       "    .dataframe thead th {\n",
       "        text-align: right;\n",
       "    }\n",
       "</style>\n",
       "<table border=\"1\" class=\"dataframe\">\n",
       "  <thead>\n",
       "    <tr style=\"text-align: right;\">\n",
       "      <th></th>\n",
       "      <th>Y</th>\n",
       "      <th>Z</th>\n",
       "      <th>W</th>\n",
       "      <th>X</th>\n",
       "      <th>Q</th>\n",
       "      <th>new</th>\n",
       "      <th>sum</th>\n",
       "    </tr>\n",
       "    <tr>\n",
       "      <th>index</th>\n",
       "      <th></th>\n",
       "      <th></th>\n",
       "      <th></th>\n",
       "      <th></th>\n",
       "      <th></th>\n",
       "      <th></th>\n",
       "      <th></th>\n",
       "    </tr>\n",
       "  </thead>\n",
       "  <tbody>\n",
       "    <tr>\n",
       "      <th>A</th>\n",
       "      <td>-0.807562</td>\n",
       "      <td>1.048870</td>\n",
       "      <td>-0.070832</td>\n",
       "      <td>-0.201138</td>\n",
       "      <td>0.892871</td>\n",
       "      <td>-0.807562</td>\n",
       "      <td>-0.271970</td>\n",
       "    </tr>\n",
       "    <tr>\n",
       "      <th>B</th>\n",
       "      <td>-0.762434</td>\n",
       "      <td>-1.330139</td>\n",
       "      <td>-0.151765</td>\n",
       "      <td>-0.229694</td>\n",
       "      <td>-0.764902</td>\n",
       "      <td>-0.762434</td>\n",
       "      <td>-0.381459</td>\n",
       "    </tr>\n",
       "    <tr>\n",
       "      <th>C</th>\n",
       "      <td>-0.297130</td>\n",
       "      <td>-0.437388</td>\n",
       "      <td>0.903902</td>\n",
       "      <td>0.566592</td>\n",
       "      <td>-0.424399</td>\n",
       "      <td>-0.297130</td>\n",
       "      <td>1.470493</td>\n",
       "    </tr>\n",
       "    <tr>\n",
       "      <th>D</th>\n",
       "      <td>0.875576</td>\n",
       "      <td>0.182787</td>\n",
       "      <td>-0.119280</td>\n",
       "      <td>1.145204</td>\n",
       "      <td>0.713865</td>\n",
       "      <td>0.875576</td>\n",
       "      <td>1.025924</td>\n",
       "    </tr>\n",
       "    <tr>\n",
       "      <th>E</th>\n",
       "      <td>1.423925</td>\n",
       "      <td>-0.140154</td>\n",
       "      <td>-0.341077</td>\n",
       "      <td>-1.271933</td>\n",
       "      <td>-0.186565</td>\n",
       "      <td>1.423925</td>\n",
       "      <td>-1.613010</td>\n",
       "    </tr>\n",
       "  </tbody>\n",
       "</table>\n",
       "</div>"
      ],
      "text/plain": [
       "              Y         Z         W         X         Q       new       sum\n",
       "index                                                                      \n",
       "A     -0.807562  1.048870 -0.070832 -0.201138  0.892871 -0.807562 -0.271970\n",
       "B     -0.762434 -1.330139 -0.151765 -0.229694 -0.764902 -0.762434 -0.381459\n",
       "C     -0.297130 -0.437388  0.903902  0.566592 -0.424399 -0.297130  1.470493\n",
       "D      0.875576  0.182787 -0.119280  1.145204  0.713865  0.875576  1.025924\n",
       "E      1.423925 -0.140154 -0.341077 -1.271933 -0.186565  1.423925 -1.613010"
      ]
     },
     "execution_count": 13,
     "metadata": {},
     "output_type": "execute_result"
    }
   ],
   "source": [
    "df.set_index('index', inplace=True)\n",
    "df"
   ]
  },
  {
   "cell_type": "markdown",
   "id": "5ad7eeae-0cbb-4712-96f8-d0b9debaea33",
   "metadata": {},
   "source": [
    "🔱 **Hierarquia de índices e índices Múltiplos**"
   ]
  },
  {
   "cell_type": "code",
   "execution_count": 14,
   "id": "3a5aab0f-e057-439e-a088-04054bb13cd3",
   "metadata": {},
   "outputs": [
    {
     "name": "stdout",
     "output_type": "stream",
     "text": [
      "[('H', 1), ('H', 2), ('M', 1), ('M', 2)]\n"
     ]
    }
   ],
   "source": [
    "outside = ['H', 'H','M', 'M']\n",
    "inside = [1, 2, 1, 2]\n",
    "\n",
    "hierq_ind = list(zip(outside, inside))\n",
    "\n",
    "print(hierq_ind)"
   ]
  },
  {
   "cell_type": "code",
   "execution_count": 15,
   "id": "30f8c715-5d38-439e-84e9-cb77e43de82f",
   "metadata": {},
   "outputs": [],
   "source": [
    "# transformar em um objeto MultiIndex. Usado como um índice em um DataFrame do pandas para criar uma estrutura de índice hierárquico.\n",
    "hierq_ind = pd.MultiIndex.from_tuples(hierq_ind) "
   ]
  },
  {
   "cell_type": "code",
   "execution_count": 16,
   "id": "c24f8da7-97da-44c1-aa94-4525b528b07f",
   "metadata": {},
   "outputs": [
    {
     "data": {
      "text/html": [
       "<div>\n",
       "<style scoped>\n",
       "    .dataframe tbody tr th:only-of-type {\n",
       "        vertical-align: middle;\n",
       "    }\n",
       "\n",
       "    .dataframe tbody tr th {\n",
       "        vertical-align: top;\n",
       "    }\n",
       "\n",
       "    .dataframe thead th {\n",
       "        text-align: right;\n",
       "    }\n",
       "</style>\n",
       "<table border=\"1\" class=\"dataframe\">\n",
       "  <thead>\n",
       "    <tr style=\"text-align: right;\">\n",
       "      <th></th>\n",
       "      <th></th>\n",
       "      <th>A</th>\n",
       "      <th>B</th>\n",
       "    </tr>\n",
       "  </thead>\n",
       "  <tbody>\n",
       "    <tr>\n",
       "      <th rowspan=\"2\" valign=\"top\">H</th>\n",
       "      <th>1</th>\n",
       "      <td>1.842272</td>\n",
       "      <td>-0.170269</td>\n",
       "    </tr>\n",
       "    <tr>\n",
       "      <th>2</th>\n",
       "      <td>0.227541</td>\n",
       "      <td>0.092891</td>\n",
       "    </tr>\n",
       "    <tr>\n",
       "      <th rowspan=\"2\" valign=\"top\">M</th>\n",
       "      <th>1</th>\n",
       "      <td>-1.084475</td>\n",
       "      <td>-0.653683</td>\n",
       "    </tr>\n",
       "    <tr>\n",
       "      <th>2</th>\n",
       "      <td>-0.895198</td>\n",
       "      <td>0.160468</td>\n",
       "    </tr>\n",
       "  </tbody>\n",
       "</table>\n",
       "</div>"
      ],
      "text/plain": [
       "            A         B\n",
       "H 1  1.842272 -0.170269\n",
       "  2  0.227541  0.092891\n",
       "M 1 -1.084475 -0.653683\n",
       "  2 -0.895198  0.160468"
      ]
     },
     "execution_count": 16,
     "metadata": {},
     "output_type": "execute_result"
    }
   ],
   "source": [
    "df3 = pd.DataFrame(randn(4, 2), index=hierq_ind, columns='A B'.split())\n",
    "df3"
   ]
  },
  {
   "cell_type": "code",
   "execution_count": 17,
   "id": "4913992b-81cf-4972-9010-194950c67acc",
   "metadata": {},
   "outputs": [
    {
     "data": {
      "text/html": [
       "<div>\n",
       "<style scoped>\n",
       "    .dataframe tbody tr th:only-of-type {\n",
       "        vertical-align: middle;\n",
       "    }\n",
       "\n",
       "    .dataframe tbody tr th {\n",
       "        vertical-align: top;\n",
       "    }\n",
       "\n",
       "    .dataframe thead th {\n",
       "        text-align: right;\n",
       "    }\n",
       "</style>\n",
       "<table border=\"1\" class=\"dataframe\">\n",
       "  <thead>\n",
       "    <tr style=\"text-align: right;\">\n",
       "      <th></th>\n",
       "      <th></th>\n",
       "      <th>A</th>\n",
       "      <th>B</th>\n",
       "    </tr>\n",
       "    <tr>\n",
       "      <th>Gênero</th>\n",
       "      <th>Número</th>\n",
       "      <th></th>\n",
       "      <th></th>\n",
       "    </tr>\n",
       "  </thead>\n",
       "  <tbody>\n",
       "    <tr>\n",
       "      <th rowspan=\"2\" valign=\"top\">H</th>\n",
       "      <th>1</th>\n",
       "      <td>1.842272</td>\n",
       "      <td>-0.170269</td>\n",
       "    </tr>\n",
       "    <tr>\n",
       "      <th>2</th>\n",
       "      <td>0.227541</td>\n",
       "      <td>0.092891</td>\n",
       "    </tr>\n",
       "    <tr>\n",
       "      <th rowspan=\"2\" valign=\"top\">M</th>\n",
       "      <th>1</th>\n",
       "      <td>-1.084475</td>\n",
       "      <td>-0.653683</td>\n",
       "    </tr>\n",
       "    <tr>\n",
       "      <th>2</th>\n",
       "      <td>-0.895198</td>\n",
       "      <td>0.160468</td>\n",
       "    </tr>\n",
       "  </tbody>\n",
       "</table>\n",
       "</div>"
      ],
      "text/plain": [
       "                      A         B\n",
       "Gênero Número                    \n",
       "H      1       1.842272 -0.170269\n",
       "       2       0.227541  0.092891\n",
       "M      1      -1.084475 -0.653683\n",
       "       2      -0.895198  0.160468"
      ]
     },
     "execution_count": 17,
     "metadata": {},
     "output_type": "execute_result"
    }
   ],
   "source": [
    "# para renomear esse indices novos criados:\n",
    "df3.index.names = ['Gênero', 'Número']\n",
    "df3"
   ]
  },
  {
   "cell_type": "code",
   "execution_count": 18,
   "id": "c6d45d3a-792e-49dd-9fd7-dbeff4333c3b",
   "metadata": {},
   "outputs": [
    {
     "data": {
      "text/html": [
       "<div>\n",
       "<style scoped>\n",
       "    .dataframe tbody tr th:only-of-type {\n",
       "        vertical-align: middle;\n",
       "    }\n",
       "\n",
       "    .dataframe tbody tr th {\n",
       "        vertical-align: top;\n",
       "    }\n",
       "\n",
       "    .dataframe thead th {\n",
       "        text-align: right;\n",
       "    }\n",
       "</style>\n",
       "<table border=\"1\" class=\"dataframe\">\n",
       "  <thead>\n",
       "    <tr style=\"text-align: right;\">\n",
       "      <th></th>\n",
       "      <th>A</th>\n",
       "      <th>B</th>\n",
       "    </tr>\n",
       "    <tr>\n",
       "      <th>Número</th>\n",
       "      <th></th>\n",
       "      <th></th>\n",
       "    </tr>\n",
       "  </thead>\n",
       "  <tbody>\n",
       "    <tr>\n",
       "      <th>1</th>\n",
       "      <td>-1.084475</td>\n",
       "      <td>-0.653683</td>\n",
       "    </tr>\n",
       "    <tr>\n",
       "      <th>2</th>\n",
       "      <td>-0.895198</td>\n",
       "      <td>0.160468</td>\n",
       "    </tr>\n",
       "  </tbody>\n",
       "</table>\n",
       "</div>"
      ],
      "text/plain": [
       "               A         B\n",
       "Número                    \n",
       "1      -1.084475 -0.653683\n",
       "2      -0.895198  0.160468"
      ]
     },
     "execution_count": 18,
     "metadata": {},
     "output_type": "execute_result"
    }
   ],
   "source": [
    "# BUSCAS E SELEÇÃO:\n",
    "\n",
    "df3.loc['M'].loc[:, ['A']]\n",
    "df3.loc['M'].loc[[2]]\n",
    "df3.loc['M']"
   ]
  },
  {
   "cell_type": "markdown",
   "id": "a55c09ba-3ec1-4540-b068-2d4666548fab",
   "metadata": {},
   "source": [
    "> ⬇️ seleção das linhas do DataFrame df3 onde o valor do nível \"level='nomeIndiceAqui' é igual a x. Isso retorna um novo DataFrame ou uma série, dependendo do contexto em que é usado, contendo apenas as linhas correspondentes a essa condição."
   ]
  },
  {
   "cell_type": "code",
   "execution_count": 19,
   "id": "2c2ab68e-c29e-4fca-8d1b-2c95966be1fb",
   "metadata": {},
   "outputs": [
    {
     "data": {
      "text/html": [
       "<div>\n",
       "<style scoped>\n",
       "    .dataframe tbody tr th:only-of-type {\n",
       "        vertical-align: middle;\n",
       "    }\n",
       "\n",
       "    .dataframe tbody tr th {\n",
       "        vertical-align: top;\n",
       "    }\n",
       "\n",
       "    .dataframe thead th {\n",
       "        text-align: right;\n",
       "    }\n",
       "</style>\n",
       "<table border=\"1\" class=\"dataframe\">\n",
       "  <thead>\n",
       "    <tr style=\"text-align: right;\">\n",
       "      <th></th>\n",
       "      <th>A</th>\n",
       "      <th>B</th>\n",
       "    </tr>\n",
       "    <tr>\n",
       "      <th>Gênero</th>\n",
       "      <th></th>\n",
       "      <th></th>\n",
       "    </tr>\n",
       "  </thead>\n",
       "  <tbody>\n",
       "    <tr>\n",
       "      <th>H</th>\n",
       "      <td>0.227541</td>\n",
       "      <td>0.092891</td>\n",
       "    </tr>\n",
       "    <tr>\n",
       "      <th>M</th>\n",
       "      <td>-0.895198</td>\n",
       "      <td>0.160468</td>\n",
       "    </tr>\n",
       "  </tbody>\n",
       "</table>\n",
       "</div>"
      ],
      "text/plain": [
       "               A         B\n",
       "Gênero                    \n",
       "H       0.227541  0.092891\n",
       "M      -0.895198  0.160468"
      ]
     },
     "execution_count": 19,
     "metadata": {},
     "output_type": "execute_result"
    }
   ],
   "source": [
    "df3.xs(2, level='Número')"
   ]
  },
  {
   "cell_type": "markdown",
   "id": "fe01c6fd",
   "metadata": {},
   "source": [
    "❌ **TRATAMENTOS DE DADOS AUSENTES:**\n",
    "\n",
    "🧶\n",
    "> O método dropna() em Pandas é usado para remover valores ausentes (NaN) de um DataFrame ou Série.\n",
    "\n",
    "> Aprenda o df.dropna():\n",
    "https://bit.ly/3Rnp5GF"
   ]
  },
  {
   "cell_type": "code",
   "execution_count": 20,
   "id": "0bfc9e02",
   "metadata": {},
   "outputs": [
    {
     "data": {
      "text/html": [
       "<div>\n",
       "<style scoped>\n",
       "    .dataframe tbody tr th:only-of-type {\n",
       "        vertical-align: middle;\n",
       "    }\n",
       "\n",
       "    .dataframe tbody tr th {\n",
       "        vertical-align: top;\n",
       "    }\n",
       "\n",
       "    .dataframe thead th {\n",
       "        text-align: right;\n",
       "    }\n",
       "</style>\n",
       "<table border=\"1\" class=\"dataframe\">\n",
       "  <thead>\n",
       "    <tr style=\"text-align: right;\">\n",
       "      <th></th>\n",
       "      <th>A</th>\n",
       "      <th>B</th>\n",
       "      <th>C</th>\n",
       "    </tr>\n",
       "  </thead>\n",
       "  <tbody>\n",
       "    <tr>\n",
       "      <th>0</th>\n",
       "      <td>22734.0</td>\n",
       "      <td>334.0</td>\n",
       "      <td>5673.0</td>\n",
       "    </tr>\n",
       "    <tr>\n",
       "      <th>1</th>\n",
       "      <td>NaN</td>\n",
       "      <td>56.0</td>\n",
       "      <td>55.0</td>\n",
       "    </tr>\n",
       "    <tr>\n",
       "      <th>2</th>\n",
       "      <td>NaN</td>\n",
       "      <td>NaN</td>\n",
       "      <td>NaN</td>\n",
       "    </tr>\n",
       "  </tbody>\n",
       "</table>\n",
       "</div>"
      ],
      "text/plain": [
       "         A      B       C\n",
       "0  22734.0  334.0  5673.0\n",
       "1      NaN   56.0    55.0\n",
       "2      NaN    NaN     NaN"
      ]
     },
     "metadata": {},
     "output_type": "display_data"
    }
   ],
   "source": [
    "import numpy as np\n",
    "\n",
    "# Criando uma Df com celulas NaN\n",
    "df_nan = pd.DataFrame({'A': [22734, np.nan, np.nan],'B': [334, 56, np.nan],'C': [5673, 55, np.nan],})\n",
    "display(df_nan)"
   ]
  },
  {
   "cell_type": "code",
   "execution_count": 21,
   "id": "9f110430",
   "metadata": {},
   "outputs": [
    {
     "data": {
      "text/html": [
       "<div>\n",
       "<style scoped>\n",
       "    .dataframe tbody tr th:only-of-type {\n",
       "        vertical-align: middle;\n",
       "    }\n",
       "\n",
       "    .dataframe tbody tr th {\n",
       "        vertical-align: top;\n",
       "    }\n",
       "\n",
       "    .dataframe thead th {\n",
       "        text-align: right;\n",
       "    }\n",
       "</style>\n",
       "<table border=\"1\" class=\"dataframe\">\n",
       "  <thead>\n",
       "    <tr style=\"text-align: right;\">\n",
       "      <th></th>\n",
       "      <th>A</th>\n",
       "      <th>B</th>\n",
       "      <th>C</th>\n",
       "    </tr>\n",
       "  </thead>\n",
       "  <tbody>\n",
       "    <tr>\n",
       "      <th>0</th>\n",
       "      <td>22734.0</td>\n",
       "      <td>334.0</td>\n",
       "      <td>5673.0</td>\n",
       "    </tr>\n",
       "    <tr>\n",
       "      <th>1</th>\n",
       "      <td>NaN</td>\n",
       "      <td>56.0</td>\n",
       "      <td>55.0</td>\n",
       "    </tr>\n",
       "    <tr>\n",
       "      <th>2</th>\n",
       "      <td>NaN</td>\n",
       "      <td>NaN</td>\n",
       "      <td>NaN</td>\n",
       "    </tr>\n",
       "  </tbody>\n",
       "</table>\n",
       "</div>"
      ],
      "text/plain": [
       "         A      B       C\n",
       "0  22734.0  334.0  5673.0\n",
       "1      NaN   56.0    55.0\n",
       "2      NaN    NaN     NaN"
      ]
     },
     "execution_count": 21,
     "metadata": {},
     "output_type": "execute_result"
    }
   ],
   "source": [
    "df_nan.dropna(axis=1, thresh=0)"
   ]
  },
  {
   "cell_type": "markdown",
   "id": "c7cd61ec",
   "metadata": {},
   "source": [
    "🧶\n",
    "> O método fillna() em Pandas é usado para preencher os valores ausentes (NaN) em um DataFrame ou Série com valores específicos que você fornece.\n",
    "\n",
    "> Aprenda o df.fillna():\n",
    "https://bit.ly/45NByaN"
   ]
  },
  {
   "cell_type": "code",
   "execution_count": 22,
   "id": "d162d80c",
   "metadata": {},
   "outputs": [
    {
     "data": {
      "text/html": [
       "<div>\n",
       "<style scoped>\n",
       "    .dataframe tbody tr th:only-of-type {\n",
       "        vertical-align: middle;\n",
       "    }\n",
       "\n",
       "    .dataframe tbody tr th {\n",
       "        vertical-align: top;\n",
       "    }\n",
       "\n",
       "    .dataframe thead th {\n",
       "        text-align: right;\n",
       "    }\n",
       "</style>\n",
       "<table border=\"1\" class=\"dataframe\">\n",
       "  <thead>\n",
       "    <tr style=\"text-align: right;\">\n",
       "      <th></th>\n",
       "      <th>A</th>\n",
       "      <th>B</th>\n",
       "      <th>C</th>\n",
       "    </tr>\n",
       "  </thead>\n",
       "  <tbody>\n",
       "    <tr>\n",
       "      <th>0</th>\n",
       "      <td>22734.0</td>\n",
       "      <td>334.0</td>\n",
       "      <td>5673.0</td>\n",
       "    </tr>\n",
       "    <tr>\n",
       "      <th>1</th>\n",
       "      <td>0.0</td>\n",
       "      <td>56.0</td>\n",
       "      <td>55.0</td>\n",
       "    </tr>\n",
       "    <tr>\n",
       "      <th>2</th>\n",
       "      <td>0.0</td>\n",
       "      <td>0.0</td>\n",
       "      <td>0.0</td>\n",
       "    </tr>\n",
       "  </tbody>\n",
       "</table>\n",
       "</div>"
      ],
      "text/plain": [
       "         A      B       C\n",
       "0  22734.0  334.0  5673.0\n",
       "1      0.0   56.0    55.0\n",
       "2      0.0    0.0     0.0"
      ]
     },
     "execution_count": 22,
     "metadata": {},
     "output_type": "execute_result"
    }
   ],
   "source": [
    "df_nan.fillna(0) # Substitua os NaN por 0."
   ]
  },
  {
   "cell_type": "code",
   "execution_count": 23,
   "id": "ad95708c",
   "metadata": {},
   "outputs": [
    {
     "data": {
      "text/html": [
       "<div>\n",
       "<style scoped>\n",
       "    .dataframe tbody tr th:only-of-type {\n",
       "        vertical-align: middle;\n",
       "    }\n",
       "\n",
       "    .dataframe tbody tr th {\n",
       "        vertical-align: top;\n",
       "    }\n",
       "\n",
       "    .dataframe thead th {\n",
       "        text-align: right;\n",
       "    }\n",
       "</style>\n",
       "<table border=\"1\" class=\"dataframe\">\n",
       "  <thead>\n",
       "    <tr style=\"text-align: right;\">\n",
       "      <th></th>\n",
       "      <th>B</th>\n",
       "    </tr>\n",
       "  </thead>\n",
       "  <tbody>\n",
       "    <tr>\n",
       "      <th>0</th>\n",
       "      <td>334.0</td>\n",
       "    </tr>\n",
       "    <tr>\n",
       "      <th>1</th>\n",
       "      <td>56.0</td>\n",
       "    </tr>\n",
       "    <tr>\n",
       "      <th>2</th>\n",
       "      <td>195.0</td>\n",
       "    </tr>\n",
       "  </tbody>\n",
       "</table>\n",
       "</div>"
      ],
      "text/plain": [
       "       B\n",
       "0  334.0\n",
       "1   56.0\n",
       "2  195.0"
      ]
     },
     "execution_count": 23,
     "metadata": {},
     "output_type": "execute_result"
    }
   ],
   "source": [
    "df_nan[['B']].fillna(value=df_nan['B'].mean()) # Substitue o NaN da coluna ou linha pela média"
   ]
  },
  {
   "cell_type": "code",
   "execution_count": 24,
   "id": "cb658b0a",
   "metadata": {},
   "outputs": [
    {
     "data": {
      "text/html": [
       "<div>\n",
       "<style scoped>\n",
       "    .dataframe tbody tr th:only-of-type {\n",
       "        vertical-align: middle;\n",
       "    }\n",
       "\n",
       "    .dataframe tbody tr th {\n",
       "        vertical-align: top;\n",
       "    }\n",
       "\n",
       "    .dataframe thead th {\n",
       "        text-align: right;\n",
       "    }\n",
       "</style>\n",
       "<table border=\"1\" class=\"dataframe\">\n",
       "  <thead>\n",
       "    <tr style=\"text-align: right;\">\n",
       "      <th></th>\n",
       "      <th>A</th>\n",
       "      <th>B</th>\n",
       "      <th>C</th>\n",
       "    </tr>\n",
       "  </thead>\n",
       "  <tbody>\n",
       "    <tr>\n",
       "      <th>0</th>\n",
       "      <td>22734.0</td>\n",
       "      <td>334.0</td>\n",
       "      <td>5673.0</td>\n",
       "    </tr>\n",
       "    <tr>\n",
       "      <th>1</th>\n",
       "      <td>22734.0</td>\n",
       "      <td>56.0</td>\n",
       "      <td>55.0</td>\n",
       "    </tr>\n",
       "    <tr>\n",
       "      <th>2</th>\n",
       "      <td>22734.0</td>\n",
       "      <td>56.0</td>\n",
       "      <td>55.0</td>\n",
       "    </tr>\n",
       "  </tbody>\n",
       "</table>\n",
       "</div>"
      ],
      "text/plain": [
       "         A      B       C\n",
       "0  22734.0  334.0  5673.0\n",
       "1  22734.0   56.0    55.0\n",
       "2  22734.0   56.0    55.0"
      ]
     },
     "execution_count": 24,
     "metadata": {},
     "output_type": "execute_result"
    }
   ],
   "source": [
    "df_nan.ffill() #  preenche os valores ausentes usando o valor da célula imediatamente acima na mesma coluna."
   ]
  },
  {
   "cell_type": "markdown",
   "id": "37db4c62",
   "metadata": {},
   "source": [
    "🧠 **GROUP BY**\n",
    "> Obs: em [sum(), mean()...] defina numeric_only=True, as funções aplicarão a operação apenas às colunas que contêm dados numéricos."
   ]
  },
  {
   "cell_type": "code",
   "execution_count": 74,
   "id": "fa1a1fac",
   "metadata": {},
   "outputs": [],
   "source": [
    "vendas_funcionario = {\n",
    "    'Classe': ['Pleno', 'Senior', 'Junior', 'Senior', 'Pleno', 'Junior', 'Pleno', 'Senior', 'Junior', 'Pleno'],\n",
    "    'Funcionários': ['Beto', 'Larissa', 'Anderson', 'Lucas', 'Mariana', 'João', 'Pedro', 'Isabela', 'Maria', 'Ricardo'],\n",
    "    'Vendas': [1000, 1500, 800, 1200, 2000, 750, 1800, 1600, 850, 1700]\n",
    "}\n",
    "\n",
    "dfData = pd.DataFrame(vendas_funcionario)"
   ]
  },
  {
   "cell_type": "code",
   "execution_count": 91,
   "id": "ea3066c1",
   "metadata": {},
   "outputs": [
    {
     "data": {
      "text/html": [
       "<div>\n",
       "<style scoped>\n",
       "    .dataframe tbody tr th:only-of-type {\n",
       "        vertical-align: middle;\n",
       "    }\n",
       "\n",
       "    .dataframe tbody tr th {\n",
       "        vertical-align: top;\n",
       "    }\n",
       "\n",
       "    .dataframe thead th {\n",
       "        text-align: right;\n",
       "    }\n",
       "</style>\n",
       "<table border=\"1\" class=\"dataframe\">\n",
       "  <thead>\n",
       "    <tr style=\"text-align: right;\">\n",
       "      <th></th>\n",
       "      <th>Vendas</th>\n",
       "    </tr>\n",
       "    <tr>\n",
       "      <th>Classe</th>\n",
       "      <th></th>\n",
       "    </tr>\n",
       "  </thead>\n",
       "  <tbody>\n",
       "    <tr>\n",
       "      <th>Junior</th>\n",
       "      <td>2400</td>\n",
       "    </tr>\n",
       "    <tr>\n",
       "      <th>Pleno</th>\n",
       "      <td>6500</td>\n",
       "    </tr>\n",
       "    <tr>\n",
       "      <th>Senior</th>\n",
       "      <td>4300</td>\n",
       "    </tr>\n",
       "  </tbody>\n",
       "</table>\n",
       "</div>"
      ],
      "text/plain": [
       "        Vendas\n",
       "Classe        \n",
       "Junior    2400\n",
       "Pleno     6500\n",
       "Senior    4300"
      ]
     },
     "execution_count": 91,
     "metadata": {},
     "output_type": "execute_result"
    }
   ],
   "source": [
    "# Qual foi o total de vendas por classe:\n",
    "\n",
    "group = dfData.groupby('Classe').sum(numeric_only=True) \n",
    "group"
   ]
  },
  {
   "cell_type": "markdown",
   "id": "709be7a2",
   "metadata": {},
   "source": [
    "**CONCAT**"
   ]
  },
  {
   "cell_type": "code",
   "execution_count": 97,
   "id": "6ed69d52",
   "metadata": {},
   "outputs": [],
   "source": [
    "df_1 = pd.DataFrame({'A': ['A0', 'A1', 'A2', 'A3'],\n",
    "                        'B': ['B0', 'B1', 'B2', 'B3'],\n",
    "                        'C': ['C0', 'C1', 'C2', 'C3'],\n",
    "                        'D': ['D0', 'D1', 'D2', 'D3']},\n",
    "                        index=[0, 1, 2, 3])\n",
    "\n",
    "df_2 = pd.DataFrame({'A': ['A4', 'A5', 'A6', 'A7'],\n",
    "                        'B': ['B4', 'B5', 'B6', 'B7'],\n",
    "                        'C': ['C4', 'C5', 'C6', 'C7'],\n",
    "                        'D': ['D4', 'D5', 'D6', 'D7']},\n",
    "                         index=[4, 5, 6, 7])\n",
    "df_3 = pd.DataFrame({'A': ['A8', 'A9', 'A10', 'A11'],\n",
    "                        'B': ['B8', 'B9', 'B10', 'B11'],\n",
    "                        'C': ['C8', 'C9', 'C10', 'C11'],\n",
    "                        'D': ['D8', 'D9', 'D10', 'D11']},\n",
    "                        index=[8, 9, 10, 11])"
   ]
  },
  {
   "cell_type": "code",
   "execution_count": null,
   "id": "d1d7ab4c",
   "metadata": {},
   "outputs": [],
   "source": []
  }
 ],
 "metadata": {
  "kernelspec": {
   "display_name": "Python 3 (ipykernel)",
   "language": "python",
   "name": "python3"
  },
  "language_info": {
   "codemirror_mode": {
    "name": "ipython",
    "version": 3
   },
   "file_extension": ".py",
   "mimetype": "text/x-python",
   "name": "python",
   "nbconvert_exporter": "python",
   "pygments_lexer": "ipython3",
   "version": "3.11.4"
  }
 },
 "nbformat": 4,
 "nbformat_minor": 5
}
