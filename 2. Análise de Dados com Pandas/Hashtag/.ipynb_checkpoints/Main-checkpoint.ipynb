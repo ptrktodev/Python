{
 "cells": [
  {
   "cell_type": "code",
   "execution_count": 3,
   "id": "fbc69bf3-7aed-4e4e-8f46-bf662405318c",
   "metadata": {},
   "outputs": [],
   "source": [
    "import pandas as pd\n",
    "#importando os arquivos\n",
    "vendas_df = pd.read_csv(r'Contoso_Vendas _2017.csv', sep=\";\", encoding='utf-8')\n",
    "produtos_df = pd.read_csv(r'Contoso_CadastroProdutos.csv', sep=\";\", encoding='Latin1')\n",
    "lojas_df = pd.read_csv(r'Contoso_Lojas.csv', sep=\";\", encoding='ISO-8859-1')\n",
    "clientes_df = pd.read_csv(r'Contoso_Clientes.csv', sep=\";\", encoding='ISO-8859-1')"
   ]
  },
  {
   "cell_type": "markdown",
   "id": "99b9ed6d-216b-439f-a25e-2da1a84a08e2",
   "metadata": {},
   "source": [
    "🎲 **REMOVENDO COLUNAS DESNECESSÁRIAS:**"
   ]
  },
  {
   "cell_type": "code",
   "execution_count": 4,
   "id": "ab1006bb-d827-41fa-8de4-cf2d78d17400",
   "metadata": {},
   "outputs": [],
   "source": [
    "vendas_df = vendas_df.drop('ID Promocao', axis=1)"
   ]
  },
  {
   "cell_type": "markdown",
   "id": "63057b63-b9a5-48b0-b8ba-24a6698e0b26",
   "metadata": {},
   "source": [
    "🧩 **RENOMEANDO COLUNAS BUGADAS:**"
   ]
  },
  {
   "cell_type": "code",
   "execution_count": 5,
   "id": "127808c6-91ec-46a7-b920-af49a03b79fa",
   "metadata": {},
   "outputs": [],
   "source": [
    "lojas_df.rename(columns={\"ÿID Loja\": \"ID Loja\"}, inplace=True)\n",
    "produtos_df.rename(columns={'ÿNome do Produto': 'Nome do Produto'}, inplace=True)\n",
    "clientes_df.rename(columns={'ÿID Cliente': 'ID Cliente'}, inplace=True)"
   ]
  },
  {
   "cell_type": "markdown",
   "id": "5aafbc55-e0d6-49e0-ad4f-e07cd9b78355",
   "metadata": {},
   "source": [
    "🃏 **EXTRAINDO DUAS OU + COLUNAS:**"
   ]
  },
  {
   "cell_type": "code",
   "execution_count": 6,
   "id": "917d26c4-ed93-487e-bba5-454ab1412def",
   "metadata": {},
   "outputs": [],
   "source": [
    "clientes_df = clientes_df[['ID Cliente', 'E-mail']]\n",
    "produtos_df = produtos_df[['ID Produto', 'Nome do Produto']]\n",
    "lojas_df = lojas_df[['ID Loja', 'Nome da Loja']]"
   ]
  },
  {
   "cell_type": "markdown",
   "id": "b1e0b8cd-6417-4edb-8dc4-1230221d7131",
   "metadata": {},
   "source": [
    "\n",
    "🪢 **COMBINANDO DOIS DATAFRAMES COM BASE EM COLUNAS OU INDICES EM COMUM, NO CASO UTILIZEI OS ID'S:**\n"
   ]
  },
  {
   "cell_type": "code",
   "execution_count": 7,
   "id": "d42955cc-eb33-40b8-ae23-fb5b271dcc20",
   "metadata": {},
   "outputs": [],
   "source": [
    "vendas_df = vendas_df.merge(produtos_df, on='ID Produto')\n",
    "vendas_df = vendas_df.merge(lojas_df, on='ID Loja')\n",
    "vendas_df = vendas_df.merge(clientes_df, on='ID Cliente')"
   ]
  },
  {
   "cell_type": "markdown",
   "id": "d1997f65-8e01-4afd-b40f-8ae9521508c8",
   "metadata": {},
   "source": [
    "\n",
    "⬇️ **AGORA SE QUISERMOS UMA COLUNA COM O ANO, MÊS E DIA DA VENDA? EXTRAINDO AS INFORMAÇÕES DO DATAFRAME PRINCIPAL:**\n"
   ]
  },
  {
   "cell_type": "code",
   "execution_count": 8,
   "id": "d28946c2-e29f-4536-b69b-2f30a55b7fc0",
   "metadata": {},
   "outputs": [],
   "source": [
    "vendas_df['Data da Venda'] = pd.to_datetime(vendas_df['Data da Venda'], format='%d/%m/%Y')\n",
    "vendas_df['Ano da Venda'] = vendas_df['Data da Venda'].dt.year\n",
    "vendas_df['Mês da Venda'] = vendas_df['Data da Venda'].dt.month\n",
    "vendas_df['Dia da Venda'] = vendas_df['Data da Venda'].dt.day"
   ]
  },
  {
   "cell_type": "markdown",
   "id": "0f45c371-58fe-458b-93ce-9e22dcce9b05",
   "metadata": {},
   "source": [
    "🪄 **VAMOS BUSCAR UMA 'ROW' PASSANDO AS CONDICIONAIS:**"
   ]
  },
  {
   "cell_type": "code",
   "execution_count": 9,
   "id": "3e51feff-4454-4244-a46f-74ec985ba6a6",
   "metadata": {},
   "outputs": [],
   "source": [
    "lojas_condicionais = vendas_df.query(\"`ID Loja` == 86 and `Quantidade Devolvida` == 1 and `ID Produto` == 981\")"
   ]
  },
  {
   "cell_type": "markdown",
   "id": "f866a7b4-6e64-4f7d-a372-ae3a27a7e660",
   "metadata": {},
   "source": [
    "🔮 **ALTERAR/MODIFICAR VALORES ESPECIFICOS DENTRO DE UMA COLUNA**\n",
    "> objeto.loc['indice', 'coluna'] -> retorna o dado"
   ]
  },
  {
   "cell_type": "markdown",
   "id": "8cdbf58e-651f-44c5-af3a-a2699501d738",
   "metadata": {},
   "source": [
    "> objeto.iloc[valor_linha, valor_coluna] -> return o dado"
   ]
  },
  {
   "cell_type": "code",
   "execution_count": 10,
   "id": "b3731607-1305-4b8a-b292-ad67a282d32e",
   "metadata": {},
   "outputs": [],
   "source": [
    "produto_newVar = pd.read_csv(r'Contoso_CadastroProdutos.csv', sep=\";\", encoding='ISO-8859-1')\n",
    "produto_newVar.rename(columns={'ÿNome do Produto': 'Nome do Produto'}, inplace=True)\n",
    "\n",
    "name_produto = 'Contoso Wireless Laser Mouse E50 Grey'\n",
    "\n",
    "nameProduto_indc = produto_newVar.set_index('Nome do Produto') # VAMOS SETAR OS NOMES DOS PRODUTOS COMO INDICE:\n",
    "produto_aleat = nameProduto_indc.loc[name_produto, 'Preco Unitario'] # return: '20,96'\n",
    "\n",
    "# display(nameProduto_indc[:5]) # Tabela Original\n",
    "nameProduto_indc.loc[name_produto, 'Preco Unitario'] = 19.99 # ALTERANDO O VALOR DO PRODUTO \n",
    "# display(nameProduto_indc[:5]) # Tabela Modificada"
   ]
  },
  {
   "cell_type": "markdown",
   "id": "9796b197-7b03-4812-aa61-cea7085d2b68",
   "metadata": {},
   "source": [
    "🎳 **SALVANDO/EXPORTANDO DE DATAFRAME PARA CSV:**"
   ]
  },
  {
   "cell_type": "code",
   "execution_count": 11,
   "id": "1b11c2ad-ea56-4b7e-9476-a36e3b5375f4",
   "metadata": {},
   "outputs": [],
   "source": [
    "# vendas_df.to_csv(r'Novo_Vendas_2017.csv', sep=';', encoding='letin1')"
   ]
  },
  {
   "cell_type": "markdown",
   "id": "ee59e534-c8f4-48e8-a46d-8788935c6100",
   "metadata": {},
   "source": [
    "🥋 **TRANSFORMANDO UM DICIONÁRIO EM DATAFRAME:**\n",
    "> A orientação padrao de from_dict() é 'columns', por isso o parâmetro orient='index'."
   ]
  },
  {
   "cell_type": "code",
   "execution_count": 12,
   "id": "2cc0a8e4-0509-48b4-a318-697184263e67",
   "metadata": {},
   "outputs": [],
   "source": [
    "vendas_produtos = {\n",
    "    'iphone': [566464, 345347],\n",
    "    'Samsung': [678677, 346545],\n",
    "    'Motorola': [675535, 423534],\n",
    "    'Google': [456789, 543210],\n",
    "    'Sony': [987654, 234567],\n",
    "    'LG': [876543, 345678],\n",
    "    'Huawei': [765432, 456789],\n",
    "    'Xiaomi': [654321, 567890],\n",
    "    'OnePlus': [543210, 678901],\n",
    "    'Nokia': [432109, 789012]\n",
    "}\n",
    "\n",
    "vendas_produtos_df = pd.DataFrame.from_dict(vendas_produtos, orient='index') \n",
    "\n",
    "vendas_produtos_df.rename(columns={0: '2019'}, inplace=True) # renomeando as colunas\n",
    "vendas_produtos_df.rename(columns={1: '2020'}, inplace=True) # renomeando as colunas\n",
    "\n",
    "# vendas_produtos_df.to_csv(r'dicionario_produtos.csv', sep=';', encoding='letin1')"
   ]
  },
  {
   "cell_type": "markdown",
   "id": "66472d09-ed1e-4889-97c6-d13aafe0e48b",
   "metadata": {},
   "source": [
    "🧩 **LENDO UM ARQUIVO .CSV DIRETO DA INTERNET:**\n",
    "> Caso 1: csv direto no link: https://drive.google.com/uc?authuser=0&id=1Ru7s-x3YJuStZK1mqr_qNqiHVvdHUN66&export=download\n"
   ]
  },
  {
   "cell_type": "code",
   "execution_count": 13,
   "id": "54be30b4-8f6f-41b4-b0c6-85521154a755",
   "metadata": {},
   "outputs": [],
   "source": [
    "import pandas as pd\n",
    "\n",
    "url = 'https://drive.google.com/uc?authuser=0&id=1Ru7s-x3YJuStZK1mqr_qNqiHVvdHUN66&export=download'\n",
    "cotacao_df = pd.read_csv(url)"
   ]
  },
  {
   "cell_type": "markdown",
   "id": "4d07b508-770f-4576-8cb0-6647d8be2584",
   "metadata": {},
   "source": [
    "> Caso 2: csv em uma requisição que precisa ser tratada: https://portalweb.cooxupe.com.br:9080/portal/precohistoricocafe.jsp"
   ]
  },
  {
   "cell_type": "code",
   "execution_count": 14,
   "id": "9a5d5668-c8e0-4212-ab36-6f770a4d2223",
   "metadata": {},
   "outputs": [],
   "source": [
    "import pandas as pd\n",
    "import requests\n",
    "import io\n",
    "\n",
    "url_ = 'https://portalweb.cooxupe.com.br:9080/portal/precohistoricocafe_1.jsp?d-3961599-e=2&6578706f7274=1' #Excell\n",
    "content_url = requests.get(url_).content # Buscando conteudo desse link\n",
    "arquivo = io.StringIO(content_url.decode('latin1')) # decodificando os bytes e criando um objeto StringIO que contém o texto resultante.\n",
    "cafe_df = pd.read_csv(arquivo, sep='\\t') "
   ]
  },
  {
   "cell_type": "markdown",
   "id": "44e07b26-f5fe-4f8d-a91a-8b3d817d1c3d",
   "metadata": {},
   "source": [
    "🎯 **INTEGRAÇÃO PYTHON + EXCEL**\n",
    "1. Pandas\n",
    "    - Mais usada no geral\n",
    "    - Trata o Excel como uma base de dados\n",
    "    - Faz o que quiser com o arquivo\n",
    "    - Pode desfazer a estrutura original do arquivo, caso queira editar"
   ]
  },
  {
   "cell_type": "markdown",
   "id": "dcdb7fd3-4030-47c4-93c9-7e1a5a94f8d7",
   "metadata": {},
   "source": [
    "2. Openpyxl\n",
    "    - Trata o Excel como uma planilha mesmo que pode ter várias coisas\n",
    "    - Edita \"como se fosse um VBA\"\n",
    "    - Menos eficiente\n",
    "    - Mantém mais a estrutura original do arquivo (fórmulas e gráficos), mas cuidado porque não necessariamente tudo, então tem que testar"
   ]
  },
  {
   "cell_type": "markdown",
   "id": "101eae19-9b23-4871-8b0a-4b8f472faf9f",
   "metadata": {},
   "source": [
    "- Temos uma planilha de produtos e serviços. Com o aumento de imposto sobre os serviços, temos que atualizar o preço dos produtos impactados pela mudança.\n",
    "\n",
    "Atual Multiplicador Imposto: 1.2  \n",
    "Novo Multiplicador Imposto: 1.5"
   ]
  },
  {
   "cell_type": "code",
   "execution_count": 50,
   "id": "a314c5ff-d52b-49f7-a5a7-96bf50cb0a57",
   "metadata": {},
   "outputs": [],
   "source": [
    "import pandas as pd\n",
    "\n",
    "# Passo 1: Atualizar o MUltiplicador \n",
    "tabelaDf = pd.read_excel('produtos.xlsx')\n",
    "\n",
    "tabelaDf.loc[tabelaDf['Tipo'] == 'Serviço', \"Multiplicador Imposto\"] = 1.5\n",
    "tabelaDf.loc[tabelaDf['Produtos'] ==  'Computador',  'Multiplicador Imposto'] = 1.2\n",
    "\n",
    "#Passo 2: Preço Base Reais\n",
    "tabelaDf['Preço Base Reais'] = tabelaDf['Preço Base Original'] * tabelaDf['Multiplicador Imposto']\n",
    "'''display(tabelaDf)'''\n",
    "\n",
    "# Passo 3: Salvar/Exportar em arquivo Excell:\n",
    "tabelaDf.to_excel(r'produtoPandas.xlsx', index=False) # para salvar sem coluna de index no Excell -> index=False"
   ]
  },
  {
   "cell_type": "markdown",
   "id": "1435b395-cb06-4047-8e6b-f182fe5a6e08",
   "metadata": {},
   "source": [
    "🚀 **INSERINDO UMA BARRA DE PROGRESSO NO LOADING DE UM DATAFRAME:**"
   ]
  },
  {
   "cell_type": "code",
   "execution_count": 49,
   "id": "9c648e7a-d0bb-4fd4-97f2-5bfb428c6b0c",
   "metadata": {},
   "outputs": [],
   "source": [
    "from tqdm import tqdm\n",
    "\n",
    "#pbar = tqdm(total=len(vendas_df['ID Loja']), position=0)\n",
    "\n",
    "for indice, value in enumerate(vendas_df['ID Loja']):\n",
    "    #pbar.update()\n",
    "    if value == 86:\n",
    "        vendas_df.loc[indice, 'Quantidade Devolvida'] += 0\n",
    "        \n",
    "#display(vendas_df)"
   ]
  },
  {
   "cell_type": "code",
   "execution_count": null,
   "id": "104f6d32-a5b3-481b-98d2-b17bf46cb29a",
   "metadata": {},
   "outputs": [],
   "source": []
  }
 ],
 "metadata": {
  "kernelspec": {
   "display_name": "Python 3 (ipykernel)",
   "language": "python",
   "name": "python3"
  },
  "language_info": {
   "codemirror_mode": {
    "name": "ipython",
    "version": 3
   },
   "file_extension": ".py",
   "mimetype": "text/x-python",
   "name": "python",
   "nbconvert_exporter": "python",
   "pygments_lexer": "ipython3",
   "version": "3.11.4"
  }
 },
 "nbformat": 4,
 "nbformat_minor": 5
}
