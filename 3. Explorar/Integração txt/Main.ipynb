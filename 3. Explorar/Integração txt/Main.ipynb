{
 "cells": [
  {
   "cell_type": "markdown",
   "id": "a0d80382-0a97-475f-be18-bfa0b94783b1",
   "metadata": {},
   "source": [
    "# Integração do Python com Arquivos txt\n",
    "\n",
    "Como quase tudo no Python, existem várias formas de ler um arquivo no Python.\n",
    "\n",
    "Aprendemos em módulos passadas a ler arquivos em Excel ou csv com o Pandas, minha recomendação é que, sempre que possível, use o pandas para isso porque ele é um módulo feito para análise de dados e tem muita coisa pronta dentro dele.\n",
    "\n",
    "Caso queira ler um arquivo txt simplesmente ou escrever um, vamos ver agora como fazer.\n",
    "\n",
    "### Estrutura:\n",
    "> 1. Método open: -> Abre um arquivo txt\n",
    "arquivo = open('NomeArquivo.txt', 'r')\n",
    "Usamos 'r' para abrir o arquivo para ler (read) e 'w' quando estamos abrindo o arquivo para escrever (write) ou 'a' se formos adicionar (append) uma informação no arquivo"
   ]
  },
  {
   "cell_type": "markdown",
   "id": "b611759c-3abc-4c7a-b40a-10dd04bc53a7",
   "metadata": {},
   "source": [
    "**Abrir um arquivo:**"
   ]
  },
  {
   "cell_type": "code",
   "execution_count": 1,
   "id": "e5f77e49-b577-4c11-99d9-89724112f612",
   "metadata": {},
   "outputs": [],
   "source": [
    "arquivo = open(\"Alunos.txt\", \"r\", encoding=\"iso-8859-1\")"
   ]
  },
  {
   "cell_type": "markdown",
   "id": "43d347e0-208d-4392-a2f4-5d3740a046bf",
   "metadata": {},
   "source": [
    "- Com o arquivo aberto, agora podemos efetivamente ler o arquivo com os métodos:"
   ]
  },
  {
   "cell_type": "code",
   "execution_count": 36,
   "id": "5d2df6dd-a316-44f5-b0f0-d85464cf1a05",
   "metadata": {},
   "outputs": [
    {
     "data": {
      "text/plain": [
       "'print (arquivo.read()) # somente le o arquivo igual no txt.'"
      ]
     },
     "execution_count": 36,
     "metadata": {},
     "output_type": "execute_result"
    }
   ],
   "source": [
    "'''print (arquivo.read()) # somente le o arquivo igual no txt.'''\n",
    "#print(arquiv.readlines()) # Cada linha do arquivo txt torna-se um item numa lista."
   ]
  },
  {
   "cell_type": "markdown",
   "id": "84a4e192-954e-473d-8c9d-d741b3edd968",
   "metadata": {},
   "source": [
    "- Para escrever alguma coisa no arquivo teremos o método write:\n",
    ">arquivo.write('Texto que quero escrever')"
   ]
  },
  {
   "cell_type": "code",
   "execution_count": 45,
   "id": "b8382244-8669-42a0-87d5-d8daad8c4768",
   "metadata": {},
   "outputs": [],
   "source": [
    "new_arquivo = open(\"Resumo.txt\", \"w\", encoding=\"iso-8859-1\") # resumo.txt sera criado pois nao existe na pasta\n",
    "new_arquivo.write(\"Hello World!\\n\") # escrevendo no arquivo\n",
    "new_arquivo.write(\"Segunda linha\") # escrevendo outro texto no arquivo\n",
    "new_arquivo.close() # para finalizar, fechando o arquivo"
   ]
  },
  {
   "cell_type": "markdown",
   "id": "22e27ad5-e29e-44ff-a6d8-347597c1c208",
   "metadata": {},
   "source": [
    "- 'with' para que, ao final do with, a própria estrutura with fecha automaticamente o arquivo"
   ]
  },
  {
   "cell_type": "code",
   "execution_count": 53,
   "id": "acda484b-0904-4823-89e6-7d67b1b93f02",
   "metadata": {},
   "outputs": [
    {
     "name": "stdout",
     "output_type": "stream",
     "text": [
      "Hello World!\n",
      "Segunda linha\n"
     ]
    }
   ],
   "source": [
    "with open(\"txtcomWith.txt\", 'w') as arquivo:\n",
    "    arquivo.write(\"FUncionou!!\\n\")\n",
    "    arquivo.write(\"FUncionou novamente kkkkkk!!\\n\")\n",
    "\n",
    "with open('Resumo.txt', 'r', encoding=\"iso-8859-1\") as arq:\n",
    "    print(arq.read())"
   ]
  },
  {
   "cell_type": "markdown",
   "id": "eaf24ddb-0f5f-4a12-9856-492cf7bb278f",
   "metadata": {},
   "source": [
    "### Desafio onde vamos aprender: 🍷\n",
    "\n",
    "- Na Hashtag, sempre analisamos o nosso \"Funil de Vendas\". Para isso, rastreamos de onde veio os alunos por meio de um código, do tipo:\n",
    "    - hashtag_site_org -> Pessoas que vieram pelo site da Hashtag\n",
    "    - hashtag_yt_org -> Pessoas que vieram pelo Youtube da Hashtag\n",
    "    - hashtag_ig_org -> Pessoas que vieram pelo Instagram da Hashtag\n",
    "    - hashtag_igfb_org -> Pessoas que vieram pelo Instagram ou Facebook da Hashtag\n",
    "\n",
    "Os códigos diferentes disso, são códigos de anúncio da Hashtag.\n",
    "\n",
    "- Queremos analisar quantos alunos vieram de anúncio e quantos vieram \"orgânico\".\n",
    "- Qual a melhor fonte \"orgânica\" de alunos\n",
    "\n",
    "Obs: orgânico é tudo aquilo que não veio de anúncios.\n",
    "\n",
    "No nosso sistema, conseguimos exportar um txt com as informações dos alunos, conforme o arquivo Alunos.txt<br>\n",
    "(Os dados foram gerados aleatoriamente para simular uma situação real, já que não podemos fornecer os dados reais dos alunos por questões de segurança)\n",
    "\n",
    "- No final, para treinar, vamos escrever todas essas respostas em um novo arquivo txt"
   ]
  },
  {
   "cell_type": "code",
   "execution_count": 10,
   "id": "cec83373-1716-4d64-be77-5dd8eca1fac5",
   "metadata": {
    "scrolled": true
   },
   "outputs": [
    {
     "name": "stdout",
     "output_type": "stream",
     "text": [
      "Tudo certo\n"
     ]
    }
   ],
   "source": [
    "arquivo = open('Alunos.txt', 'r', encoding='iso-8859-1')\n",
    "linhas = arquivo.readlines()\n",
    "del linhas[:4] # remover os primeiros quatro elementos (ou seja, as quatro primeiras linhas) da lista\n",
    "\n",
    "#criar indicadores\n",
    "qtde_anuncio = 0\n",
    "qtde_org = 0\n",
    "qtde_yt_org = 0\n",
    "qtde_igfb_org = 0\n",
    "qtde_site_org = 0\n",
    "\n",
    "#percorrer o arquivo\n",
    "for linha in linhas:\n",
    "    ''' \"fulano1151@gmail.com,origemurl:nan;109574838689...... ''' # Divida a string por ','\n",
    "    email, origem = linha.split(',')\n",
    "    if '_org' in origem:\n",
    "        qtde_org += 1\n",
    "        if 'qtde_yt_org' in origem:\n",
    "            qtde_yt_org += 1\n",
    "        elif 'qtde_igfb_org' or 'qtde_ig_org' in origem:\n",
    "            qtde_igfb_org += 1\n",
    "        elif 'qtde_site_org' in origem:\n",
    "            qtde_igfbqtde_site_org_org += 1\n",
    "    else:\n",
    "        qtde_anuncio += 1\n",
    "\n",
    "arquivo.close()\n",
    "\n",
    "with open('dados.txt', 'w') as arq:\n",
    "    arq.write(f'Quantidade anuncios: {qtde_anuncio}\\n')\n",
    "    arq.write(f'Quantidade orgânicos: {qtde_org}\\n')\n",
    "print('Tudo certo')\n"
   ]
  }
 ],
 "metadata": {
  "kernelspec": {
   "display_name": "Python 3 (ipykernel)",
   "language": "python",
   "name": "python3"
  },
  "language_info": {
   "codemirror_mode": {
    "name": "ipython",
    "version": 3
   },
   "file_extension": ".py",
   "mimetype": "text/x-python",
   "name": "python",
   "nbconvert_exporter": "python",
   "pygments_lexer": "ipython3",
   "version": "3.10.12"
  }
 },
 "nbformat": 4,
 "nbformat_minor": 5
}
