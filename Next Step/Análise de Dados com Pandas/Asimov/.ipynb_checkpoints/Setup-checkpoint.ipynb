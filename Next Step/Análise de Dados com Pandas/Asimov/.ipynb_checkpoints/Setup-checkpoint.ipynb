{
 "cells": [
  {
   "cell_type": "code",
   "execution_count": 1,
   "id": "aabb4ce4-6049-4e7b-a987-91783bd9d95a",
   "metadata": {},
   "outputs": [],
   "source": [
    "import pandas as pd "
   ]
  },
  {
   "cell_type": "markdown",
   "id": "5d489033-3f6a-47ce-8dea-c8834a9739f3",
   "metadata": {},
   "source": [
    "⚡ **SERIES:** \\\n",
    "Imagine que você tem uma lista de números, por exemplo: [10, 20, 30, 40, 50]. Uma lista comum em Python não possui rótulos, é apenas uma sequência de valores. Agora, se você quiser associar um rótulo a cada valor, como \"A\", \"B\", \"C\", \"D\" e \"E\", para que cada número tenha um nome, você poderia usar uma Series\n",
    "> serie = pd.Series(dados, index)"
   ]
  },
  {
   "cell_type": "code",
   "execution_count": 2,
   "id": "f9dd8779-78ad-4b97-a146-399314f77a0c",
   "metadata": {},
   "outputs": [
    {
     "data": {
      "text/plain": [
       "A       Beto\n",
       "B    Patrick\n",
       "C      Julio\n",
       "dtype: object"
      ]
     },
     "metadata": {},
     "output_type": "display_data"
    }
   ],
   "source": [
    "serieCreate = pd.Series(['Beto', 'Patrick', 'Julio'], ['A', 'B', 'C'])\n",
    "\n",
    "display(serieCreate)\n",
    "\n",
    "labelA = serieCreate['A'] # Obter dado através do Indice(rotulo)\n",
    "labelAB = serieCreate[['A', 'B']] # Obter dados através do Indice(rotulo)"
   ]
  },
  {
   "cell_type": "markdown",
   "id": "e0fb91fe-2d96-446d-8dba-293b7bac1a50",
   "metadata": {},
   "source": [
    "🔀 **DE SERIES PARA DATAFRAME:**\n",
    "> 🔹 serieCreate[['A', 'B']] -> utilizando [['xxxyyy']]\n",
    "> \n",
    "> 🔹 display(coluna_A.to_frame()) -> utilizando o metodo to_frame()"
   ]
  },
  {
   "cell_type": "markdown",
   "id": "959d1143-4140-4485-a73b-8422544532a1",
   "metadata": {},
   "source": [
    "❄️ **CRIANDO DATAFRAME:**"
   ]
  },
  {
   "cell_type": "code",
   "execution_count": 3,
   "id": "d4f23774-e961-4ab6-9a1f-52927f12e443",
   "metadata": {},
   "outputs": [
    {
     "data": {
      "text/html": [
       "<div>\n",
       "<style scoped>\n",
       "    .dataframe tbody tr th:only-of-type {\n",
       "        vertical-align: middle;\n",
       "    }\n",
       "\n",
       "    .dataframe tbody tr th {\n",
       "        vertical-align: top;\n",
       "    }\n",
       "\n",
       "    .dataframe thead th {\n",
       "        text-align: right;\n",
       "    }\n",
       "</style>\n",
       "<table border=\"1\" class=\"dataframe\">\n",
       "  <thead>\n",
       "    <tr style=\"text-align: right;\">\n",
       "      <th></th>\n",
       "      <th>Y</th>\n",
       "      <th>Z</th>\n",
       "      <th>W</th>\n",
       "      <th>X</th>\n",
       "      <th>Q</th>\n",
       "    </tr>\n",
       "  </thead>\n",
       "  <tbody>\n",
       "    <tr>\n",
       "      <th>A</th>\n",
       "      <td>-0.939426</td>\n",
       "      <td>1.743261</td>\n",
       "      <td>-0.775443</td>\n",
       "      <td>0.230579</td>\n",
       "      <td>1.727765</td>\n",
       "    </tr>\n",
       "    <tr>\n",
       "      <th>B</th>\n",
       "      <td>0.658182</td>\n",
       "      <td>-0.122428</td>\n",
       "      <td>0.539046</td>\n",
       "      <td>-0.058211</td>\n",
       "      <td>0.146142</td>\n",
       "    </tr>\n",
       "    <tr>\n",
       "      <th>C</th>\n",
       "      <td>-0.167507</td>\n",
       "      <td>-0.424723</td>\n",
       "      <td>0.185905</td>\n",
       "      <td>-0.738616</td>\n",
       "      <td>-2.292587</td>\n",
       "    </tr>\n",
       "    <tr>\n",
       "      <th>D</th>\n",
       "      <td>1.523331</td>\n",
       "      <td>-0.954317</td>\n",
       "      <td>-0.599702</td>\n",
       "      <td>0.221725</td>\n",
       "      <td>0.101403</td>\n",
       "    </tr>\n",
       "    <tr>\n",
       "      <th>E</th>\n",
       "      <td>1.556134</td>\n",
       "      <td>1.197178</td>\n",
       "      <td>-0.228824</td>\n",
       "      <td>-0.183818</td>\n",
       "      <td>-0.485991</td>\n",
       "    </tr>\n",
       "  </tbody>\n",
       "</table>\n",
       "</div>"
      ],
      "text/plain": [
       "          Y         Z         W         X         Q\n",
       "A -0.939426  1.743261 -0.775443  0.230579  1.727765\n",
       "B  0.658182 -0.122428  0.539046 -0.058211  0.146142\n",
       "C -0.167507 -0.424723  0.185905 -0.738616 -2.292587\n",
       "D  1.523331 -0.954317 -0.599702  0.221725  0.101403\n",
       "E  1.556134  1.197178 -0.228824 -0.183818 -0.485991"
      ]
     },
     "metadata": {},
     "output_type": "display_data"
    }
   ],
   "source": [
    "from numpy.random import randn\n",
    "\n",
    "# randn(linhas, columns) -> gerar numeros \n",
    "\n",
    "df = pd.DataFrame(randn(5, 5), index=['A', 'B' , 'C', 'D', 'E'], columns=[\"Y\", 'Z', 'W','X', 'Q'])\n",
    "\n",
    "display(df)\n"
   ]
  },
  {
   "cell_type": "code",
   "execution_count": 4,
   "id": "84a79c38-ffb8-45f6-af65-c36f921bc2d3",
   "metadata": {},
   "outputs": [
    {
     "data": {
      "text/plain": [
       "A   -0.939426\n",
       "B    0.658182\n",
       "C   -0.167507\n",
       "D    1.523331\n",
       "E    1.556134\n",
       "Name: Y, dtype: float64"
      ]
     },
     "metadata": {},
     "output_type": "display_data"
    },
    {
     "data": {
      "text/html": [
       "<div>\n",
       "<style scoped>\n",
       "    .dataframe tbody tr th:only-of-type {\n",
       "        vertical-align: middle;\n",
       "    }\n",
       "\n",
       "    .dataframe tbody tr th {\n",
       "        vertical-align: top;\n",
       "    }\n",
       "\n",
       "    .dataframe thead th {\n",
       "        text-align: right;\n",
       "    }\n",
       "</style>\n",
       "<table border=\"1\" class=\"dataframe\">\n",
       "  <thead>\n",
       "    <tr style=\"text-align: right;\">\n",
       "      <th></th>\n",
       "      <th>Y</th>\n",
       "    </tr>\n",
       "  </thead>\n",
       "  <tbody>\n",
       "    <tr>\n",
       "      <th>A</th>\n",
       "      <td>-0.939426</td>\n",
       "    </tr>\n",
       "    <tr>\n",
       "      <th>B</th>\n",
       "      <td>0.658182</td>\n",
       "    </tr>\n",
       "    <tr>\n",
       "      <th>C</th>\n",
       "      <td>-0.167507</td>\n",
       "    </tr>\n",
       "    <tr>\n",
       "      <th>D</th>\n",
       "      <td>1.523331</td>\n",
       "    </tr>\n",
       "    <tr>\n",
       "      <th>E</th>\n",
       "      <td>1.556134</td>\n",
       "    </tr>\n",
       "  </tbody>\n",
       "</table>\n",
       "</div>"
      ],
      "text/plain": [
       "          Y\n",
       "A -0.939426\n",
       "B  0.658182\n",
       "C -0.167507\n",
       "D  1.523331\n",
       "E  1.556134"
      ]
     },
     "metadata": {},
     "output_type": "display_data"
    }
   ],
   "source": [
    "display(df['Y']) # Obter dados atraves da Coluna. DType:return series\n",
    "display(df[['Y']]) # Obter dados atraves da Coluna. DType:return DataFrame"
   ]
  },
  {
   "cell_type": "markdown",
   "id": "321e718c-ba0d-462a-95ea-d9685624a6df",
   "metadata": {},
   "source": [
    "☄️ **Criando uma nova coluna e preenchendo com dados existentes da coluna Y:**"
   ]
  },
  {
   "cell_type": "code",
   "execution_count": 5,
   "id": "ca83e3b5-888a-4a63-9b2b-d041c3e3e456",
   "metadata": {},
   "outputs": [
    {
     "data": {
      "text/html": [
       "<div>\n",
       "<style scoped>\n",
       "    .dataframe tbody tr th:only-of-type {\n",
       "        vertical-align: middle;\n",
       "    }\n",
       "\n",
       "    .dataframe tbody tr th {\n",
       "        vertical-align: top;\n",
       "    }\n",
       "\n",
       "    .dataframe thead th {\n",
       "        text-align: right;\n",
       "    }\n",
       "</style>\n",
       "<table border=\"1\" class=\"dataframe\">\n",
       "  <thead>\n",
       "    <tr style=\"text-align: right;\">\n",
       "      <th></th>\n",
       "      <th>Y</th>\n",
       "      <th>Z</th>\n",
       "      <th>W</th>\n",
       "      <th>X</th>\n",
       "      <th>Q</th>\n",
       "      <th>new</th>\n",
       "    </tr>\n",
       "  </thead>\n",
       "  <tbody>\n",
       "    <tr>\n",
       "      <th>A</th>\n",
       "      <td>-0.939426</td>\n",
       "      <td>1.743261</td>\n",
       "      <td>-0.775443</td>\n",
       "      <td>0.230579</td>\n",
       "      <td>1.727765</td>\n",
       "      <td>-0.939426</td>\n",
       "    </tr>\n",
       "    <tr>\n",
       "      <th>B</th>\n",
       "      <td>0.658182</td>\n",
       "      <td>-0.122428</td>\n",
       "      <td>0.539046</td>\n",
       "      <td>-0.058211</td>\n",
       "      <td>0.146142</td>\n",
       "      <td>0.658182</td>\n",
       "    </tr>\n",
       "    <tr>\n",
       "      <th>C</th>\n",
       "      <td>-0.167507</td>\n",
       "      <td>-0.424723</td>\n",
       "      <td>0.185905</td>\n",
       "      <td>-0.738616</td>\n",
       "      <td>-2.292587</td>\n",
       "      <td>-0.167507</td>\n",
       "    </tr>\n",
       "    <tr>\n",
       "      <th>D</th>\n",
       "      <td>1.523331</td>\n",
       "      <td>-0.954317</td>\n",
       "      <td>-0.599702</td>\n",
       "      <td>0.221725</td>\n",
       "      <td>0.101403</td>\n",
       "      <td>1.523331</td>\n",
       "    </tr>\n",
       "    <tr>\n",
       "      <th>E</th>\n",
       "      <td>1.556134</td>\n",
       "      <td>1.197178</td>\n",
       "      <td>-0.228824</td>\n",
       "      <td>-0.183818</td>\n",
       "      <td>-0.485991</td>\n",
       "      <td>1.556134</td>\n",
       "    </tr>\n",
       "  </tbody>\n",
       "</table>\n",
       "</div>"
      ],
      "text/plain": [
       "          Y         Z         W         X         Q       new\n",
       "A -0.939426  1.743261 -0.775443  0.230579  1.727765 -0.939426\n",
       "B  0.658182 -0.122428  0.539046 -0.058211  0.146142  0.658182\n",
       "C -0.167507 -0.424723  0.185905 -0.738616 -2.292587 -0.167507\n",
       "D  1.523331 -0.954317 -0.599702  0.221725  0.101403  1.523331\n",
       "E  1.556134  1.197178 -0.228824 -0.183818 -0.485991  1.556134"
      ]
     },
     "metadata": {},
     "output_type": "display_data"
    }
   ],
   "source": [
    "df['new'] = df['Y']\n",
    "display(df)"
   ]
  },
  {
   "cell_type": "markdown",
   "id": "22494ddf-a84d-45f2-a84a-994b4fd11c39",
   "metadata": {},
   "source": [
    "🌟  **Criando uma nova coluna e preenchendo com a SOMA dos dados de colunas existentes:**"
   ]
  },
  {
   "cell_type": "code",
   "execution_count": 6,
   "id": "436520fa-d31d-4163-bfe0-68ce2d4972c0",
   "metadata": {},
   "outputs": [
    {
     "data": {
      "text/html": [
       "<div>\n",
       "<style scoped>\n",
       "    .dataframe tbody tr th:only-of-type {\n",
       "        vertical-align: middle;\n",
       "    }\n",
       "\n",
       "    .dataframe tbody tr th {\n",
       "        vertical-align: top;\n",
       "    }\n",
       "\n",
       "    .dataframe thead th {\n",
       "        text-align: right;\n",
       "    }\n",
       "</style>\n",
       "<table border=\"1\" class=\"dataframe\">\n",
       "  <thead>\n",
       "    <tr style=\"text-align: right;\">\n",
       "      <th></th>\n",
       "      <th>Y</th>\n",
       "      <th>Z</th>\n",
       "      <th>W</th>\n",
       "      <th>X</th>\n",
       "      <th>Q</th>\n",
       "      <th>new</th>\n",
       "      <th>sum</th>\n",
       "    </tr>\n",
       "  </thead>\n",
       "  <tbody>\n",
       "    <tr>\n",
       "      <th>A</th>\n",
       "      <td>-0.939426</td>\n",
       "      <td>1.743261</td>\n",
       "      <td>-0.775443</td>\n",
       "      <td>0.230579</td>\n",
       "      <td>1.727765</td>\n",
       "      <td>-0.939426</td>\n",
       "      <td>-0.544864</td>\n",
       "    </tr>\n",
       "    <tr>\n",
       "      <th>B</th>\n",
       "      <td>0.658182</td>\n",
       "      <td>-0.122428</td>\n",
       "      <td>0.539046</td>\n",
       "      <td>-0.058211</td>\n",
       "      <td>0.146142</td>\n",
       "      <td>0.658182</td>\n",
       "      <td>0.480835</td>\n",
       "    </tr>\n",
       "    <tr>\n",
       "      <th>C</th>\n",
       "      <td>-0.167507</td>\n",
       "      <td>-0.424723</td>\n",
       "      <td>0.185905</td>\n",
       "      <td>-0.738616</td>\n",
       "      <td>-2.292587</td>\n",
       "      <td>-0.167507</td>\n",
       "      <td>-0.552711</td>\n",
       "    </tr>\n",
       "    <tr>\n",
       "      <th>D</th>\n",
       "      <td>1.523331</td>\n",
       "      <td>-0.954317</td>\n",
       "      <td>-0.599702</td>\n",
       "      <td>0.221725</td>\n",
       "      <td>0.101403</td>\n",
       "      <td>1.523331</td>\n",
       "      <td>-0.377977</td>\n",
       "    </tr>\n",
       "    <tr>\n",
       "      <th>E</th>\n",
       "      <td>1.556134</td>\n",
       "      <td>1.197178</td>\n",
       "      <td>-0.228824</td>\n",
       "      <td>-0.183818</td>\n",
       "      <td>-0.485991</td>\n",
       "      <td>1.556134</td>\n",
       "      <td>-0.412642</td>\n",
       "    </tr>\n",
       "  </tbody>\n",
       "</table>\n",
       "</div>"
      ],
      "text/plain": [
       "          Y         Z         W         X         Q       new       sum\n",
       "A -0.939426  1.743261 -0.775443  0.230579  1.727765 -0.939426 -0.544864\n",
       "B  0.658182 -0.122428  0.539046 -0.058211  0.146142  0.658182  0.480835\n",
       "C -0.167507 -0.424723  0.185905 -0.738616 -2.292587 -0.167507 -0.552711\n",
       "D  1.523331 -0.954317 -0.599702  0.221725  0.101403  1.523331 -0.377977\n",
       "E  1.556134  1.197178 -0.228824 -0.183818 -0.485991  1.556134 -0.412642"
      ]
     },
     "execution_count": 6,
     "metadata": {},
     "output_type": "execute_result"
    }
   ],
   "source": [
    "df['sum'] = df['W'] + df['X']\n",
    "df"
   ]
  },
  {
   "cell_type": "markdown",
   "id": "630e6b02-484e-47d8-9482-850cc411f363",
   "metadata": {},
   "source": [
    "❌ **DELETANDO UMA DETERMINADA COLUNA**\n",
    "> O método df.drop() não altera o DataFrame df original. Ele retorna uma nova cópia do DataFrame sem a coluna 'Y'. Quando utilizá-lo, insira para um novo DataFrame.\n",
    "> \n",
    "> Para alterar o DataFrame Original, utilize o parâmetro: df.drop(inplace=True)"
   ]
  },
  {
   "cell_type": "code",
   "execution_count": 7,
   "id": "5a25fa38-a645-4cda-94b3-a010b3c0a67c",
   "metadata": {},
   "outputs": [
    {
     "data": {
      "text/html": [
       "<div>\n",
       "<style scoped>\n",
       "    .dataframe tbody tr th:only-of-type {\n",
       "        vertical-align: middle;\n",
       "    }\n",
       "\n",
       "    .dataframe tbody tr th {\n",
       "        vertical-align: top;\n",
       "    }\n",
       "\n",
       "    .dataframe thead th {\n",
       "        text-align: right;\n",
       "    }\n",
       "</style>\n",
       "<table border=\"1\" class=\"dataframe\">\n",
       "  <thead>\n",
       "    <tr style=\"text-align: right;\">\n",
       "      <th></th>\n",
       "      <th>Z</th>\n",
       "      <th>W</th>\n",
       "      <th>X</th>\n",
       "      <th>Q</th>\n",
       "      <th>new</th>\n",
       "      <th>sum</th>\n",
       "    </tr>\n",
       "  </thead>\n",
       "  <tbody>\n",
       "    <tr>\n",
       "      <th>B</th>\n",
       "      <td>-0.122428</td>\n",
       "      <td>0.539046</td>\n",
       "      <td>-0.058211</td>\n",
       "      <td>0.146142</td>\n",
       "      <td>0.658182</td>\n",
       "      <td>0.480835</td>\n",
       "    </tr>\n",
       "    <tr>\n",
       "      <th>C</th>\n",
       "      <td>-0.424723</td>\n",
       "      <td>0.185905</td>\n",
       "      <td>-0.738616</td>\n",
       "      <td>-2.292587</td>\n",
       "      <td>-0.167507</td>\n",
       "      <td>-0.552711</td>\n",
       "    </tr>\n",
       "    <tr>\n",
       "      <th>D</th>\n",
       "      <td>-0.954317</td>\n",
       "      <td>-0.599702</td>\n",
       "      <td>0.221725</td>\n",
       "      <td>0.101403</td>\n",
       "      <td>1.523331</td>\n",
       "      <td>-0.377977</td>\n",
       "    </tr>\n",
       "    <tr>\n",
       "      <th>E</th>\n",
       "      <td>1.197178</td>\n",
       "      <td>-0.228824</td>\n",
       "      <td>-0.183818</td>\n",
       "      <td>-0.485991</td>\n",
       "      <td>1.556134</td>\n",
       "      <td>-0.412642</td>\n",
       "    </tr>\n",
       "  </tbody>\n",
       "</table>\n",
       "</div>"
      ],
      "text/plain": [
       "          Z         W         X         Q       new       sum\n",
       "B -0.122428  0.539046 -0.058211  0.146142  0.658182  0.480835\n",
       "C -0.424723  0.185905 -0.738616 -2.292587 -0.167507 -0.552711\n",
       "D -0.954317 -0.599702  0.221725  0.101403  1.523331 -0.377977\n",
       "E  1.197178 -0.228824 -0.183818 -0.485991  1.556134 -0.412642"
      ]
     },
     "execution_count": 7,
     "metadata": {},
     "output_type": "execute_result"
    }
   ],
   "source": [
    "df_Modified = df.drop('Y', axis=1).drop('A', axis=0) # eixo 1 = Colunas -- eixo 0 = Linhas\n",
    "df_Modified"
   ]
  },
  {
   "cell_type": "markdown",
   "id": "c4a376e3-dcf4-4a9a-8be1-36c4e56be034",
   "metadata": {},
   "source": [
    "🔱 **Acessar linhas e células com o Método loc[] --baseado-- em etiquetas:**\n",
    "> 🔹 usado para seleção baseada em etiquetas. Isso significa que você especifica as linhas e colunas que deseja acessar usando rótulos de índice, em vez de números inteiros de posição."
   ]
  },
  {
   "cell_type": "code",
   "execution_count": 8,
   "id": "b3cab14a-a3ea-451d-91a7-00430db94970",
   "metadata": {},
   "outputs": [
    {
     "data": {
      "text/html": [
       "<div>\n",
       "<style scoped>\n",
       "    .dataframe tbody tr th:only-of-type {\n",
       "        vertical-align: middle;\n",
       "    }\n",
       "\n",
       "    .dataframe tbody tr th {\n",
       "        vertical-align: top;\n",
       "    }\n",
       "\n",
       "    .dataframe thead th {\n",
       "        text-align: right;\n",
       "    }\n",
       "</style>\n",
       "<table border=\"1\" class=\"dataframe\">\n",
       "  <thead>\n",
       "    <tr style=\"text-align: right;\">\n",
       "      <th></th>\n",
       "      <th>W</th>\n",
       "      <th>X</th>\n",
       "      <th>Q</th>\n",
       "    </tr>\n",
       "  </thead>\n",
       "  <tbody>\n",
       "    <tr>\n",
       "      <th>C</th>\n",
       "      <td>0.185905</td>\n",
       "      <td>-0.738616</td>\n",
       "      <td>-2.292587</td>\n",
       "    </tr>\n",
       "    <tr>\n",
       "      <th>D</th>\n",
       "      <td>-0.599702</td>\n",
       "      <td>0.221725</td>\n",
       "      <td>0.101403</td>\n",
       "    </tr>\n",
       "  </tbody>\n",
       "</table>\n",
       "</div>"
      ],
      "text/plain": [
       "          W         X         Q\n",
       "C  0.185905 -0.738616 -2.292587\n",
       "D -0.599702  0.221725  0.101403"
      ]
     },
     "execution_count": 8,
     "metadata": {},
     "output_type": "execute_result"
    }
   ],
   "source": [
    "df.loc[['D']] # Visualizando dados DA LINHA 'D' em DataFrame\n",
    "df.loc[['D', 'C']] # DataFrame da Linha 'D' e 'C'\n",
    "df.loc['D', 'sum'] # Selecionando uma célula especifica\n",
    "df.loc[:, 'Q'] # Selecionar uma coluna por rótulo -> IGUAL A: df[['Q']]\n",
    "df.loc[['D', 'C'], ['new']] # linhas D e C na coluna new -> return celulas em DF\n",
    "df.loc['C':'D','W':'Q']"
   ]
  },
  {
   "cell_type": "markdown",
   "id": "83c5a10a-62d7-4aa9-a32c-ab302f2a9bab",
   "metadata": {},
   "source": [
    "🔱 **Acessar linhas e células com o Método iloc[] --baseado-- em posição:**\n",
    "> 🔹 usado para seleção baseada em posição. Isso significa que você especifica as linhas e colunas que deseja acessar usando índices inteiros."
   ]
  },
  {
   "cell_type": "code",
   "execution_count": 9,
   "id": "f4bb5c41-a904-4d49-89ed-8f4e9b953788",
   "metadata": {},
   "outputs": [
    {
     "data": {
      "text/html": [
       "<div>\n",
       "<style scoped>\n",
       "    .dataframe tbody tr th:only-of-type {\n",
       "        vertical-align: middle;\n",
       "    }\n",
       "\n",
       "    .dataframe tbody tr th {\n",
       "        vertical-align: top;\n",
       "    }\n",
       "\n",
       "    .dataframe thead th {\n",
       "        text-align: right;\n",
       "    }\n",
       "</style>\n",
       "<table border=\"1\" class=\"dataframe\">\n",
       "  <thead>\n",
       "    <tr style=\"text-align: right;\">\n",
       "      <th></th>\n",
       "      <th>W</th>\n",
       "      <th>X</th>\n",
       "      <th>Q</th>\n",
       "      <th>new</th>\n",
       "    </tr>\n",
       "  </thead>\n",
       "  <tbody>\n",
       "    <tr>\n",
       "      <th>A</th>\n",
       "      <td>-0.775443</td>\n",
       "      <td>0.230579</td>\n",
       "      <td>1.727765</td>\n",
       "      <td>-0.939426</td>\n",
       "    </tr>\n",
       "    <tr>\n",
       "      <th>B</th>\n",
       "      <td>0.539046</td>\n",
       "      <td>-0.058211</td>\n",
       "      <td>0.146142</td>\n",
       "      <td>0.658182</td>\n",
       "    </tr>\n",
       "    <tr>\n",
       "      <th>C</th>\n",
       "      <td>0.185905</td>\n",
       "      <td>-0.738616</td>\n",
       "      <td>-2.292587</td>\n",
       "      <td>-0.167507</td>\n",
       "    </tr>\n",
       "  </tbody>\n",
       "</table>\n",
       "</div>"
      ],
      "text/plain": [
       "          W         X         Q       new\n",
       "A -0.775443  0.230579  1.727765 -0.939426\n",
       "B  0.539046 -0.058211  0.146142  0.658182\n",
       "C  0.185905 -0.738616 -2.292587 -0.167507"
      ]
     },
     "execution_count": 9,
     "metadata": {},
     "output_type": "execute_result"
    }
   ],
   "source": [
    "df.iloc[:3, 2:-1]"
   ]
  },
  {
   "cell_type": "markdown",
   "id": "83dc1597-bf73-492e-958d-519bc89f1332",
   "metadata": {},
   "source": [
    "🔰 **FILTROS: SELEÇÃO CONDICIONAL**"
   ]
  },
  {
   "cell_type": "code",
   "execution_count": 10,
   "id": "22531946-7249-41ca-b1a9-d897f5f94d77",
   "metadata": {},
   "outputs": [
    {
     "data": {
      "text/html": [
       "<div>\n",
       "<style scoped>\n",
       "    .dataframe tbody tr th:only-of-type {\n",
       "        vertical-align: middle;\n",
       "    }\n",
       "\n",
       "    .dataframe tbody tr th {\n",
       "        vertical-align: top;\n",
       "    }\n",
       "\n",
       "    .dataframe thead th {\n",
       "        text-align: right;\n",
       "    }\n",
       "</style>\n",
       "<table border=\"1\" class=\"dataframe\">\n",
       "  <thead>\n",
       "    <tr style=\"text-align: right;\">\n",
       "      <th></th>\n",
       "      <th>Y</th>\n",
       "      <th>Z</th>\n",
       "      <th>W</th>\n",
       "      <th>X</th>\n",
       "      <th>Q</th>\n",
       "      <th>new</th>\n",
       "      <th>sum</th>\n",
       "    </tr>\n",
       "  </thead>\n",
       "  <tbody>\n",
       "    <tr>\n",
       "      <th>B</th>\n",
       "      <td>0.658182</td>\n",
       "      <td>-0.122428</td>\n",
       "      <td>0.539046</td>\n",
       "      <td>-0.058211</td>\n",
       "      <td>0.146142</td>\n",
       "      <td>0.658182</td>\n",
       "      <td>0.480835</td>\n",
       "    </tr>\n",
       "    <tr>\n",
       "      <th>C</th>\n",
       "      <td>-0.167507</td>\n",
       "      <td>-0.424723</td>\n",
       "      <td>0.185905</td>\n",
       "      <td>-0.738616</td>\n",
       "      <td>-2.292587</td>\n",
       "      <td>-0.167507</td>\n",
       "      <td>-0.552711</td>\n",
       "    </tr>\n",
       "  </tbody>\n",
       "</table>\n",
       "</div>"
      ],
      "text/plain": [
       "          Y         Z         W         X         Q       new       sum\n",
       "B  0.658182 -0.122428  0.539046 -0.058211  0.146142  0.658182  0.480835\n",
       "C -0.167507 -0.424723  0.185905 -0.738616 -2.292587 -0.167507 -0.552711"
      ]
     },
     "execution_count": 10,
     "metadata": {},
     "output_type": "execute_result"
    }
   ],
   "source": [
    "df[df['W'] > 0]  # retorna um novo DataFrame contendo apenas as linhas onde o valor na coluna \"W\" é maior que zero."
   ]
  },
  {
   "cell_type": "code",
   "execution_count": 11,
   "id": "977fd8db-5114-4bfd-a99f-227f0079af9f",
   "metadata": {},
   "outputs": [
    {
     "data": {
      "text/html": [
       "<div>\n",
       "<style scoped>\n",
       "    .dataframe tbody tr th:only-of-type {\n",
       "        vertical-align: middle;\n",
       "    }\n",
       "\n",
       "    .dataframe tbody tr th {\n",
       "        vertical-align: top;\n",
       "    }\n",
       "\n",
       "    .dataframe thead th {\n",
       "        text-align: right;\n",
       "    }\n",
       "</style>\n",
       "<table border=\"1\" class=\"dataframe\">\n",
       "  <thead>\n",
       "    <tr style=\"text-align: right;\">\n",
       "      <th></th>\n",
       "      <th>Y</th>\n",
       "      <th>Z</th>\n",
       "      <th>W</th>\n",
       "      <th>X</th>\n",
       "      <th>Q</th>\n",
       "      <th>new</th>\n",
       "      <th>sum</th>\n",
       "    </tr>\n",
       "  </thead>\n",
       "  <tbody>\n",
       "  </tbody>\n",
       "</table>\n",
       "</div>"
      ],
      "text/plain": [
       "Empty DataFrame\n",
       "Columns: [Y, Z, W, X, Q, new, sum]\n",
       "Index: []"
      ]
     },
     "execution_count": 11,
     "metadata": {},
     "output_type": "execute_result"
    }
   ],
   "source": [
    "df[(df['W'] > 0) & (df['Q'] > 1)]"
   ]
  },
  {
   "cell_type": "markdown",
   "id": "ca617659-b08c-4374-9360-ac37f16f39d2",
   "metadata": {},
   "source": [
    "〽️ **MANIPULAR INDICES:**"
   ]
  },
  {
   "cell_type": "code",
   "execution_count": 12,
   "id": "7aeb9b59-0036-408a-b2f2-b917e22b352a",
   "metadata": {},
   "outputs": [
    {
     "data": {
      "text/html": [
       "<div>\n",
       "<style scoped>\n",
       "    .dataframe tbody tr th:only-of-type {\n",
       "        vertical-align: middle;\n",
       "    }\n",
       "\n",
       "    .dataframe tbody tr th {\n",
       "        vertical-align: top;\n",
       "    }\n",
       "\n",
       "    .dataframe thead th {\n",
       "        text-align: right;\n",
       "    }\n",
       "</style>\n",
       "<table border=\"1\" class=\"dataframe\">\n",
       "  <thead>\n",
       "    <tr style=\"text-align: right;\">\n",
       "      <th></th>\n",
       "      <th>index</th>\n",
       "      <th>Y</th>\n",
       "      <th>Z</th>\n",
       "      <th>W</th>\n",
       "      <th>X</th>\n",
       "      <th>Q</th>\n",
       "      <th>new</th>\n",
       "      <th>sum</th>\n",
       "    </tr>\n",
       "  </thead>\n",
       "  <tbody>\n",
       "    <tr>\n",
       "      <th>0</th>\n",
       "      <td>A</td>\n",
       "      <td>-0.939426</td>\n",
       "      <td>1.743261</td>\n",
       "      <td>-0.775443</td>\n",
       "      <td>0.230579</td>\n",
       "      <td>1.727765</td>\n",
       "      <td>-0.939426</td>\n",
       "      <td>-0.544864</td>\n",
       "    </tr>\n",
       "    <tr>\n",
       "      <th>1</th>\n",
       "      <td>B</td>\n",
       "      <td>0.658182</td>\n",
       "      <td>-0.122428</td>\n",
       "      <td>0.539046</td>\n",
       "      <td>-0.058211</td>\n",
       "      <td>0.146142</td>\n",
       "      <td>0.658182</td>\n",
       "      <td>0.480835</td>\n",
       "    </tr>\n",
       "    <tr>\n",
       "      <th>2</th>\n",
       "      <td>C</td>\n",
       "      <td>-0.167507</td>\n",
       "      <td>-0.424723</td>\n",
       "      <td>0.185905</td>\n",
       "      <td>-0.738616</td>\n",
       "      <td>-2.292587</td>\n",
       "      <td>-0.167507</td>\n",
       "      <td>-0.552711</td>\n",
       "    </tr>\n",
       "    <tr>\n",
       "      <th>3</th>\n",
       "      <td>D</td>\n",
       "      <td>1.523331</td>\n",
       "      <td>-0.954317</td>\n",
       "      <td>-0.599702</td>\n",
       "      <td>0.221725</td>\n",
       "      <td>0.101403</td>\n",
       "      <td>1.523331</td>\n",
       "      <td>-0.377977</td>\n",
       "    </tr>\n",
       "    <tr>\n",
       "      <th>4</th>\n",
       "      <td>E</td>\n",
       "      <td>1.556134</td>\n",
       "      <td>1.197178</td>\n",
       "      <td>-0.228824</td>\n",
       "      <td>-0.183818</td>\n",
       "      <td>-0.485991</td>\n",
       "      <td>1.556134</td>\n",
       "      <td>-0.412642</td>\n",
       "    </tr>\n",
       "  </tbody>\n",
       "</table>\n",
       "</div>"
      ],
      "text/plain": [
       "  index         Y         Z         W         X         Q       new       sum\n",
       "0     A -0.939426  1.743261 -0.775443  0.230579  1.727765 -0.939426 -0.544864\n",
       "1     B  0.658182 -0.122428  0.539046 -0.058211  0.146142  0.658182  0.480835\n",
       "2     C -0.167507 -0.424723  0.185905 -0.738616 -2.292587 -0.167507 -0.552711\n",
       "3     D  1.523331 -0.954317 -0.599702  0.221725  0.101403  1.523331 -0.377977\n",
       "4     E  1.556134  1.197178 -0.228824 -0.183818 -0.485991  1.556134 -0.412642"
      ]
     },
     "execution_count": 12,
     "metadata": {},
     "output_type": "execute_result"
    }
   ],
   "source": [
    "df.reset_index(inplace=True) # redefine o indice para um novo indice numérico e move o anterior como coluna.\n",
    "df"
   ]
  },
  {
   "cell_type": "code",
   "execution_count": 13,
   "id": "67f83ada-e1d8-491a-aedd-0c9497db4a01",
   "metadata": {},
   "outputs": [
    {
     "data": {
      "text/html": [
       "<div>\n",
       "<style scoped>\n",
       "    .dataframe tbody tr th:only-of-type {\n",
       "        vertical-align: middle;\n",
       "    }\n",
       "\n",
       "    .dataframe tbody tr th {\n",
       "        vertical-align: top;\n",
       "    }\n",
       "\n",
       "    .dataframe thead th {\n",
       "        text-align: right;\n",
       "    }\n",
       "</style>\n",
       "<table border=\"1\" class=\"dataframe\">\n",
       "  <thead>\n",
       "    <tr style=\"text-align: right;\">\n",
       "      <th></th>\n",
       "      <th>Y</th>\n",
       "      <th>Z</th>\n",
       "      <th>W</th>\n",
       "      <th>X</th>\n",
       "      <th>Q</th>\n",
       "      <th>new</th>\n",
       "      <th>sum</th>\n",
       "    </tr>\n",
       "    <tr>\n",
       "      <th>index</th>\n",
       "      <th></th>\n",
       "      <th></th>\n",
       "      <th></th>\n",
       "      <th></th>\n",
       "      <th></th>\n",
       "      <th></th>\n",
       "      <th></th>\n",
       "    </tr>\n",
       "  </thead>\n",
       "  <tbody>\n",
       "    <tr>\n",
       "      <th>A</th>\n",
       "      <td>-0.939426</td>\n",
       "      <td>1.743261</td>\n",
       "      <td>-0.775443</td>\n",
       "      <td>0.230579</td>\n",
       "      <td>1.727765</td>\n",
       "      <td>-0.939426</td>\n",
       "      <td>-0.544864</td>\n",
       "    </tr>\n",
       "    <tr>\n",
       "      <th>B</th>\n",
       "      <td>0.658182</td>\n",
       "      <td>-0.122428</td>\n",
       "      <td>0.539046</td>\n",
       "      <td>-0.058211</td>\n",
       "      <td>0.146142</td>\n",
       "      <td>0.658182</td>\n",
       "      <td>0.480835</td>\n",
       "    </tr>\n",
       "    <tr>\n",
       "      <th>C</th>\n",
       "      <td>-0.167507</td>\n",
       "      <td>-0.424723</td>\n",
       "      <td>0.185905</td>\n",
       "      <td>-0.738616</td>\n",
       "      <td>-2.292587</td>\n",
       "      <td>-0.167507</td>\n",
       "      <td>-0.552711</td>\n",
       "    </tr>\n",
       "    <tr>\n",
       "      <th>D</th>\n",
       "      <td>1.523331</td>\n",
       "      <td>-0.954317</td>\n",
       "      <td>-0.599702</td>\n",
       "      <td>0.221725</td>\n",
       "      <td>0.101403</td>\n",
       "      <td>1.523331</td>\n",
       "      <td>-0.377977</td>\n",
       "    </tr>\n",
       "    <tr>\n",
       "      <th>E</th>\n",
       "      <td>1.556134</td>\n",
       "      <td>1.197178</td>\n",
       "      <td>-0.228824</td>\n",
       "      <td>-0.183818</td>\n",
       "      <td>-0.485991</td>\n",
       "      <td>1.556134</td>\n",
       "      <td>-0.412642</td>\n",
       "    </tr>\n",
       "  </tbody>\n",
       "</table>\n",
       "</div>"
      ],
      "text/plain": [
       "              Y         Z         W         X         Q       new       sum\n",
       "index                                                                      \n",
       "A     -0.939426  1.743261 -0.775443  0.230579  1.727765 -0.939426 -0.544864\n",
       "B      0.658182 -0.122428  0.539046 -0.058211  0.146142  0.658182  0.480835\n",
       "C     -0.167507 -0.424723  0.185905 -0.738616 -2.292587 -0.167507 -0.552711\n",
       "D      1.523331 -0.954317 -0.599702  0.221725  0.101403  1.523331 -0.377977\n",
       "E      1.556134  1.197178 -0.228824 -0.183818 -0.485991  1.556134 -0.412642"
      ]
     },
     "execution_count": 13,
     "metadata": {},
     "output_type": "execute_result"
    }
   ],
   "source": [
    "df.set_index('index', inplace=True)\n",
    "df"
   ]
  },
  {
   "cell_type": "markdown",
   "id": "5ad7eeae-0cbb-4712-96f8-d0b9debaea33",
   "metadata": {},
   "source": [
    "🔱 **Hierarquia de índices e índices Múltiplos**"
   ]
  },
  {
   "cell_type": "code",
   "execution_count": 14,
   "id": "3a5aab0f-e057-439e-a088-04054bb13cd3",
   "metadata": {},
   "outputs": [
    {
     "name": "stdout",
     "output_type": "stream",
     "text": [
      "[('H', 1), ('H', 2), ('M', 1), ('M', 2)]\n"
     ]
    }
   ],
   "source": [
    "outside = ['H', 'H','M', 'M']\n",
    "inside = [1, 2, 1, 2]\n",
    "\n",
    "hierq_ind = list(zip(outside, inside))\n",
    "\n",
    "print(hierq_ind)"
   ]
  },
  {
   "cell_type": "code",
   "execution_count": 15,
   "id": "30f8c715-5d38-439e-84e9-cb77e43de82f",
   "metadata": {},
   "outputs": [],
   "source": [
    "# transformar em um objeto MultiIndex. Usado como um índice em um DataFrame do pandas para criar uma estrutura de índice hierárquico.\n",
    "hierq_ind = pd.MultiIndex.from_tuples(hierq_ind) "
   ]
  },
  {
   "cell_type": "code",
   "execution_count": 16,
   "id": "c24f8da7-97da-44c1-aa94-4525b528b07f",
   "metadata": {},
   "outputs": [
    {
     "data": {
      "text/html": [
       "<div>\n",
       "<style scoped>\n",
       "    .dataframe tbody tr th:only-of-type {\n",
       "        vertical-align: middle;\n",
       "    }\n",
       "\n",
       "    .dataframe tbody tr th {\n",
       "        vertical-align: top;\n",
       "    }\n",
       "\n",
       "    .dataframe thead th {\n",
       "        text-align: right;\n",
       "    }\n",
       "</style>\n",
       "<table border=\"1\" class=\"dataframe\">\n",
       "  <thead>\n",
       "    <tr style=\"text-align: right;\">\n",
       "      <th></th>\n",
       "      <th></th>\n",
       "      <th>A</th>\n",
       "      <th>B</th>\n",
       "    </tr>\n",
       "  </thead>\n",
       "  <tbody>\n",
       "    <tr>\n",
       "      <th rowspan=\"2\" valign=\"top\">H</th>\n",
       "      <th>1</th>\n",
       "      <td>0.017857</td>\n",
       "      <td>0.370544</td>\n",
       "    </tr>\n",
       "    <tr>\n",
       "      <th>2</th>\n",
       "      <td>-1.245655</td>\n",
       "      <td>0.627094</td>\n",
       "    </tr>\n",
       "    <tr>\n",
       "      <th rowspan=\"2\" valign=\"top\">M</th>\n",
       "      <th>1</th>\n",
       "      <td>-0.178525</td>\n",
       "      <td>0.206993</td>\n",
       "    </tr>\n",
       "    <tr>\n",
       "      <th>2</th>\n",
       "      <td>-1.178069</td>\n",
       "      <td>-0.597806</td>\n",
       "    </tr>\n",
       "  </tbody>\n",
       "</table>\n",
       "</div>"
      ],
      "text/plain": [
       "            A         B\n",
       "H 1  0.017857  0.370544\n",
       "  2 -1.245655  0.627094\n",
       "M 1 -0.178525  0.206993\n",
       "  2 -1.178069 -0.597806"
      ]
     },
     "execution_count": 16,
     "metadata": {},
     "output_type": "execute_result"
    }
   ],
   "source": [
    "df3 = pd.DataFrame(randn(4, 2), index=hierq_ind, columns='A B'.split())\n",
    "df3"
   ]
  },
  {
   "cell_type": "code",
   "execution_count": 17,
   "id": "4913992b-81cf-4972-9010-194950c67acc",
   "metadata": {},
   "outputs": [
    {
     "data": {
      "text/html": [
       "<div>\n",
       "<style scoped>\n",
       "    .dataframe tbody tr th:only-of-type {\n",
       "        vertical-align: middle;\n",
       "    }\n",
       "\n",
       "    .dataframe tbody tr th {\n",
       "        vertical-align: top;\n",
       "    }\n",
       "\n",
       "    .dataframe thead th {\n",
       "        text-align: right;\n",
       "    }\n",
       "</style>\n",
       "<table border=\"1\" class=\"dataframe\">\n",
       "  <thead>\n",
       "    <tr style=\"text-align: right;\">\n",
       "      <th></th>\n",
       "      <th></th>\n",
       "      <th>A</th>\n",
       "      <th>B</th>\n",
       "    </tr>\n",
       "    <tr>\n",
       "      <th>Gênero</th>\n",
       "      <th>Número</th>\n",
       "      <th></th>\n",
       "      <th></th>\n",
       "    </tr>\n",
       "  </thead>\n",
       "  <tbody>\n",
       "    <tr>\n",
       "      <th rowspan=\"2\" valign=\"top\">H</th>\n",
       "      <th>1</th>\n",
       "      <td>0.017857</td>\n",
       "      <td>0.370544</td>\n",
       "    </tr>\n",
       "    <tr>\n",
       "      <th>2</th>\n",
       "      <td>-1.245655</td>\n",
       "      <td>0.627094</td>\n",
       "    </tr>\n",
       "    <tr>\n",
       "      <th rowspan=\"2\" valign=\"top\">M</th>\n",
       "      <th>1</th>\n",
       "      <td>-0.178525</td>\n",
       "      <td>0.206993</td>\n",
       "    </tr>\n",
       "    <tr>\n",
       "      <th>2</th>\n",
       "      <td>-1.178069</td>\n",
       "      <td>-0.597806</td>\n",
       "    </tr>\n",
       "  </tbody>\n",
       "</table>\n",
       "</div>"
      ],
      "text/plain": [
       "                      A         B\n",
       "Gênero Número                    \n",
       "H      1       0.017857  0.370544\n",
       "       2      -1.245655  0.627094\n",
       "M      1      -0.178525  0.206993\n",
       "       2      -1.178069 -0.597806"
      ]
     },
     "execution_count": 17,
     "metadata": {},
     "output_type": "execute_result"
    }
   ],
   "source": [
    "# para renomear esse indices novos criados:\n",
    "df3.index.names = ['Gênero', 'Número']\n",
    "df3"
   ]
  },
  {
   "cell_type": "code",
   "execution_count": 20,
   "id": "c6d45d3a-792e-49dd-9fd7-dbeff4333c3b",
   "metadata": {},
   "outputs": [
    {
     "data": {
      "text/html": [
       "<div>\n",
       "<style scoped>\n",
       "    .dataframe tbody tr th:only-of-type {\n",
       "        vertical-align: middle;\n",
       "    }\n",
       "\n",
       "    .dataframe tbody tr th {\n",
       "        vertical-align: top;\n",
       "    }\n",
       "\n",
       "    .dataframe thead th {\n",
       "        text-align: right;\n",
       "    }\n",
       "</style>\n",
       "<table border=\"1\" class=\"dataframe\">\n",
       "  <thead>\n",
       "    <tr style=\"text-align: right;\">\n",
       "      <th></th>\n",
       "      <th>A</th>\n",
       "      <th>B</th>\n",
       "    </tr>\n",
       "    <tr>\n",
       "      <th>Número</th>\n",
       "      <th></th>\n",
       "      <th></th>\n",
       "    </tr>\n",
       "  </thead>\n",
       "  <tbody>\n",
       "    <tr>\n",
       "      <th>1</th>\n",
       "      <td>-0.178525</td>\n",
       "      <td>0.206993</td>\n",
       "    </tr>\n",
       "    <tr>\n",
       "      <th>2</th>\n",
       "      <td>-1.178069</td>\n",
       "      <td>-0.597806</td>\n",
       "    </tr>\n",
       "  </tbody>\n",
       "</table>\n",
       "</div>"
      ],
      "text/plain": [
       "               A         B\n",
       "Número                    \n",
       "1      -0.178525  0.206993\n",
       "2      -1.178069 -0.597806"
      ]
     },
     "execution_count": 20,
     "metadata": {},
     "output_type": "execute_result"
    }
   ],
   "source": [
    "# BUSCAS E SELEÇÃO:\n",
    "\n",
    "df3.loc['M'].loc[:, ['A']]\n",
    "df3.loc['M'].loc[[2]]\n",
    "df3.loc['M']"
   ]
  },
  {
   "cell_type": "markdown",
   "id": "a55c09ba-3ec1-4540-b068-2d4666548fab",
   "metadata": {},
   "source": [
    "> ⬇️ seleção das linhas do DataFrame df3 onde o valor do nível \"level='nomeIndiceAqui' é igual a x. Isso retorna um novo DataFrame ou uma série, dependendo do contexto em que é usado, contendo apenas as linhas correspondentes a essa condição."
   ]
  },
  {
   "cell_type": "code",
   "execution_count": 102,
   "id": "2c2ab68e-c29e-4fca-8d1b-2c95966be1fb",
   "metadata": {},
   "outputs": [
    {
     "data": {
      "text/html": [
       "<div>\n",
       "<style scoped>\n",
       "    .dataframe tbody tr th:only-of-type {\n",
       "        vertical-align: middle;\n",
       "    }\n",
       "\n",
       "    .dataframe tbody tr th {\n",
       "        vertical-align: top;\n",
       "    }\n",
       "\n",
       "    .dataframe thead th {\n",
       "        text-align: right;\n",
       "    }\n",
       "</style>\n",
       "<table border=\"1\" class=\"dataframe\">\n",
       "  <thead>\n",
       "    <tr style=\"text-align: right;\">\n",
       "      <th></th>\n",
       "      <th>A</th>\n",
       "      <th>B</th>\n",
       "    </tr>\n",
       "    <tr>\n",
       "      <th>Gênero</th>\n",
       "      <th></th>\n",
       "      <th></th>\n",
       "    </tr>\n",
       "  </thead>\n",
       "  <tbody>\n",
       "    <tr>\n",
       "      <th>H</th>\n",
       "      <td>0.705210</td>\n",
       "      <td>-0.392516</td>\n",
       "    </tr>\n",
       "    <tr>\n",
       "      <th>M</th>\n",
       "      <td>-0.313148</td>\n",
       "      <td>-0.371736</td>\n",
       "    </tr>\n",
       "  </tbody>\n",
       "</table>\n",
       "</div>"
      ],
      "text/plain": [
       "               A         B\n",
       "Gênero                    \n",
       "H       0.705210 -0.392516\n",
       "M      -0.313148 -0.371736"
      ]
     },
     "execution_count": 102,
     "metadata": {},
     "output_type": "execute_result"
    }
   ],
   "source": [
    "df3.xs(2, level='Número')"
   ]
  },
  {
   "cell_type": "markdown",
   "id": "fe01c6fd",
   "metadata": {},
   "source": [
    "❌ **TRATAMENTOS DE DADOS AUSENTES:**\n",
    "\n",
    "🧶\n",
    "> O método dropna() em Pandas é usado para remover valores ausentes (NaN) de um DataFrame ou Série.\n",
    "\n",
    "> Aprenda o df.dropna():\n",
    "https://bit.ly/3Rnp5GF"
   ]
  },
  {
   "cell_type": "code",
   "execution_count": 48,
   "id": "0bfc9e02",
   "metadata": {},
   "outputs": [
    {
     "data": {
      "text/html": [
       "<div>\n",
       "<style scoped>\n",
       "    .dataframe tbody tr th:only-of-type {\n",
       "        vertical-align: middle;\n",
       "    }\n",
       "\n",
       "    .dataframe tbody tr th {\n",
       "        vertical-align: top;\n",
       "    }\n",
       "\n",
       "    .dataframe thead th {\n",
       "        text-align: right;\n",
       "    }\n",
       "</style>\n",
       "<table border=\"1\" class=\"dataframe\">\n",
       "  <thead>\n",
       "    <tr style=\"text-align: right;\">\n",
       "      <th></th>\n",
       "      <th>A</th>\n",
       "      <th>B</th>\n",
       "      <th>C</th>\n",
       "    </tr>\n",
       "  </thead>\n",
       "  <tbody>\n",
       "    <tr>\n",
       "      <th>0</th>\n",
       "      <td>22734.0</td>\n",
       "      <td>334.0</td>\n",
       "      <td>5673.0</td>\n",
       "    </tr>\n",
       "    <tr>\n",
       "      <th>1</th>\n",
       "      <td>NaN</td>\n",
       "      <td>56.0</td>\n",
       "      <td>55.0</td>\n",
       "    </tr>\n",
       "    <tr>\n",
       "      <th>2</th>\n",
       "      <td>NaN</td>\n",
       "      <td>NaN</td>\n",
       "      <td>NaN</td>\n",
       "    </tr>\n",
       "  </tbody>\n",
       "</table>\n",
       "</div>"
      ],
      "text/plain": [
       "         A      B       C\n",
       "0  22734.0  334.0  5673.0\n",
       "1      NaN   56.0    55.0\n",
       "2      NaN    NaN     NaN"
      ]
     },
     "metadata": {},
     "output_type": "display_data"
    }
   ],
   "source": [
    "import numpy as np\n",
    "\n",
    "# Criando uma Df com celulas NaN\n",
    "df_nan = pd.DataFrame({'A': [22734, np.nan, np.nan],'B': [334, 56, np.nan],'C': [5673, 55, np.nan],})\n",
    "display(df_nan)"
   ]
  },
  {
   "cell_type": "code",
   "execution_count": 60,
   "id": "9f110430",
   "metadata": {},
   "outputs": [
    {
     "data": {
      "text/html": [
       "<div>\n",
       "<style scoped>\n",
       "    .dataframe tbody tr th:only-of-type {\n",
       "        vertical-align: middle;\n",
       "    }\n",
       "\n",
       "    .dataframe tbody tr th {\n",
       "        vertical-align: top;\n",
       "    }\n",
       "\n",
       "    .dataframe thead th {\n",
       "        text-align: right;\n",
       "    }\n",
       "</style>\n",
       "<table border=\"1\" class=\"dataframe\">\n",
       "  <thead>\n",
       "    <tr style=\"text-align: right;\">\n",
       "      <th></th>\n",
       "      <th>A</th>\n",
       "      <th>B</th>\n",
       "      <th>C</th>\n",
       "    </tr>\n",
       "  </thead>\n",
       "  <tbody>\n",
       "    <tr>\n",
       "      <th>0</th>\n",
       "      <td>22734.0</td>\n",
       "      <td>334.0</td>\n",
       "      <td>5673.0</td>\n",
       "    </tr>\n",
       "    <tr>\n",
       "      <th>1</th>\n",
       "      <td>NaN</td>\n",
       "      <td>56.0</td>\n",
       "      <td>55.0</td>\n",
       "    </tr>\n",
       "    <tr>\n",
       "      <th>2</th>\n",
       "      <td>NaN</td>\n",
       "      <td>NaN</td>\n",
       "      <td>NaN</td>\n",
       "    </tr>\n",
       "  </tbody>\n",
       "</table>\n",
       "</div>"
      ],
      "text/plain": [
       "         A      B       C\n",
       "0  22734.0  334.0  5673.0\n",
       "1      NaN   56.0    55.0\n",
       "2      NaN    NaN     NaN"
      ]
     },
     "execution_count": 60,
     "metadata": {},
     "output_type": "execute_result"
    }
   ],
   "source": [
    "df_nan.dropna(axis=1, thresh=0)"
   ]
  },
  {
   "cell_type": "markdown",
   "id": "c7cd61ec",
   "metadata": {},
   "source": [
    "🧶\n",
    "> O método fillna() em Pandas é usado para preencher os valores ausentes (NaN) em um DataFrame ou Série com valores específicos que você fornece.\n",
    "\n",
    "> Aprenda o df.fillna():\n",
    "https://bit.ly/45NByaN"
   ]
  },
  {
   "cell_type": "code",
   "execution_count": 41,
   "id": "d162d80c",
   "metadata": {},
   "outputs": [
    {
     "data": {
      "text/html": [
       "<div>\n",
       "<style scoped>\n",
       "    .dataframe tbody tr th:only-of-type {\n",
       "        vertical-align: middle;\n",
       "    }\n",
       "\n",
       "    .dataframe tbody tr th {\n",
       "        vertical-align: top;\n",
       "    }\n",
       "\n",
       "    .dataframe thead th {\n",
       "        text-align: right;\n",
       "    }\n",
       "</style>\n",
       "<table border=\"1\" class=\"dataframe\">\n",
       "  <thead>\n",
       "    <tr style=\"text-align: right;\">\n",
       "      <th></th>\n",
       "      <th>A</th>\n",
       "      <th>B</th>\n",
       "      <th>C</th>\n",
       "    </tr>\n",
       "  </thead>\n",
       "  <tbody>\n",
       "    <tr>\n",
       "      <th>0</th>\n",
       "      <td>22734.0</td>\n",
       "      <td>334.0</td>\n",
       "      <td>5673.0</td>\n",
       "    </tr>\n",
       "    <tr>\n",
       "      <th>1</th>\n",
       "      <td>0.0</td>\n",
       "      <td>56.0</td>\n",
       "      <td>55.0</td>\n",
       "    </tr>\n",
       "    <tr>\n",
       "      <th>2</th>\n",
       "      <td>0.0</td>\n",
       "      <td>0.0</td>\n",
       "      <td>0.0</td>\n",
       "    </tr>\n",
       "  </tbody>\n",
       "</table>\n",
       "</div>"
      ],
      "text/plain": [
       "         A      B       C\n",
       "0  22734.0  334.0  5673.0\n",
       "1      0.0   56.0    55.0\n",
       "2      0.0    0.0     0.0"
      ]
     },
     "execution_count": 41,
     "metadata": {},
     "output_type": "execute_result"
    }
   ],
   "source": [
    "df_nan.fillna(0) # Substitua os NaN por 0."
   ]
  },
  {
   "cell_type": "code",
   "execution_count": 63,
   "id": "ad95708c",
   "metadata": {},
   "outputs": [
    {
     "data": {
      "text/html": [
       "<div>\n",
       "<style scoped>\n",
       "    .dataframe tbody tr th:only-of-type {\n",
       "        vertical-align: middle;\n",
       "    }\n",
       "\n",
       "    .dataframe tbody tr th {\n",
       "        vertical-align: top;\n",
       "    }\n",
       "\n",
       "    .dataframe thead th {\n",
       "        text-align: right;\n",
       "    }\n",
       "</style>\n",
       "<table border=\"1\" class=\"dataframe\">\n",
       "  <thead>\n",
       "    <tr style=\"text-align: right;\">\n",
       "      <th></th>\n",
       "      <th>B</th>\n",
       "    </tr>\n",
       "  </thead>\n",
       "  <tbody>\n",
       "    <tr>\n",
       "      <th>0</th>\n",
       "      <td>334.0</td>\n",
       "    </tr>\n",
       "    <tr>\n",
       "      <th>1</th>\n",
       "      <td>56.0</td>\n",
       "    </tr>\n",
       "    <tr>\n",
       "      <th>2</th>\n",
       "      <td>195.0</td>\n",
       "    </tr>\n",
       "  </tbody>\n",
       "</table>\n",
       "</div>"
      ],
      "text/plain": [
       "       B\n",
       "0  334.0\n",
       "1   56.0\n",
       "2  195.0"
      ]
     },
     "execution_count": 63,
     "metadata": {},
     "output_type": "execute_result"
    }
   ],
   "source": [
    "df_nan[['B']].fillna(value=df_nan['B'].mean()) # Substitue o NaN da coluna ou linha pela média"
   ]
  },
  {
   "cell_type": "code",
   "execution_count": 65,
   "id": "cb658b0a",
   "metadata": {},
   "outputs": [
    {
     "data": {
      "text/html": [
       "<div>\n",
       "<style scoped>\n",
       "    .dataframe tbody tr th:only-of-type {\n",
       "        vertical-align: middle;\n",
       "    }\n",
       "\n",
       "    .dataframe tbody tr th {\n",
       "        vertical-align: top;\n",
       "    }\n",
       "\n",
       "    .dataframe thead th {\n",
       "        text-align: right;\n",
       "    }\n",
       "</style>\n",
       "<table border=\"1\" class=\"dataframe\">\n",
       "  <thead>\n",
       "    <tr style=\"text-align: right;\">\n",
       "      <th></th>\n",
       "      <th>A</th>\n",
       "      <th>B</th>\n",
       "      <th>C</th>\n",
       "    </tr>\n",
       "  </thead>\n",
       "  <tbody>\n",
       "    <tr>\n",
       "      <th>0</th>\n",
       "      <td>22734.0</td>\n",
       "      <td>334.0</td>\n",
       "      <td>5673.0</td>\n",
       "    </tr>\n",
       "    <tr>\n",
       "      <th>1</th>\n",
       "      <td>22734.0</td>\n",
       "      <td>56.0</td>\n",
       "      <td>55.0</td>\n",
       "    </tr>\n",
       "    <tr>\n",
       "      <th>2</th>\n",
       "      <td>22734.0</td>\n",
       "      <td>56.0</td>\n",
       "      <td>55.0</td>\n",
       "    </tr>\n",
       "  </tbody>\n",
       "</table>\n",
       "</div>"
      ],
      "text/plain": [
       "         A      B       C\n",
       "0  22734.0  334.0  5673.0\n",
       "1  22734.0   56.0    55.0\n",
       "2  22734.0   56.0    55.0"
      ]
     },
     "execution_count": 65,
     "metadata": {},
     "output_type": "execute_result"
    }
   ],
   "source": [
    "df_nan.ffill() #  preenche os valores ausentes usando o valor da célula imediatamente acima na mesma coluna."
   ]
  },
  {
   "cell_type": "code",
   "execution_count": null,
   "id": "25a27903",
   "metadata": {},
   "outputs": [],
   "source": []
  }
 ],
 "metadata": {
  "kernelspec": {
   "display_name": "Python 3 (ipykernel)",
   "language": "python",
   "name": "python3"
  },
  "language_info": {
   "codemirror_mode": {
    "name": "ipython",
    "version": 3
   },
   "file_extension": ".py",
   "mimetype": "text/x-python",
   "name": "python",
   "nbconvert_exporter": "python",
   "pygments_lexer": "ipython3",
   "version": "3.11.4"
  }
 },
 "nbformat": 4,
 "nbformat_minor": 5
}
