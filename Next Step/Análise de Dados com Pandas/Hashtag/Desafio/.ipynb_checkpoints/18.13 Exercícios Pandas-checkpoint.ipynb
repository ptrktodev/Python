{
 "cells": [
  {
   "cell_type": "markdown",
   "metadata": {},
   "source": [
    "# Exercício - Mini Projeto de Análise de Dados\n",
    "\n",
    "Vamos fazer um exercício completo de pandas para um miniprojeto de análise de dados.\n",
    "\n",
    "Esse exercício vai obrigar a gente a usar boa parte dos conhecimento de pandas e até de outros módulos que já aprendemos ao longo do curso.\n",
    "\n",
    "### O que temos?\n",
    "\n",
    "Temos os dados de 2019 de uma empresa de prestação de serviços. \n",
    "\n",
    "- CadastroFuncionarios\n",
    "- CadastroClientes\n",
    "- BaseServiçosPrestados\n",
    "\n",
    "Obs1: Para ler arquivos csv, temos o read_csv<br>\n",
    "Obs2: Para ler arquivos xlsx (arquivos em excel normais, que não são padrão csv), temos o read_exce\n",
    "\n",
    "Obs: Lembrando as opções mais usuais de encoding:<br>\n",
    "encoding='latin1', encoding='ISO-8859-1', encoding='utf-8' ou então encoding='cp1252'\n",
    "\n",
    "Observação Importante: Se o seu código der um erro na hora de importar os arquivos:<br>\n",
    "- CadastroClientes.csv\n",
    "- CadastroFuncionarios.csv\n",
    "\n",
    "Use separador \";\" (ponto e vírgula) para resolver"
   ]
  },
  {
   "cell_type": "code",
   "execution_count": 1,
   "metadata": {},
   "outputs": [],
   "source": [
    "import pandas as pd\n",
    "\n",
    "BaseServiçosPrestados = pd.read_excel('BaseServiçosPrestados.xlsx')\n",
    "CadastroClientes = pd.read_csv(r'CadastroClientes.csv', sep=';', encoding='utf-8') \n",
    "CadastroFuncionarios = pd.read_csv(r'CadastroFuncionarios.csv', sep=';', encoding='utf-8', decimal=',')"
   ]
  },
  {
   "cell_type": "markdown",
   "metadata": {},
   "source": [
    "💲 **1. Valor Total da Folha Salarial -> Qual foi o gasto total com salários de funcionários pela empresa? <br>\n",
    "    Sugestão: calcule o salário total de cada funcionário, salário + benefícios + impostos, depois some todos os salários**"
   ]
  },
  {
   "cell_type": "code",
   "execution_count": 2,
   "metadata": {},
   "outputs": [
    {
     "name": "stdout",
     "output_type": "stream",
     "text": [
      "A soma do todos Salarios Base, Impostos, Beneficios, VT e VR de todos os funcionários, totalizado igual a: 2717419.92 \n"
     ]
    }
   ],
   "source": [
    "# Passo 1: Calculando o total de cada funcionario e inseirndo numa nova coluna:\n",
    "\n",
    "CadastroFuncionarios['Impostos'] = CadastroFuncionarios['Impostos'].astype('int64')\n",
    "CadastroFuncionarios['Beneficios'] = CadastroFuncionarios['Beneficios'].astype('int64')\n",
    "CadastroFuncionarios['Gasto total'] = CadastroFuncionarios['Salario Base'] + CadastroFuncionarios['Impostos'] + CadastroFuncionarios['Beneficios'] + CadastroFuncionarios['VT'] + CadastroFuncionarios['VR']\n",
    "\n",
    "# Passo 2: calcular a soma de todos os valores na coluna 'Gasto total'.\n",
    "soma_salarios = CadastroFuncionarios['Gasto total'].sum()\n",
    "print(f\"A soma do todos Salarios Base, Impostos, Beneficios, VT e VR de todos os funcionários, totalizado igual a: {soma_salarios} \")"
   ]
  },
  {
   "cell_type": "markdown",
   "metadata": {},
   "source": [
    "💱 **2. Qual foi o faturamento da empresa?<br>\n",
    "    Sugestão: calcule o faturamento total de cada serviço e depois some o faturamento de todos**"
   ]
  },
  {
   "cell_type": "code",
   "execution_count": 37,
   "metadata": {},
   "outputs": [
    {
     "name": "stdout",
     "output_type": "stream",
     "text": [
      "O faturamento total em serviços prestados: R$5,519,160.00\n"
     ]
    }
   ],
   "source": [
    "base = BaseServiçosPrestados[['ID Cliente', 'Tempo Total de Contrato (Meses)']]\n",
    "base_completa = CadastroClientes.merge(base, on='ID Cliente')\n",
    "\n",
    "base_completa['Gasto total'] = base_completa['Valor Contrato Mensal'] * base_completa['Tempo Total de Contrato (Meses)']\n",
    "faturamento_servicos = base_completa['Gasto total'].sum()\n",
    "\n",
    "print(\"O faturamento total em serviços prestados: R${:,.2f}\".format(faturamento_servicos))"
   ]
  },
  {
   "cell_type": "markdown",
   "metadata": {},
   "source": [
    "〽️ **3. Qual o % de funcionários que já fechou algum contrato?**<br>\n",
    "> Sugestão: na base de serviços temos o funcionário que fechou cada serviço. Mas nem todos os funcionários que a empresa tem já fecharam algum serviço.<br>\n",
    "    . Na base de funcionários temos uma lista com todos os funcionários<br>\n",
    "    . Queremos calcular Qtde_Funcionarios_Fecharam_Serviço / Qtde_Funcionários_Totais<br>\n",
    "    . Para calcular a qtde de funcionários que fecharam algum serviço, use a base de serviços e conte quantos funcionários tem ali. Mas lembre-se, cada funcionário só pode ser contado uma única vez.<br><br>\n",
    "    Dica: se você aplicar o método .unique() em uma variável que é apenas 1 coluna de um dataframe, ele vai excluir todos os valores duplicados daquela coluna.<br>\n",
    "    Ex: unicos_colunaA = dataframe['colunaA'].unique() te dá como resposta uma lista com todos os itens da colunaA aparecendo uma única vez. Todos os valores repetidos da colunaA são excluidos da variável unicos_coluna"
   ]
  },
  {
   "cell_type": "code",
   "execution_count": null,
   "metadata": {},
   "outputs": [],
   "source": []
  },
  {
   "cell_type": "markdown",
   "metadata": {},
   "source": [
    "💸 **4. Calcule o total de contratos que cada área da empresa já fechou**\n",
    "> value_counts() é um método utilizado para contar a frequência de valores únicos em uma coluna de um DataFrame. "
   ]
  },
  {
   "cell_type": "code",
   "execution_count": 21,
   "metadata": {},
   "outputs": [
    {
     "name": "stdout",
     "output_type": "stream",
     "text": [
      "Area\n",
      "Administrativo    63\n",
      "Operações         48\n",
      "Comercial         44\n",
      "Financeiro        42\n",
      "Logística         40\n",
      "Name: count, dtype: int64\n"
     ]
    }
   ],
   "source": [
    "func_contratos = BaseServiçosPrestados[['ID Funcionário']].merge(CadastroFuncionarios[['ID Funcionário', 'Area']],  on='ID Funcionário') \n",
    "contratos_area_qtd = func_contratos['Area'].value_counts()\n",
    "print(contratos_area_qtd)"
   ]
  },
  {
   "cell_type": "markdown",
   "metadata": {},
   "source": [
    "🎁 **5. Calcule o total de funcionários por área**\n",
    "> value_counts() é um método utilizado para contar a frequência de valores únicos em uma coluna de um DataFrame. "
   ]
  },
  {
   "cell_type": "code",
   "execution_count": 20,
   "metadata": {},
   "outputs": [
    {
     "name": "stdout",
     "output_type": "stream",
     "text": [
      "Area\n",
      "Administrativo    26\n",
      "Comercial         26\n",
      "Operações         23\n",
      "Logística         21\n",
      "Financeiro        18\n",
      "Name: count, dtype: int64\n"
     ]
    }
   ],
   "source": [
    "total_func_area = CadastroFuncionarios['Area'].value_counts()\n",
    "print(total_func_area)"
   ]
  },
  {
   "cell_type": "markdown",
   "metadata": {},
   "source": [
    "⚡ **6. Qual o ticket médio mensal (faturamento médio mensal) dos contratos?**<br>\n",
    ">Dica: .mean() calcula a média -> exemplo: media_colunaA = dataframe['colunaA'].mean()"
   ]
  },
  {
   "cell_type": "code",
   "execution_count": 35,
   "metadata": {},
   "outputs": [
    {
     "name": "stdout",
     "output_type": "stream",
     "text": [
      "R$2,438.35\n"
     ]
    }
   ],
   "source": [
    "ticket_medio_mensal = base_completa['Valor Contrato Mensal'].mean()\n",
    "print(\"R${:,.2f}\".format(ticket_medio_mensal))"
   ]
  },
  {
   "cell_type": "code",
   "execution_count": null,
   "metadata": {},
   "outputs": [],
   "source": []
  }
 ],
 "metadata": {
  "kernelspec": {
   "display_name": "Python 3 (ipykernel)",
   "language": "python",
   "name": "python3"
  },
  "language_info": {
   "codemirror_mode": {
    "name": "ipython",
    "version": 3
   },
   "file_extension": ".py",
   "mimetype": "text/x-python",
   "name": "python",
   "nbconvert_exporter": "python",
   "pygments_lexer": "ipython3",
   "version": "3.10.12"
  }
 },
 "nbformat": 4,
 "nbformat_minor": 4
}
