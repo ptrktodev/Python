{
 "cells": [
  {
   "cell_type": "markdown",
   "id": "8d8652fd-b75e-4d7c-9b6c-e2ef7d4c14fc",
   "metadata": {},
   "source": [
    "# Vamos aprender a trabalhar com PDF usando o Python\n",
    "\n",
    "- Regra geral: PDF foi feito justamente para bloquear muita coisa, então não é fácil \"brincar\" com um pdf\n",
    "- Mesmo assim, Python tem várias bibliotecas que vão nos ajudar, vamos focar em 2:\n",
    "    - PyPDF2\n",
    "    - Tabula\n",
    "- Ler e extrair informações de um PDF a gente consegue fazer.\n",
    "- Escrever e Editar, aí já é outra história\n",
    "\n",
    "### Para os nossos exemplos, vamos avaliar o Release de Resultados do 3º e 4º Trimestre de 2020 da Magazine Luiza"
   ]
  },
  {
   "cell_type": "markdown",
   "id": "7d1257a7-71e0-4614-bc77-f6973233d2ff",
   "metadata": {},
   "source": [
    "#### 1º Objetivo: Queremos conseguir separar apenas o DRE do Release de Resultados (Página 14) para enviar para a Diretoria, como fazemos?\n",
    "    - Separar as páginas de um pdf"
   ]
  },
  {
   "cell_type": "code",
   "execution_count": 11,
   "id": "1b4fdef2-d71b-40f4-803c-066d09a3ea0e",
   "metadata": {},
   "outputs": [
    {
     "name": "stdout",
     "output_type": "stream",
     "text": [
      "24\n"
     ]
    }
   ],
   "source": [
    "import PyPDF2 as pyf\n",
    "\n",
    "nome_pdf = 'MGLU_ER_3T20_POR.pdf' # nome do arquivo/pdf que estao no mesmo local\n",
    "arq_pdf = pyf.PdfReader(nome_pdf)\n",
    "len_arq_pdf = len(arq_pdf.pages) # Tamanho do pdf (total de página)\n",
    "\n",
    "for ind, pagina in enumerate(arq_pdf.pages):\n",
    "    num_pag = ind + 1\n",
    "    new_pdf = pyf.PdfWriter()\n",
    "    new_pdf.add_pages(new_pdf)\n",
    "\n",
    "print(len_arq_pdf)"
   ]
  },
  {
   "cell_type": "code",
   "execution_count": null,
   "id": "be1b6a8c-93eb-46f9-81ba-01730d13c1dc",
   "metadata": {},
   "outputs": [],
   "source": []
  }
 ],
 "metadata": {
  "kernelspec": {
   "display_name": "Python 3 (ipykernel)",
   "language": "python",
   "name": "python3"
  },
  "language_info": {
   "codemirror_mode": {
    "name": "ipython",
    "version": 3
   },
   "file_extension": ".py",
   "mimetype": "text/x-python",
   "name": "python",
   "nbconvert_exporter": "python",
   "pygments_lexer": "ipython3",
   "version": "3.10.12"
  }
 },
 "nbformat": 4,
 "nbformat_minor": 5
}
