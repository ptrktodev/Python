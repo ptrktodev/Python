{
 "cells": [
  {
   "cell_type": "markdown",
   "id": "8d8652fd-b75e-4d7c-9b6c-e2ef7d4c14fc",
   "metadata": {},
   "source": [
    "# Vamos aprender a trabalhar com PDF usando o Python\n",
    "\n",
    "- Regra geral: PDF foi feito justamente para bloquear muita coisa, então não é fácil \"brincar\" com um pdf\n",
    "- Mesmo assim, Python tem várias bibliotecas que vão nos ajudar, vamos focar em 2:\n",
    "    - PyPDF2\n",
    "    - Tabula\n",
    "- Ler e extrair informações de um PDF a gente consegue fazer.\n",
    "- Escrever e Editar, aí já é outra história\n",
    "\n",
    "### Para os nossos exemplos, vamos avaliar o Release de Resultados do 3º e 4º Trimestre de 2020 da Magazine Luiza"
   ]
  },
  {
   "cell_type": "markdown",
   "id": "7d1257a7-71e0-4614-bc77-f6973233d2ff",
   "metadata": {},
   "source": [
    "#### 1º Objetivo: Queremos conseguir separar apenas o DRE do Release de Resultados (Página 14) para enviar para a Diretoria, como fazemos?\n",
    "    - Separar as páginas de um pdf"
   ]
  },
  {
   "cell_type": "code",
   "execution_count": 43,
   "id": "1b4fdef2-d71b-40f4-803c-066d09a3ea0e",
   "metadata": {},
   "outputs": [
    {
     "name": "stdout",
     "output_type": "stream",
     "text": [
      "Deu certo!\n"
     ]
    }
   ],
   "source": [
    "import PyPDF2 as pyf\n",
    "from pathlib import Path\n",
    "\n",
    "nome_pdf = 'MGLU_ER_3T20_POR.pdf' # nome do arquivo/pdf que esta no mesmo local\n",
    "arq_pdf = pyf.PdfReader(nome_pdf) # cria um objeto com o PDF\n",
    "len_arq_pdf = len(arq_pdf.pages) # Tamanho do pdf (total de página)\n",
    "\n",
    "for ind, pagina in enumerate(arq_pdf.pages):\n",
    "    num_pag = ind + 1\n",
    "    new_pdf = pyf.PdfWriter() # Cria um novo pdf\n",
    "    new_pdf.add_page(pagina) # add page \n",
    "    with Path(f'paginas/pdfpages/Arquivo página {num_pag}.pdf').open(mode=\"wb\") as arquivo:\n",
    "        new_pdf.write(arquivo)\n",
    "        \n",
    "print(\"Deu certo!\")"
   ]
  },
  {
   "cell_type": "markdown",
   "id": "637737d6-0c9c-4b98-9765-963e0049569c",
   "metadata": {},
   "source": [
    "- Juntar paginas soltas/avulsas em um unico pdf"
   ]
  },
  {
   "cell_type": "code",
   "execution_count": 53,
   "id": "3a11d077-c524-405e-8b78-b51478b9047c",
   "metadata": {},
   "outputs": [
    {
     "name": "stdout",
     "output_type": "stream",
     "text": [
      "NUmero de paginas do PDF principal: 11\n",
      "NUmero de paginas do PDF criado: 3\n",
      "Deu certo!\n"
     ]
    }
   ],
   "source": [
    "num_pages = [1, 7, 8]\n",
    "\n",
    "pdfCienciaDados = pyf.PdfReader('CiênciadeDados.pdf')\n",
    "\n",
    "len_pdfCienciaDados = len(pdfCienciaDados.pages)\n",
    "print(f\"NUmero de paginas do PDF principal: {len_pdfCienciaDados}\")\n",
    "\n",
    "novo_pdf = pyf.PdfWriter()\n",
    "\n",
    "for x in num_pages:\n",
    "    novo_pdf.add_page(pdfCienciaDados.pages[x - 1])\n",
    "    \n",
    "num_pages = len(novo_pdf.pages)\n",
    "print(f\"NUmero de paginas do PDF criado: {num_pages}\")\n",
    "\n",
    "with Path(\"paginas/NOVOPDF.pdf\").open(mode='wb') as arq:\n",
    "    novo_pdf.write(arq)\n",
    "\n",
    "print(\"Deu certo!\")"
   ]
  },
  {
   "cell_type": "markdown",
   "id": "e0549ba1-f843-41e9-9d36-cbbe49419536",
   "metadata": {},
   "source": [
    " - Extrair texto de uma pagina do PDF."
   ]
  },
  {
   "cell_type": "code",
   "execution_count": 52,
   "id": "2d2736f1-55fc-4649-8b2c-5570fd858589",
   "metadata": {},
   "outputs": [
    {
     "name": "stdout",
     "output_type": "stream",
     "text": [
      "Deu certo!\n"
     ]
    }
   ],
   "source": [
    "nome = 'MGLU_ER_4T20_POR.pdf'\n",
    "arq_pdf = PyPDF2.PdfReader(nome)  # Correção na importação\n",
    "\n",
    "numn_page = 2\n",
    "page = arq_pdf.pages[numn_page - 1] # obter pagina como objeto\n",
    "texto = page.extract_text() # extrair texto dessa page\n",
    "\n",
    "with open(f\"paginas/paginaTextPag{numn_page - 1}\", 'w') as arq: # excrevendo em um novo .txt na pasta paginas  \n",
    "    arq.write(texto)\n",
    "    print(\"Deu certo!\")"
   ]
  },
  {
   "cell_type": "markdown",
   "id": "3c24fe11-bbaa-4ee3-907b-40f8c1ca27c8",
   "metadata": {},
   "source": [
    "### Extra: Para adicionar todas as páginas de 2 pdfs"
   ]
  },
  {
   "cell_type": "code",
   "execution_count": 66,
   "id": "38e7f58d-7ec6-4667-9e86-45a185ab2544",
   "metadata": {},
   "outputs": [
    {
     "name": "stdout",
     "output_type": "stream",
     "text": [
      "Deu certo!\n"
     ]
    }
   ],
   "source": [
    "novo_pdf_mesclar = pyf.PdfMerger()\n",
    "\n",
    "novo_pdf_mesclar.append('CiênciadeDados.pdf')\n",
    "novo_pdf_mesclar.append('MGLU_ER_3T20_POR.pdf')\n",
    "\n",
    "len_pdfMesclado = len(novo_pdf_mesclar.pages)\n",
    "# print(len_pdfMesclado)\n",
    "\n",
    "with Path('paginas/PDF_MESCLADO.pdf').open(mode='wb') as arq:\n",
    "    novo_pdf_mesclar.write(arq)\n",
    "\n",
    "print('Deu certo!')"
   ]
  },
  {
   "cell_type": "markdown",
   "id": "ad221b60-2afe-4cec-956a-e6e99d7e5a1c",
   "metadata": {},
   "source": [
    "- Inserir pagina/arquivo pdf no meio de outro. "
   ]
  },
  {
   "cell_type": "code",
   "execution_count": 67,
   "id": "35230af4-8419-4ac6-91a3-3cfffb28f8e8",
   "metadata": {},
   "outputs": [
    {
     "name": "stdout",
     "output_type": "stream",
     "text": [
      "Deu certo!\n"
     ]
    }
   ],
   "source": [
    "pdf_mesclar = pyf.PdfMerger()\n",
    "\n",
    "pdf_mesclar.append('CiênciadeDados.pdf')\n",
    "pdf_mesclar.merge(1, 'paginas/pdfpages/Arquivo página 1.pdf') # (position, 'quem')\n",
    "\n",
    "with Path('paginas/PDF_dentroDoOutro.pdf').open(mode='wb') as arq:\n",
    "    pdf_mesclar.write(arq)\n",
    "\n",
    "print('Deu certo!')"
   ]
  },
  {
   "cell_type": "markdown",
   "id": "0f7d4f44-701b-4632-a51d-b99ca9f038f5",
   "metadata": {},
   "source": [
    "- Metadados ou infos de um PDF"
   ]
  },
  {
   "cell_type": "code",
   "execution_count": 77,
   "id": "629abb28-a96c-4cf9-bd14-3a13b836988d",
   "metadata": {},
   "outputs": [
    {
     "name": "stdout",
     "output_type": "stream",
     "text": [
      "{'/CreationDate': \"D:20221004154654-02'00'\", '/Creator': 'Adobe Illustrator 26.5 (Windows)', '/ModDate': \"D:20221004154654-03'00'\", '/Producer': 'Adobe PDF library 16.07', '/Title': '23809- Descomplica - Graduação [Ebooks Cursos] - Ciência de Dados-V7', '/Trapped': '/False'}\n"
     ]
    }
   ],
   "source": [
    "pdf_scientist = pyf.PdfReader('CiênciadeDados.pdf')\n",
    "\n",
    "len_pdf_scientist = len(pdf_scientist.pages) # total de paginas\n",
    "\n",
    "metadados = pdf_scientist.metadata\n",
    "\n",
    "print(metadados)\n",
    "\n",
    "title = metadados.title\n",
    "creator = metadados.creator\n",
    "producer = metadados.producer"
   ]
  },
  {
   "cell_type": "markdown",
   "id": "1dbc56bc-b2cd-4183-8302-49dd77f2f459",
   "metadata": {},
   "source": [
    "### Extrair imagens do PDF:"
   ]
  },
  {
   "cell_type": "code",
   "execution_count": 103,
   "id": "a3245d79-c059-419b-8d25-2abb2def906c",
   "metadata": {},
   "outputs": [],
   "source": [
    "from pikepdf import Pdf, PdfImage\n",
    "\n",
    "arquivo = Pdf.open('CiênciadeDados.pdf')\n",
    "\n",
    "n_pagina = 2\n",
    "pdfto = arquivo.pages[n_pagina - 1]\n",
    "\n",
    "for title, img in pdfto.images.items():\n",
    "    imagem_salvar = PdfImage(img)\n",
    "    imagem_salvar.extract_to(fileprefix=f\"imagens/{title}\")"
   ]
  },
  {
   "cell_type": "code",
   "execution_count": null,
   "id": "a2483ba0-e8ad-49c7-a3b5-0b7ab2578674",
   "metadata": {},
   "outputs": [],
   "source": []
  }
 ],
 "metadata": {
  "kernelspec": {
   "display_name": "Python 3 (ipykernel)",
   "language": "python",
   "name": "python3"
  },
  "language_info": {
   "codemirror_mode": {
    "name": "ipython",
    "version": 3
   },
   "file_extension": ".py",
   "mimetype": "text/x-python",
   "name": "python",
   "nbconvert_exporter": "python",
   "pygments_lexer": "ipython3",
   "version": "3.10.12"
  }
 },
 "nbformat": 4,
 "nbformat_minor": 5
}
