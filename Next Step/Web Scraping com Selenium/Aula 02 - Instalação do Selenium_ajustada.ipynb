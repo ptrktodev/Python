{
 "cells": [
  {
   "cell_type": "markdown",
   "id": "3e2dbf13",
   "metadata": {
    "id": "3e2dbf13"
   },
   "source": [
    "#### METODO:\n",
    "\n",
    "- Uma alternativa que surgiu recentemente � usar o webdriver-manager, uma outra biblioteca que faz o gerenciamento do seu chromedriver para voc�. Nesse caso, precisamos primeiro instalar o webdriver-manager\n",
    "\n",
    "```\n",
    "pip install webdriver-manager\n",
    "```\n",
    "\n",
    "- Em seguida, importamos o ChromeDriverManager e usamos ele no Servi�o do nosso Selenium, assim:"
   ]
  },
  {
   "cell_type": "code",
   "execution_count": null,
   "id": "78a513d0",
   "metadata": {
    "id": "78a513d0"
   },
   "outputs": [],
   "source": [
    "from selenium import webdriver\n",
    "from selenium.webdriver.chrome.service import Service\n",
    "from webdriver_manager.chrome import ChromeDriverManager\n",
    "\n",
    "servico = Service(ChromeDriverManager().install())\n",
    "navegador = webdriver.Chrome(service=servico)"
   ]
  }
 ],
 "metadata": {
  "colab": {
   "collapsed_sections": [],
   "name": "Aula 01 - Instala��o do Selenium.ipynb",
   "provenance": []
  },
  "kernelspec": {
   "display_name": "Python 3 (ipykernel)",
   "language": "python",
   "name": "python3"
  },
  "language_info": {
   "codemirror_mode": {
    "name": "ipython",
    "version": 3
   },
   "file_extension": ".py",
   "mimetype": "text/x-python",
   "name": "python",
   "nbconvert_exporter": "python",
   "pygments_lexer": "ipython3",
   "version": "3.10.12"
  }
 },
 "nbformat": 4,
 "nbformat_minor": 5
}
