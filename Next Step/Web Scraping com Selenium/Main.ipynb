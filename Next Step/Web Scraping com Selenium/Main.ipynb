{
 "cells": [
  {
   "cell_type": "markdown",
   "id": "a049dc72-1baa-4713-99cb-058ca9d6ab36",
   "metadata": {},
   "source": [
    "**INSTALAÇÃO WEBDRIVER DO SELENIUM**\n",
    "- Metodo que permite a instalação automática e compatível com a versão do ChromeDriver de forma automática.\n",
    "> !pip install selenium"
   ]
  },
  {
   "cell_type": "code",
   "execution_count": 13,
   "id": "f9b2fe56-7909-4bbb-873d-697b5b21c11d",
   "metadata": {},
   "outputs": [
    {
     "name": "stdin",
     "output_type": "stream",
     "text": [
      "Cancele a operação:  hfgh\n"
     ]
    }
   ],
   "source": [
    "# CODIGO ABAIXO PADRÃO\n",
    "\n",
    "from selenium import webdriver # importando o módulo webdriver da biblioteca Selenium.\n",
    "from webdriver_manager.chrome import ChromeDriverManager  # importando a classe ChromeDriverManager do módulo webdriver_manager.chrome.\n",
    "from selenium.webdriver.chrome.service import Service # Importa a classe Service do módulo selenium.webdriver.chrome.service. Usada para configurar o serviço do ChromeDriver, que é responsável por iniciar e controlar a instância do ChromeDriver.\n",
    "from selenium.webdriver.common.by import By # usada para selecionar elementos HTML em uma página da web usando diferentes estratégias de localização, como por ID, nome, classe, seletor CSS, entre outros.\n",
    "import time\n",
    "\n",
    "servico = Service(ChromeDriverManager().install()) # obtendo automaticamente o local e a versão corretos do ChromeDriver usando o ChromeDriverManager e passando essas informações para o serviço do ChromeDriver.\n",
    "navegador = webdriver.Chrome(service=servico) #  criando uma instância do navegador Chrome usando a classe webdriver.Chrome. O navegador será controlado pelo ChromeDriver configurado anteriormente.\n",
    "\n",
    "# ------------------------------------------------------------------------------\n",
    "\n",
    "link = \" https://www.hashtagtreinamentos.com/\" \n",
    "navegador.get(link) # Acessar/Abrir um site Web \n",
    "\n",
    "\n",
    "while len(navegador.find_elements(By.CLASS_NAME, 'eicon-close')) < 1:\n",
    "    time.sleep(1)\n",
    "time.sleep(1)\n",
    "\n",
    "navegador.find_element(By.CLASS_NAME, 'eicon-close').click()\n",
    "\n",
    "\n",
    "x = input('Cancele a operação: ') "
   ]
  },
  {
   "cell_type": "code",
   "execution_count": null,
   "id": "164cee63-b628-45b8-acfe-8d288df53625",
   "metadata": {},
   "outputs": [],
   "source": []
  }
 ],
 "metadata": {
  "kernelspec": {
   "display_name": "Python 3 (ipykernel)",
   "language": "python",
   "name": "python3"
  },
  "language_info": {
   "codemirror_mode": {
    "name": "ipython",
    "version": 3
   },
   "file_extension": ".py",
   "mimetype": "text/x-python",
   "name": "python",
   "nbconvert_exporter": "python",
   "pygments_lexer": "ipython3",
   "version": "3.10.12"
  }
 },
 "nbformat": 4,
 "nbformat_minor": 5
}
